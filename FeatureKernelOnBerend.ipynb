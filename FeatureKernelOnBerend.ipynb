{
  "nbformat": 4,
  "nbformat_minor": 0,
  "metadata": {
    "colab": {
      "name": "FeatureKernelOnBerend.ipynb",
      "provenance": [],
      "collapsed_sections": [],
      "toc_visible": true,
      "authorship_tag": "ABX9TyMUw/Xpn0f1IuNoodY5xgl0",
      "include_colab_link": true
    },
    "kernelspec": {
      "name": "python3",
      "display_name": "Python 3"
    },
    "widgets": {
      "application/vnd.jupyter.widget-state+json": {
        "f47be88ca8b44332adf429b28d048f34": {
          "model_module": "@jupyter-widgets/controls",
          "model_name": "HBoxModel",
          "state": {
            "_view_name": "HBoxView",
            "_dom_classes": [],
            "_model_name": "HBoxModel",
            "_view_module": "@jupyter-widgets/controls",
            "_model_module_version": "1.5.0",
            "_view_count": null,
            "_view_module_version": "1.5.0",
            "box_style": "",
            "layout": "IPY_MODEL_0a16d71b10484463bc8c65fd0b6f8e02",
            "_model_module": "@jupyter-widgets/controls",
            "children": [
              "IPY_MODEL_ac3466e5a0764b69841d572854a68312",
              "IPY_MODEL_4e21772baf2442979e9d765bad7d1113"
            ]
          }
        },
        "0a16d71b10484463bc8c65fd0b6f8e02": {
          "model_module": "@jupyter-widgets/base",
          "model_name": "LayoutModel",
          "state": {
            "_view_name": "LayoutView",
            "grid_template_rows": null,
            "right": null,
            "justify_content": null,
            "_view_module": "@jupyter-widgets/base",
            "overflow": null,
            "_model_module_version": "1.2.0",
            "_view_count": null,
            "flex_flow": null,
            "width": null,
            "min_width": null,
            "border": null,
            "align_items": null,
            "bottom": null,
            "_model_module": "@jupyter-widgets/base",
            "top": null,
            "grid_column": null,
            "overflow_y": null,
            "overflow_x": null,
            "grid_auto_flow": null,
            "grid_area": null,
            "grid_template_columns": null,
            "flex": null,
            "_model_name": "LayoutModel",
            "justify_items": null,
            "grid_row": null,
            "max_height": null,
            "align_content": null,
            "visibility": null,
            "align_self": null,
            "height": null,
            "min_height": null,
            "padding": null,
            "grid_auto_rows": null,
            "grid_gap": null,
            "max_width": null,
            "order": null,
            "_view_module_version": "1.2.0",
            "grid_template_areas": null,
            "object_position": null,
            "object_fit": null,
            "grid_auto_columns": null,
            "margin": null,
            "display": null,
            "left": null
          }
        },
        "ac3466e5a0764b69841d572854a68312": {
          "model_module": "@jupyter-widgets/controls",
          "model_name": "FloatProgressModel",
          "state": {
            "_view_name": "ProgressView",
            "style": "IPY_MODEL_236d81134e2d41428c5f31dafa6ec05e",
            "_dom_classes": [],
            "description": "100%",
            "_model_name": "FloatProgressModel",
            "bar_style": "success",
            "max": 244418560,
            "_view_module": "@jupyter-widgets/controls",
            "_model_module_version": "1.5.0",
            "value": 244418560,
            "_view_count": null,
            "_view_module_version": "1.5.0",
            "orientation": "horizontal",
            "min": 0,
            "description_tooltip": null,
            "_model_module": "@jupyter-widgets/controls",
            "layout": "IPY_MODEL_72bf5d72b35549a9918b82931edb4935"
          }
        },
        "4e21772baf2442979e9d765bad7d1113": {
          "model_module": "@jupyter-widgets/controls",
          "model_name": "HTMLModel",
          "state": {
            "_view_name": "HTMLView",
            "style": "IPY_MODEL_7dc98091e53d4ce0ba1a52f1227ef9af",
            "_dom_classes": [],
            "description": "",
            "_model_name": "HTMLModel",
            "placeholder": "​",
            "_view_module": "@jupyter-widgets/controls",
            "_model_module_version": "1.5.0",
            "value": " 233M/233M [27:25&lt;00:00, 149kB/s]",
            "_view_count": null,
            "_view_module_version": "1.5.0",
            "description_tooltip": null,
            "_model_module": "@jupyter-widgets/controls",
            "layout": "IPY_MODEL_da96b114251a4cd48a4f5454033db1a9"
          }
        },
        "236d81134e2d41428c5f31dafa6ec05e": {
          "model_module": "@jupyter-widgets/controls",
          "model_name": "ProgressStyleModel",
          "state": {
            "_view_name": "StyleView",
            "_model_name": "ProgressStyleModel",
            "description_width": "initial",
            "_view_module": "@jupyter-widgets/base",
            "_model_module_version": "1.5.0",
            "_view_count": null,
            "_view_module_version": "1.2.0",
            "bar_color": null,
            "_model_module": "@jupyter-widgets/controls"
          }
        },
        "72bf5d72b35549a9918b82931edb4935": {
          "model_module": "@jupyter-widgets/base",
          "model_name": "LayoutModel",
          "state": {
            "_view_name": "LayoutView",
            "grid_template_rows": null,
            "right": null,
            "justify_content": null,
            "_view_module": "@jupyter-widgets/base",
            "overflow": null,
            "_model_module_version": "1.2.0",
            "_view_count": null,
            "flex_flow": null,
            "width": null,
            "min_width": null,
            "border": null,
            "align_items": null,
            "bottom": null,
            "_model_module": "@jupyter-widgets/base",
            "top": null,
            "grid_column": null,
            "overflow_y": null,
            "overflow_x": null,
            "grid_auto_flow": null,
            "grid_area": null,
            "grid_template_columns": null,
            "flex": null,
            "_model_name": "LayoutModel",
            "justify_items": null,
            "grid_row": null,
            "max_height": null,
            "align_content": null,
            "visibility": null,
            "align_self": null,
            "height": null,
            "min_height": null,
            "padding": null,
            "grid_auto_rows": null,
            "grid_gap": null,
            "max_width": null,
            "order": null,
            "_view_module_version": "1.2.0",
            "grid_template_areas": null,
            "object_position": null,
            "object_fit": null,
            "grid_auto_columns": null,
            "margin": null,
            "display": null,
            "left": null
          }
        },
        "7dc98091e53d4ce0ba1a52f1227ef9af": {
          "model_module": "@jupyter-widgets/controls",
          "model_name": "DescriptionStyleModel",
          "state": {
            "_view_name": "StyleView",
            "_model_name": "DescriptionStyleModel",
            "description_width": "",
            "_view_module": "@jupyter-widgets/base",
            "_model_module_version": "1.5.0",
            "_view_count": null,
            "_view_module_version": "1.2.0",
            "_model_module": "@jupyter-widgets/controls"
          }
        },
        "da96b114251a4cd48a4f5454033db1a9": {
          "model_module": "@jupyter-widgets/base",
          "model_name": "LayoutModel",
          "state": {
            "_view_name": "LayoutView",
            "grid_template_rows": null,
            "right": null,
            "justify_content": null,
            "_view_module": "@jupyter-widgets/base",
            "overflow": null,
            "_model_module_version": "1.2.0",
            "_view_count": null,
            "flex_flow": null,
            "width": null,
            "min_width": null,
            "border": null,
            "align_items": null,
            "bottom": null,
            "_model_module": "@jupyter-widgets/base",
            "top": null,
            "grid_column": null,
            "overflow_y": null,
            "overflow_x": null,
            "grid_auto_flow": null,
            "grid_area": null,
            "grid_template_columns": null,
            "flex": null,
            "_model_name": "LayoutModel",
            "justify_items": null,
            "grid_row": null,
            "max_height": null,
            "align_content": null,
            "visibility": null,
            "align_self": null,
            "height": null,
            "min_height": null,
            "padding": null,
            "grid_auto_rows": null,
            "grid_gap": null,
            "max_width": null,
            "order": null,
            "_view_module_version": "1.2.0",
            "grid_template_areas": null,
            "object_position": null,
            "object_fit": null,
            "grid_auto_columns": null,
            "margin": null,
            "display": null,
            "left": null
          }
        }
      }
    }
  },
  "cells": [
    {
      "cell_type": "markdown",
      "metadata": {
        "id": "view-in-github",
        "colab_type": "text"
      },
      "source": [
        "<a href=\"https://colab.research.google.com/github/albogdan/aps360-project/blob/master/FeatureKernelOnBerend.ipynb\" target=\"_parent\"><img src=\"https://colab.research.google.com/assets/colab-badge.svg\" alt=\"Open In Colab\"/></a>"
      ]
    },
    {
      "cell_type": "markdown",
      "metadata": {
        "id": "L-25K7JuV9P1",
        "colab_type": "text"
      },
      "source": [
        "# Imports"
      ]
    },
    {
      "cell_type": "code",
      "metadata": {
        "id": "fRK27vuZWCSA",
        "colab_type": "code",
        "colab": {}
      },
      "source": [
        "import numpy as np\n",
        "import matplotlib.pyplot as plt\n",
        "import torch\n",
        "import torch.nn as nn\n",
        "import torch.nn.functional as F\n",
        "import torch.optim as optim\n",
        "from torchvision import datasets, models, transforms\n",
        "from torchsummary import summary\n",
        "import os\n",
        "import time"
      ],
      "execution_count": null,
      "outputs": []
    },
    {
      "cell_type": "markdown",
      "metadata": {
        "id": "jBXeECcLWIDN",
        "colab_type": "text"
      },
      "source": [
        "# Load Data"
      ]
    },
    {
      "cell_type": "code",
      "metadata": {
        "id": "I28lAlJvWMGI",
        "colab_type": "code",
        "colab": {
          "base_uri": "https://localhost:8080/",
          "height": 124
        },
        "outputId": "314721b8-316a-4e9b-947f-624d28aeaec3"
      },
      "source": [
        "from google.colab import drive\n",
        "drive.mount('/content/drive')"
      ],
      "execution_count": null,
      "outputs": [
        {
          "output_type": "stream",
          "text": [
            "Go to this URL in a browser: https://accounts.google.com/o/oauth2/auth?client_id=947318989803-6bn6qk8qdgf4n4g3pfee6491hc0brc4i.apps.googleusercontent.com&redirect_uri=urn%3aietf%3awg%3aoauth%3a2.0%3aoob&response_type=code&scope=email%20https%3a%2f%2fwww.googleapis.com%2fauth%2fdocs.test%20https%3a%2f%2fwww.googleapis.com%2fauth%2fdrive%20https%3a%2f%2fwww.googleapis.com%2fauth%2fdrive.photos.readonly%20https%3a%2f%2fwww.googleapis.com%2fauth%2fpeopleapi.readonly\n",
            "\n",
            "Enter your authorization code:\n",
            "··········\n",
            "Mounted at /content/drive\n"
          ],
          "name": "stdout"
        }
      ]
    },
    {
      "cell_type": "code",
      "metadata": {
        "id": "W_0ybowiWOV7",
        "colab_type": "code",
        "colab": {}
      },
      "source": [
        "if os.path.exists(os.path.expanduser('~/data')):\n",
        "  !rm -rf {os.path.expanduser('~/data')}\n",
        "!unzip '/content/drive/My Drive/APS360 Project/share/BerendImages/mayacaptures.zip' -d {os.path.expanduser('~/data')}"
      ],
      "execution_count": null,
      "outputs": []
    },
    {
      "cell_type": "code",
      "metadata": {
        "id": "ClaEa4QVW2zq",
        "colab_type": "code",
        "colab": {}
      },
      "source": [
        "# Transform Settings - resize all images to 224 x 224\n",
        "data_transform = transforms.Compose([transforms.Resize((224,224)), \n",
        "                                     transforms.Grayscale(num_output_channels=3),\n",
        "                                      transforms.ToTensor()])\n",
        "\n",
        "# define dataloader parameters\n",
        "num_workers = 4\n",
        "batch_size = 1\n",
        "\n",
        "# get dataset\n",
        "image_set = datasets.ImageFolder(os.path.expanduser('~/data'), transform=data_transform)\n",
        "\n",
        "# put data inside loader\n",
        "loader = torch.utils.data.DataLoader(image_set, batch_size=batch_size, \n",
        "                                        num_workers=num_workers, shuffle=False)\n"
      ],
      "execution_count": null,
      "outputs": []
    },
    {
      "cell_type": "code",
      "metadata": {
        "id": "agJzF066W4UM",
        "colab_type": "code",
        "colab": {
          "base_uri": "https://localhost:8080/",
          "height": 72
        },
        "outputId": "42824617-a6be-46ae-9c56-5d4838cd07c3"
      },
      "source": [
        "print(image_set.class_to_idx)\n",
        "classes = os.listdir(os.path.expanduser('~/data'))\n",
        "classes.sort()\n",
        "classes = classes[:]\n",
        "print(classes)"
      ],
      "execution_count": null,
      "outputs": [
        {
          "output_type": "stream",
          "text": [
            "{'11211': 0, '15571': 1, '22388': 2, '2456': 3, '3007': 4, '3008': 5, '3009': 6, '30136': 7, '3044c': 8, '3062b': 9, '35464': 10, '3660': 11, '3665': 12, '3941': 13, '4070': 14, '42023': 15, '4589b': 16, '4727': 17, '4733': 18, '50950': 19, '6111': 20, '6232': 21, '6249': 22, '6541': 23, '87081': 24, '87087': 25, '98100': 26}\n",
            "['11211', '15571', '22388', '2456', '3007', '3008', '3009', '30136', '3044c', '3062b', '35464', '3660', '3665', '3941', '4070', '42023', '4589b', '4727', '4733', '50950', '6111', '6232', '6249', '6541', '87081', '87087', '98100']\n"
          ],
          "name": "stdout"
        }
      ]
    },
    {
      "cell_type": "markdown",
      "metadata": {
        "id": "qeVoRa_QWwcy",
        "colab_type": "text"
      },
      "source": [
        "# Getting features"
      ]
    },
    {
      "cell_type": "code",
      "metadata": {
        "id": "h7omx31YWv03",
        "colab_type": "code",
        "colab": {
          "base_uri": "https://localhost:8080/",
          "height": 104,
          "referenced_widgets": [
            "f47be88ca8b44332adf429b28d048f34",
            "0a16d71b10484463bc8c65fd0b6f8e02",
            "ac3466e5a0764b69841d572854a68312",
            "4e21772baf2442979e9d765bad7d1113",
            "236d81134e2d41428c5f31dafa6ec05e",
            "72bf5d72b35549a9918b82931edb4935",
            "7dc98091e53d4ce0ba1a52f1227ef9af",
            "da96b114251a4cd48a4f5454033db1a9"
          ]
        },
        "outputId": "2ee4e331-3bb9-4b86-8a18-d70bee6932c2"
      },
      "source": [
        "import torchvision.models\n",
        "alexnet = torchvision.models.alexnet(pretrained=True)"
      ],
      "execution_count": null,
      "outputs": [
        {
          "output_type": "stream",
          "text": [
            "Downloading: \"https://download.pytorch.org/models/alexnet-owt-4df8aa71.pth\" to /root/.cache/torch/checkpoints/alexnet-owt-4df8aa71.pth\n"
          ],
          "name": "stderr"
        },
        {
          "output_type": "display_data",
          "data": {
            "application/vnd.jupyter.widget-view+json": {
              "model_id": "f47be88ca8b44332adf429b28d048f34",
              "version_minor": 0,
              "version_major": 2
            },
            "text/plain": [
              "HBox(children=(FloatProgress(value=0.0, max=244418560.0), HTML(value='')))"
            ]
          },
          "metadata": {
            "tags": []
          }
        },
        {
          "output_type": "stream",
          "text": [
            "\n"
          ],
          "name": "stdout"
        }
      ]
    },
    {
      "cell_type": "code",
      "metadata": {
        "id": "eI7HPb47XCyz",
        "colab_type": "code",
        "colab": {}
      },
      "source": [
        "feature_root_path = os.path.expanduser('~/feature')\n",
        "for i in classes:\n",
        "  path = os.path.join(feature_root_path, i)\n",
        "  if not os.path.exists(path):\n",
        "    !mkdir -p {path}"
      ],
      "execution_count": null,
      "outputs": []
    },
    {
      "cell_type": "code",
      "metadata": {
        "id": "ElMS-UacXAP3",
        "colab_type": "code",
        "colab": {}
      },
      "source": [
        "# generate and save feature maps\n",
        "i = 0\n",
        "for img, label in loader:\n",
        "  features = alexnet.features(img)\n",
        "  features_tensor = torch.from_numpy(features.detach().numpy())\n",
        "  features_folder_path = os.path.join(feature_root_path, classes[label])\n",
        "  feature_path = os.path.join(features_folder_path, \"{}.tensor\".format(i))\n",
        "  torch.save(features_tensor.squeeze(0), feature_path)\n",
        "  i += 1\n",
        "  print(\"saved {} images\".format(i))"
      ],
      "execution_count": null,
      "outputs": []
    },
    {
      "cell_type": "code",
      "metadata": {
        "id": "_PpzjOFVXOYn",
        "colab_type": "code",
        "colab": {}
      },
      "source": [
        "!zip feature.zip -r {feature_root_path}"
      ],
      "execution_count": null,
      "outputs": []
    },
    {
      "cell_type": "markdown",
      "metadata": {
        "id": "w5hLA6Vhh1o8",
        "colab_type": "text"
      },
      "source": [
        "# training code"
      ]
    },
    {
      "cell_type": "code",
      "metadata": {
        "id": "gIx20myuh1Ct",
        "colab_type": "code",
        "colab": {}
      },
      "source": [
        "def get_model_name(name, batch_size, learning_rate, epoch):\n",
        "    path = \"model_{0}_bs{1}_lr{2}_epoch{3}\".format(name,\n",
        "                                                   batch_size,\n",
        "                                                   learning_rate,\n",
        "                                                   epoch)\n",
        "    return path\n",
        "\n",
        "def evaluate(model, loader, criterion):\n",
        "  total_loss = 0.0\n",
        "  correct = 0\n",
        "  total = 0\n",
        "  model.eval()\n",
        "  with torch.no_grad():\n",
        "    for i, data in enumerate(loader, 0):\n",
        "      imgs, labels = data\n",
        "      if use_cuda and torch.cuda.is_available():\n",
        "        imgs = imgs.cuda()\n",
        "        labels = labels.cuda()\n",
        "      output = model(imgs)\n",
        "\n",
        "      # select index with maximum prediction score\n",
        "      pred = output.max(1, keepdim = True)[1]\n",
        "      correct += pred.eq(labels.view_as(pred)).sum().item()\n",
        "      total += imgs.shape[0]\n",
        "      total_loss += criterion(output, labels).item()\n",
        "  return 1 - correct/total, total_loss\n",
        "\n",
        "def plot_training_curve(path):\n",
        "  \"\"\" Plots the training curve for a model run, given the csv files\n",
        "  containing the train/validation error/loss.\n",
        "\n",
        "  Args:\n",
        "      path: The base path of the csv files produced during training\n",
        "  \"\"\"\n",
        "  import matplotlib.pyplot as plt\n",
        "  train_err = np.loadtxt(\"{}_train_err.csv\".format(path))\n",
        "  val_err = np.loadtxt(\"{}_val_err.csv\".format(path))\n",
        "  train_loss = np.loadtxt(\"{}_train_loss.csv\".format(path))\n",
        "  val_loss = np.loadtxt(\"{}_val_loss.csv\".format(path))\n",
        "  plt.title(\"Train vs Validation Error\")\n",
        "  n = len(train_err) # number of epochs\n",
        "  plt.plot(range(1,n+1), train_err, label=\"Train\")\n",
        "  plt.plot(range(1,n+1), val_err, label=\"Validation\")\n",
        "  plt.xlabel(\"Epoch\")\n",
        "  plt.ylabel(\"Error\")\n",
        "  plt.legend(loc='best')\n",
        "  plt.show()\n",
        "  plt.title(\"Train vs Validation Loss\")\n",
        "  plt.plot(range(1,n+1), train_loss, label=\"Train\")\n",
        "  plt.plot(range(1,n+1), val_loss, label=\"Validation\")\n",
        "  plt.xlabel(\"Epoch\")\n",
        "  plt.ylabel(\"Loss\")\n",
        "  plt.legend(loc='best')\n",
        "  plt.show()"
      ],
      "execution_count": null,
      "outputs": []
    },
    {
      "cell_type": "code",
      "metadata": {
        "id": "i7n3032zh4Jj",
        "colab_type": "code",
        "colab": {}
      },
      "source": [
        "def transfer_train(model, batch_size = 32, num_epochs = 10, lr = 0.003, wd = 1e-5):\n",
        "  torch.manual_seed(360)\n",
        "\n",
        "  train_loader, val_loader, test_loader = feature_loader(feature_root_path, 0.6, 0.2, batch_size)\n",
        "\n",
        "  # Initialize containers for error and loss\n",
        "  train_err, train_loss, val_err, val_loss = [], [], [], []\n",
        "\n",
        "  # set up optimizer\n",
        "  criterion = nn.CrossEntropyLoss()\n",
        "  optimizer = optim.Adam(model.parameters(), lr = lr, \n",
        "                                 weight_decay=wd)\n",
        "\n",
        "  start_time = time.time()\n",
        "\n",
        "  for epoch in range(num_epochs):\n",
        "    epoch_total = 0\n",
        "    epoch_correct = 0\n",
        "    epoch_loss = 0\n",
        "    model.train()\n",
        "    for feature, labels in iter(train_loader):\n",
        "\n",
        "      # Enable GPU\n",
        "      if use_cuda and torch.cuda.is_available():\n",
        "        feature = feature.cuda()\n",
        "        labels = labels.cuda()\n",
        "      \n",
        "      # zero parameter gradients\n",
        "      optimizer.zero_grad()\n",
        "\n",
        "      # forward pass, backward pass, and optimize\n",
        "      out = model(feature)\n",
        "      loss = criterion(out, labels)\n",
        "      loss.backward()\n",
        "      optimizer.step()\n",
        "      \n",
        "      # mini batch statistics\n",
        "      pred = out.max(1, keepdim = True)[1]\n",
        "      epoch_correct += pred.eq(labels.view_as(pred)).sum().item()\n",
        "      epoch_total += feature.shape[0]\n",
        "      epoch_loss += loss.item()\n",
        "    train_err.append(1 - (epoch_correct / epoch_total))\n",
        "    train_loss.append(epoch_loss)\n",
        "    a, b = evaluate(model, val_loader, criterion)\n",
        "    val_err.append(a)\n",
        "    val_loss.append(b)\n",
        "    \n",
        "    print (\"Epoch %d Finished. \" % epoch ,\"Time per Epoch: % 6.2f s \"% ((time.time()-start_time) / (epoch +1)))\n",
        "    print (\"train err: {:.4f}, train loss: {:.4f}\".format(train_err[epoch], train_loss[epoch]))\n",
        "    print (\"validation err: {:.4f}, validation loss: {:.4f}\".format(a, b))\n",
        "\n",
        "    # save the current model state\n",
        "    model_path = get_model_name(model.name, batch_size, lr, epoch)\n",
        "    torch.save(model.state_dict(), model_path)\n",
        "  \n",
        "  print('Finished training in %6.2f s' % (time.time()-start_time))\n",
        "  np.savetxt(\"{}_train_err.csv\".format(model_path), train_err)\n",
        "  np.savetxt(\"{}_train_loss.csv\".format(model_path), train_loss)\n",
        "  np.savetxt(\"{}_val_err.csv\".format(model_path), val_err)\n",
        "  np.savetxt(\"{}_val_loss.csv\".format(model_path), val_loss)\n"
      ],
      "execution_count": null,
      "outputs": []
    },
    {
      "cell_type": "markdown",
      "metadata": {
        "id": "nqhjqN7xhcwp",
        "colab_type": "text"
      },
      "source": [
        "# training classifier"
      ]
    },
    {
      "cell_type": "code",
      "metadata": {
        "id": "UCbNtYtIhfiJ",
        "colab_type": "code",
        "colab": {}
      },
      "source": [
        "# function to load features\n",
        "def feature_loader(feature_root_path, train_p, val_p, batch_size = 32):\n",
        "  dataset = torchvision.datasets.DatasetFolder(feature_root_path,\\\n",
        "                                                 loader = torch.load, extensions = ('.tensor'))\n",
        "\n",
        "  split = [int(train_p * len(dataset)), int(val_p * len(dataset))]\n",
        "  split.append(len(dataset) - split[1] - split[0])\n",
        "\n",
        "  train_set, val_set, test_set = torch.utils.data.random_split(dataset, split)\n",
        "  num_workers = 4\n",
        "\n",
        "  train_loader = torch.utils.data.DataLoader(train_set, batch_size=batch_size,\n",
        "                                             num_workers = num_workers, shuffle = True)\n",
        "  val_loader = torch.utils.data.DataLoader(val_set, batch_size=batch_size,\n",
        "                                             num_workers = num_workers, shuffle = True)\n",
        "  test_loader = torch.utils.data.DataLoader(test_set, batch_size=batch_size,\n",
        "                                             num_workers = num_workers, shuffle = True)\n",
        "  return train_loader, val_loader, test_loader"
      ],
      "execution_count": null,
      "outputs": []
    },
    {
      "cell_type": "code",
      "metadata": {
        "id": "8QBfLAsKhriX",
        "colab_type": "code",
        "colab": {
          "base_uri": "https://localhost:8080/",
          "height": 312
        },
        "outputId": "195404a5-5c51-481c-9ee8-d92e65880a1b"
      },
      "source": [
        "class TransferLearningNetDp3(nn.Module):\n",
        "  def __init__(self, p=0.0):\n",
        "    super(TransferLearningNetDp3, self).__init__()\n",
        "    self.name = \"tNetDp3\"\n",
        "    self.fc1 = nn.Linear(256*6*6, 3600)\n",
        "    self.fc2 = nn.Linear(3600, 1200)\n",
        "    self.fc3 = nn.Linear(1200, 50)\n",
        "    self.dropout = nn.Dropout(p=p)\n",
        "  \n",
        "  def forward(self, x):\n",
        "    x = x.view(-1, 256*6*6)\n",
        "    x = F.leaky_relu(self.fc1(x))\n",
        "    x = F.leaky_relu(self.fc2(x))\n",
        "    x = self.fc3(x)\n",
        "    x = self.dropout(x)\n",
        "    return x\n",
        "\n",
        "tNet = TransferLearningNetDp3()\n",
        "summary(tNet, (256,6,6), device='cpu')"
      ],
      "execution_count": null,
      "outputs": [
        {
          "output_type": "stream",
          "text": [
            "----------------------------------------------------------------\n",
            "        Layer (type)               Output Shape         Param #\n",
            "================================================================\n",
            "            Linear-1                 [-1, 3600]      33,181,200\n",
            "            Linear-2                 [-1, 1200]       4,321,200\n",
            "            Linear-3                   [-1, 50]          60,050\n",
            "           Dropout-4                   [-1, 50]               0\n",
            "================================================================\n",
            "Total params: 37,562,450\n",
            "Trainable params: 37,562,450\n",
            "Non-trainable params: 0\n",
            "----------------------------------------------------------------\n",
            "Input size (MB): 0.04\n",
            "Forward/backward pass size (MB): 0.04\n",
            "Params size (MB): 143.29\n",
            "Estimated Total Size (MB): 143.36\n",
            "----------------------------------------------------------------\n"
          ],
          "name": "stdout"
        }
      ]
    },
    {
      "cell_type": "code",
      "metadata": {
        "id": "D9ciHtb0iAJV",
        "colab_type": "code",
        "colab": {
          "base_uri": "https://localhost:8080/",
          "height": 1000
        },
        "outputId": "c8da02c1-d9d4-444c-e5dd-9321d4e1211b"
      },
      "source": [
        "#Training with larger batch size\n",
        "use_cuda = False\n",
        "tNetDp = TransferLearningNetDp3(0.3)\n",
        "transfer_train(tNetDp, batch_size=500, num_epochs=100, lr=0.001)"
      ],
      "execution_count": 16,
      "outputs": [
        {
          "output_type": "stream",
          "text": [
            "Epoch 0 Finished.  Time per Epoch:  48.20 s \n",
            "train err: 0.7268, train loss: 76.1775\n",
            "validation err: 0.4113, validation loss: 11.5245\n",
            "Epoch 1 Finished.  Time per Epoch:  48.38 s \n",
            "train err: 0.4781, train loss: 44.7274\n",
            "validation err: 0.2616, validation loss: 6.9607\n",
            "Epoch 2 Finished.  Time per Epoch:  48.36 s \n",
            "train err: 0.4241, train loss: 38.3777\n",
            "validation err: 0.2403, validation loss: 6.0227\n",
            "Epoch 3 Finished.  Time per Epoch:  48.64 s \n",
            "train err: 0.3891, train loss: 34.5589\n",
            "validation err: 0.1968, validation loss: 4.8100\n",
            "Epoch 4 Finished.  Time per Epoch:  48.61 s \n",
            "train err: 0.3841, train loss: 33.2669\n",
            "validation err: 0.1944, validation loss: 4.8045\n",
            "Epoch 5 Finished.  Time per Epoch:  48.87 s \n",
            "train err: 0.3819, train loss: 32.4709\n",
            "validation err: 0.1708, validation loss: 4.1915\n",
            "Epoch 6 Finished.  Time per Epoch:  48.88 s \n",
            "train err: 0.3610, train loss: 30.6357\n",
            "validation err: 0.1884, validation loss: 4.7932\n",
            "Epoch 7 Finished.  Time per Epoch:  49.07 s \n",
            "train err: 0.3698, train loss: 30.9211\n",
            "validation err: 0.1523, validation loss: 3.7950\n",
            "Epoch 8 Finished.  Time per Epoch:  49.07 s \n",
            "train err: 0.3545, train loss: 29.3539\n",
            "validation err: 0.1574, validation loss: 3.8378\n",
            "Epoch 9 Finished.  Time per Epoch:  49.21 s \n",
            "train err: 0.3394, train loss: 27.6550\n",
            "validation err: 0.1470, validation loss: 3.5878\n",
            "Epoch 10 Finished.  Time per Epoch:  49.23 s \n",
            "train err: 0.3505, train loss: 28.3622\n",
            "validation err: 0.1653, validation loss: 4.3734\n",
            "Epoch 11 Finished.  Time per Epoch:  49.39 s \n",
            "train err: 0.3398, train loss: 27.3474\n",
            "validation err: 0.1433, validation loss: 3.5869\n",
            "Epoch 12 Finished.  Time per Epoch:  49.49 s \n",
            "train err: 0.3366, train loss: 26.8162\n",
            "validation err: 0.1530, validation loss: 4.0705\n",
            "Epoch 13 Finished.  Time per Epoch:  49.67 s \n",
            "train err: 0.3421, train loss: 27.1106\n",
            "validation err: 0.1630, validation loss: 4.1590\n",
            "Epoch 14 Finished.  Time per Epoch:  49.86 s \n",
            "train err: 0.3355, train loss: 26.7001\n",
            "validation err: 0.1625, validation loss: 4.2711\n",
            "Epoch 15 Finished.  Time per Epoch:  49.98 s \n",
            "train err: 0.3247, train loss: 25.7276\n",
            "validation err: 0.1361, validation loss: 3.6745\n",
            "Epoch 16 Finished.  Time per Epoch:  50.08 s \n",
            "train err: 0.3208, train loss: 24.9908\n",
            "validation err: 0.1368, validation loss: 3.7750\n",
            "Epoch 17 Finished.  Time per Epoch:  50.22 s \n",
            "train err: 0.3335, train loss: 26.1088\n",
            "validation err: 0.1354, validation loss: 3.8275\n",
            "Epoch 18 Finished.  Time per Epoch:  50.36 s \n",
            "train err: 0.3184, train loss: 24.7345\n",
            "validation err: 0.1336, validation loss: 3.8334\n",
            "Epoch 19 Finished.  Time per Epoch:  50.57 s \n",
            "train err: 0.3245, train loss: 25.2078\n",
            "validation err: 0.1289, validation loss: 3.7318\n",
            "Epoch 20 Finished.  Time per Epoch:  51.05 s \n",
            "train err: 0.3252, train loss: 25.4720\n",
            "validation err: 0.1623, validation loss: 5.2390\n",
            "Epoch 21 Finished.  Time per Epoch:  51.35 s \n",
            "train err: 0.3217, train loss: 25.0711\n",
            "validation err: 0.1417, validation loss: 3.9832\n",
            "Epoch 22 Finished.  Time per Epoch:  51.90 s \n",
            "train err: 0.3134, train loss: 24.1741\n",
            "validation err: 0.1366, validation loss: 4.3938\n",
            "Epoch 23 Finished.  Time per Epoch:  52.51 s \n",
            "train err: 0.3234, train loss: 24.9734\n",
            "validation err: 0.1544, validation loss: 4.8938\n",
            "Epoch 24 Finished.  Time per Epoch:  52.87 s \n",
            "train err: 0.3134, train loss: 23.6875\n",
            "validation err: 0.1322, validation loss: 4.2387\n",
            "Epoch 25 Finished.  Time per Epoch:  53.26 s \n",
            "train err: 0.3202, train loss: 24.4831\n",
            "validation err: 0.1438, validation loss: 4.3563\n",
            "Epoch 26 Finished.  Time per Epoch:  53.58 s \n",
            "train err: 0.3153, train loss: 23.8854\n",
            "validation err: 0.1227, validation loss: 4.0478\n",
            "Epoch 27 Finished.  Time per Epoch:  53.81 s \n",
            "train err: 0.3135, train loss: 23.6097\n",
            "validation err: 0.1363, validation loss: 4.6920\n",
            "Epoch 28 Finished.  Time per Epoch:  54.04 s \n",
            "train err: 0.3186, train loss: 24.1616\n",
            "validation err: 0.1438, validation loss: 5.1777\n",
            "Epoch 29 Finished.  Time per Epoch:  54.22 s \n",
            "train err: 0.3164, train loss: 24.1726\n",
            "validation err: 0.1463, validation loss: 4.6439\n",
            "Epoch 30 Finished.  Time per Epoch:  54.58 s \n",
            "train err: 0.2992, train loss: 22.5576\n",
            "validation err: 0.1250, validation loss: 4.1696\n",
            "Epoch 31 Finished.  Time per Epoch:  54.83 s \n",
            "train err: 0.3079, train loss: 23.1430\n",
            "validation err: 0.1366, validation loss: 4.4674\n",
            "Epoch 32 Finished.  Time per Epoch:  54.95 s \n",
            "train err: 0.3137, train loss: 23.8715\n",
            "validation err: 0.1405, validation loss: 4.7839\n",
            "Epoch 33 Finished.  Time per Epoch:  54.96 s \n",
            "train err: 0.3119, train loss: 23.4920\n",
            "validation err: 0.1252, validation loss: 4.4723\n",
            "Epoch 34 Finished.  Time per Epoch:  54.98 s \n",
            "train err: 0.3006, train loss: 22.3048\n",
            "validation err: 0.1157, validation loss: 4.4005\n",
            "Epoch 35 Finished.  Time per Epoch:  55.04 s \n",
            "train err: 0.3071, train loss: 22.6466\n",
            "validation err: 0.1356, validation loss: 5.1751\n",
            "Epoch 36 Finished.  Time per Epoch:  55.08 s \n",
            "train err: 0.3083, train loss: 23.1028\n",
            "validation err: 0.1447, validation loss: 5.2486\n",
            "Epoch 37 Finished.  Time per Epoch:  55.15 s \n",
            "train err: 0.3068, train loss: 22.8135\n",
            "validation err: 0.1257, validation loss: 4.7054\n",
            "Epoch 38 Finished.  Time per Epoch:  55.21 s \n",
            "train err: 0.3118, train loss: 22.9550\n",
            "validation err: 0.1317, validation loss: 5.0449\n",
            "Epoch 39 Finished.  Time per Epoch:  55.32 s \n",
            "train err: 0.3069, train loss: 22.6409\n",
            "validation err: 0.1306, validation loss: 4.8472\n",
            "Epoch 40 Finished.  Time per Epoch:  55.39 s \n",
            "train err: 0.3032, train loss: 22.1265\n",
            "validation err: 0.1238, validation loss: 4.8003\n",
            "Epoch 41 Finished.  Time per Epoch:  55.46 s \n",
            "train err: 0.3076, train loss: 22.5491\n",
            "validation err: 0.1218, validation loss: 4.6092\n",
            "Epoch 42 Finished.  Time per Epoch:  55.56 s \n",
            "train err: 0.3086, train loss: 22.4522\n",
            "validation err: 0.1245, validation loss: 5.2040\n",
            "Epoch 43 Finished.  Time per Epoch:  55.66 s \n",
            "train err: 0.3032, train loss: 22.0268\n",
            "validation err: 0.1208, validation loss: 4.8639\n",
            "Epoch 44 Finished.  Time per Epoch:  55.74 s \n",
            "train err: 0.3029, train loss: 21.9470\n",
            "validation err: 0.1218, validation loss: 5.0767\n",
            "Epoch 45 Finished.  Time per Epoch:  55.87 s \n",
            "train err: 0.2978, train loss: 21.7057\n",
            "validation err: 0.1396, validation loss: 6.0026\n",
            "Epoch 46 Finished.  Time per Epoch:  56.00 s \n",
            "train err: 0.3110, train loss: 22.7242\n",
            "validation err: 0.1252, validation loss: 4.9877\n",
            "Epoch 47 Finished.  Time per Epoch:  56.12 s \n",
            "train err: 0.3024, train loss: 21.9758\n",
            "validation err: 0.1176, validation loss: 5.1975\n",
            "Epoch 48 Finished.  Time per Epoch:  56.28 s \n",
            "train err: 0.2973, train loss: 21.4668\n",
            "validation err: 0.1215, validation loss: 5.3415\n",
            "Epoch 49 Finished.  Time per Epoch:  56.46 s \n",
            "train err: 0.2989, train loss: 21.5765\n",
            "validation err: 0.1201, validation loss: 5.3602\n",
            "Epoch 50 Finished.  Time per Epoch:  56.63 s \n",
            "train err: 0.3039, train loss: 22.1245\n",
            "validation err: 0.1384, validation loss: 5.8438\n",
            "Epoch 51 Finished.  Time per Epoch:  56.81 s \n",
            "train err: 0.3045, train loss: 22.1722\n",
            "validation err: 0.1354, validation loss: 5.7195\n",
            "Epoch 52 Finished.  Time per Epoch:  56.95 s \n",
            "train err: 0.3177, train loss: 24.8212\n",
            "validation err: 0.1787, validation loss: 7.2161\n",
            "Epoch 53 Finished.  Time per Epoch:  57.05 s \n",
            "train err: 0.3149, train loss: 23.9663\n",
            "validation err: 0.1340, validation loss: 5.4212\n",
            "Epoch 54 Finished.  Time per Epoch:  57.13 s \n",
            "train err: 0.3157, train loss: 24.7617\n",
            "validation err: 0.1377, validation loss: 4.9441\n",
            "Epoch 55 Finished.  Time per Epoch:  57.28 s \n",
            "train err: 0.3015, train loss: 22.5035\n",
            "validation err: 0.1396, validation loss: 5.5308\n",
            "Epoch 56 Finished.  Time per Epoch:  57.40 s \n",
            "train err: 0.3118, train loss: 23.1571\n",
            "validation err: 0.1248, validation loss: 4.7073\n",
            "Epoch 57 Finished.  Time per Epoch:  57.49 s \n",
            "train err: 0.3081, train loss: 22.5298\n",
            "validation err: 0.1225, validation loss: 4.9786\n",
            "Epoch 58 Finished.  Time per Epoch:  57.58 s \n",
            "train err: 0.3066, train loss: 22.4673\n",
            "validation err: 0.1231, validation loss: 5.3760\n",
            "Epoch 59 Finished.  Time per Epoch:  57.67 s \n",
            "train err: 0.3103, train loss: 22.8723\n",
            "validation err: 0.1435, validation loss: 5.7202\n",
            "Epoch 60 Finished.  Time per Epoch:  57.73 s \n",
            "train err: 0.3086, train loss: 22.6888\n",
            "validation err: 0.1238, validation loss: 5.0255\n",
            "Epoch 61 Finished.  Time per Epoch:  57.79 s \n",
            "train err: 0.3151, train loss: 24.3558\n",
            "validation err: 0.1382, validation loss: 4.9672\n",
            "Epoch 62 Finished.  Time per Epoch:  57.80 s \n",
            "train err: 0.3025, train loss: 22.1899\n",
            "validation err: 0.1220, validation loss: 4.9531\n",
            "Epoch 63 Finished.  Time per Epoch:  57.86 s \n",
            "train err: 0.2993, train loss: 21.6100\n",
            "validation err: 0.1153, validation loss: 4.8426\n",
            "Epoch 64 Finished.  Time per Epoch:  57.91 s \n",
            "train err: 0.2968, train loss: 21.3750\n",
            "validation err: 0.1160, validation loss: 5.0768\n",
            "Epoch 65 Finished.  Time per Epoch:  57.97 s \n",
            "train err: 0.2948, train loss: 21.1460\n",
            "validation err: 0.1155, validation loss: 5.1409\n",
            "Epoch 66 Finished.  Time per Epoch:  58.01 s \n",
            "train err: 0.3031, train loss: 21.6874\n",
            "validation err: 0.1100, validation loss: 5.0055\n",
            "Epoch 67 Finished.  Time per Epoch:  58.05 s \n",
            "train err: 0.3058, train loss: 21.8976\n",
            "validation err: 0.1155, validation loss: 5.3423\n",
            "Epoch 68 Finished.  Time per Epoch:  58.11 s \n",
            "train err: 0.2961, train loss: 21.2373\n",
            "validation err: 0.1137, validation loss: 5.5376\n",
            "Epoch 69 Finished.  Time per Epoch:  58.17 s \n",
            "train err: 0.2976, train loss: 21.2997\n",
            "validation err: 0.1132, validation loss: 5.3475\n",
            "Epoch 70 Finished.  Time per Epoch:  58.22 s \n",
            "train err: 0.2965, train loss: 21.2287\n",
            "validation err: 0.1206, validation loss: 5.9284\n",
            "Epoch 71 Finished.  Time per Epoch:  58.29 s \n",
            "train err: 0.3137, train loss: 22.5433\n",
            "validation err: 0.1150, validation loss: 5.3272\n",
            "Epoch 72 Finished.  Time per Epoch:  58.34 s \n",
            "train err: 0.2939, train loss: 21.0272\n",
            "validation err: 0.1153, validation loss: 5.4615\n",
            "Epoch 73 Finished.  Time per Epoch:  58.40 s \n",
            "train err: 0.3095, train loss: 22.1280\n",
            "validation err: 0.1118, validation loss: 5.5619\n",
            "Epoch 74 Finished.  Time per Epoch:  58.46 s \n",
            "train err: 0.2985, train loss: 21.3381\n",
            "validation err: 0.1190, validation loss: 5.9442\n",
            "Epoch 75 Finished.  Time per Epoch:  58.52 s \n",
            "train err: 0.3052, train loss: 22.0249\n",
            "validation err: 0.1201, validation loss: 5.5738\n",
            "Epoch 76 Finished.  Time per Epoch:  58.55 s \n",
            "train err: 0.3033, train loss: 21.9825\n",
            "validation err: 0.1153, validation loss: 5.1010\n",
            "Epoch 77 Finished.  Time per Epoch:  58.62 s \n",
            "train err: 0.3029, train loss: 21.6737\n",
            "validation err: 0.1169, validation loss: 5.5848\n",
            "Epoch 78 Finished.  Time per Epoch:  58.68 s \n",
            "train err: 0.3067, train loss: 22.3825\n",
            "validation err: 0.1370, validation loss: 5.8683\n",
            "Epoch 79 Finished.  Time per Epoch:  58.77 s \n",
            "train err: 0.3103, train loss: 23.0405\n",
            "validation err: 0.1428, validation loss: 6.0896\n",
            "Epoch 80 Finished.  Time per Epoch:  58.82 s \n",
            "train err: 0.3021, train loss: 22.1913\n",
            "validation err: 0.1312, validation loss: 6.0400\n",
            "Epoch 81 Finished.  Time per Epoch:  58.89 s \n",
            "train err: 0.3019, train loss: 21.9121\n",
            "validation err: 0.1412, validation loss: 7.1346\n",
            "Epoch 82 Finished.  Time per Epoch:  58.94 s \n",
            "train err: 0.3106, train loss: 22.7520\n",
            "validation err: 0.1419, validation loss: 6.6542\n",
            "Epoch 83 Finished.  Time per Epoch:  58.97 s \n",
            "train err: 0.3063, train loss: 22.5799\n",
            "validation err: 0.1289, validation loss: 5.9612\n",
            "Epoch 84 Finished.  Time per Epoch:  59.02 s \n",
            "train err: 0.2958, train loss: 21.3842\n",
            "validation err: 0.1273, validation loss: 6.0479\n",
            "Epoch 85 Finished.  Time per Epoch:  59.08 s \n",
            "train err: 0.2944, train loss: 21.1745\n",
            "validation err: 0.1123, validation loss: 5.4935\n",
            "Epoch 86 Finished.  Time per Epoch:  59.15 s \n",
            "train err: 0.2988, train loss: 21.4084\n",
            "validation err: 0.1181, validation loss: 5.9194\n",
            "Epoch 87 Finished.  Time per Epoch:  59.19 s \n",
            "train err: 0.2927, train loss: 20.9870\n",
            "validation err: 0.1137, validation loss: 5.9611\n",
            "Epoch 88 Finished.  Time per Epoch:  59.25 s \n",
            "train err: 0.3041, train loss: 21.6990\n",
            "validation err: 0.1097, validation loss: 5.8630\n",
            "Epoch 89 Finished.  Time per Epoch:  59.34 s \n",
            "train err: 0.2965, train loss: 21.1195\n",
            "validation err: 0.1106, validation loss: 5.9710\n",
            "Epoch 90 Finished.  Time per Epoch:  59.39 s \n",
            "train err: 0.2989, train loss: 21.2569\n",
            "validation err: 0.1102, validation loss: 5.9724\n",
            "Epoch 91 Finished.  Time per Epoch:  59.46 s \n",
            "train err: 0.3022, train loss: 21.5557\n",
            "validation err: 0.1150, validation loss: 5.9997\n",
            "Epoch 92 Finished.  Time per Epoch:  59.50 s \n",
            "train err: 0.3015, train loss: 21.5412\n",
            "validation err: 0.1102, validation loss: 5.9010\n",
            "Epoch 93 Finished.  Time per Epoch:  59.56 s \n",
            "train err: 0.3023, train loss: 21.5348\n",
            "validation err: 0.1097, validation loss: 6.1437\n",
            "Epoch 94 Finished.  Time per Epoch:  59.60 s \n",
            "train err: 0.3047, train loss: 21.6916\n",
            "validation err: 0.1127, validation loss: 6.0814\n",
            "Epoch 95 Finished.  Time per Epoch:  59.65 s \n",
            "train err: 0.2954, train loss: 20.9676\n",
            "validation err: 0.1132, validation loss: 6.2635\n",
            "Epoch 96 Finished.  Time per Epoch:  59.72 s \n",
            "train err: 0.3035, train loss: 21.5831\n",
            "validation err: 0.1130, validation loss: 6.2557\n",
            "Epoch 97 Finished.  Time per Epoch:  59.78 s \n",
            "train err: 0.2966, train loss: 21.0861\n",
            "validation err: 0.1097, validation loss: 6.3550\n",
            "Epoch 98 Finished.  Time per Epoch:  59.84 s \n",
            "train err: 0.2972, train loss: 21.1423\n",
            "validation err: 0.1106, validation loss: 6.2795\n",
            "Epoch 99 Finished.  Time per Epoch:  59.89 s \n",
            "train err: 0.3034, train loss: 21.5932\n",
            "validation err: 0.1127, validation loss: 6.4486\n",
            "Finished training in 5989.38 s\n"
          ],
          "name": "stdout"
        }
      ]
    },
    {
      "cell_type": "code",
      "metadata": {
        "id": "9ujOuakch-Cd",
        "colab_type": "code",
        "colab": {
          "base_uri": "https://localhost:8080/",
          "height": 573
        },
        "outputId": "800ef9a5-958d-4a36-c321-b1bd458290ed"
      },
      "source": [
        "plot_training_curve(get_model_name(tNetDp.name, 500, 0.001, 99))"
      ],
      "execution_count": 17,
      "outputs": [
        {
          "output_type": "display_data",
          "data": {
            "image/png": "[encoded data removed]",
            "text/plain": [
              "<Figure size 432x288 with 1 Axes>"
            ]
          },
          "metadata": {
            "tags": [],
            "needs_background": "light"
          }
        },
        {
          "output_type": "display_data",
          "data": {
            "image/png": "[encoded data removed]",
            "text/plain": [
              "<Figure size 432x288 with 1 Axes>"
            ]
          },
          "metadata": {
            "tags": [],
            "needs_background": "light"
          }
        }
      ]
    },
    {
      "cell_type": "code",
      "metadata": {
        "id": "cNrST-Oo5TJ0",
        "colab_type": "code",
        "colab": {
          "base_uri": "https://localhost:8080/",
          "height": 758
        },
        "outputId": "a789373d-722f-49b7-9a38-313f6d48f09f"
      },
      "source": [
        "# evaluate performance class by class\n",
        "train_loader, valid_loader, test_loader = feature_loader(feature_root_path, 0.6, 0.2, batch_size = 1)\n",
        "# load the data first\n",
        "# the data had been previously copied into the workspace as small set\n",
        "model = tNetDp\n",
        "correct = 0\n",
        "total = 0\n",
        "correct_by_class = [0 for i in range(0, 27)]\n",
        "total_per_class = [0 for i in range(0, 27)]\n",
        "loader = valid_loader\n",
        "model.eval()\n",
        "with torch.no_grad():\n",
        "  for i, data in enumerate(loader, 0):\n",
        "    feature, labels = data\n",
        "\n",
        "    output = model(feature)\n",
        "\n",
        "\n",
        "    # select index with maximum prediction score\n",
        "    pred = output.max(1, keepdim = True)[1]\n",
        "    correct += pred.eq(labels.view_as(pred)).sum().item()\n",
        "    correct_by_class[labels] = correct_by_class[labels]\\\n",
        "                                + pred.eq(labels.view_as(pred)).sum().item()\n",
        "    total += feature.shape[0]\n",
        "    total_per_class[labels] += 1\n",
        "print(correct_by_class)\n",
        "print(total_per_class)\n",
        "for i in range(0, 27):\n",
        "  print(\"Class {}: {} out of {}, {}\".format(classes[i], correct_by_class[i], \n",
        "                                            total_per_class[i],\n",
        "                                            correct_by_class[i]/total_per_class[i]))\n",
        "print(total)"
      ],
      "execution_count": 19,
      "outputs": [
        {
          "output_type": "stream",
          "text": [
            "[157, 144, 144, 157, 127, 140, 152, 153, 140, 150, 141, 157, 163, 150, 166, 146, 168, 170, 161, 157, 162, 163, 150, 142, 155, 144, 178]\n",
            "[164, 158, 146, 165, 141, 152, 159, 156, 154, 150, 144, 161, 173, 152, 176, 153, 169, 171, 161, 162, 175, 164, 153, 165, 155, 163, 178]\n",
            "Class 11211: 157 out of 164, 0.9573170731707317\n",
            "Class 15571: 144 out of 158, 0.9113924050632911\n",
            "Class 22388: 144 out of 146, 0.9863013698630136\n",
            "Class 2456: 157 out of 165, 0.9515151515151515\n",
            "Class 3007: 127 out of 141, 0.900709219858156\n",
            "Class 3008: 140 out of 152, 0.9210526315789473\n",
            "Class 3009: 152 out of 159, 0.9559748427672956\n",
            "Class 30136: 153 out of 156, 0.9807692307692307\n",
            "Class 3044c: 140 out of 154, 0.9090909090909091\n",
            "Class 3062b: 150 out of 150, 1.0\n",
            "Class 35464: 141 out of 144, 0.9791666666666666\n",
            "Class 3660: 157 out of 161, 0.9751552795031055\n",
            "Class 3665: 163 out of 173, 0.9421965317919075\n",
            "Class 3941: 150 out of 152, 0.9868421052631579\n",
            "Class 4070: 166 out of 176, 0.9431818181818182\n",
            "Class 42023: 146 out of 153, 0.954248366013072\n",
            "Class 4589b: 168 out of 169, 0.9940828402366864\n",
            "Class 4727: 170 out of 171, 0.9941520467836257\n",
            "Class 4733: 161 out of 161, 1.0\n",
            "Class 50950: 157 out of 162, 0.9691358024691358\n",
            "Class 6111: 162 out of 175, 0.9257142857142857\n",
            "Class 6232: 163 out of 164, 0.9939024390243902\n",
            "Class 6249: 150 out of 153, 0.9803921568627451\n",
            "Class 6541: 142 out of 165, 0.8606060606060606\n",
            "Class 87081: 155 out of 155, 1.0\n",
            "Class 87087: 144 out of 163, 0.8834355828220859\n",
            "Class 98100: 178 out of 178, 1.0\n"
          ],
          "name": "stdout"
        },
        {
          "output_type": "error",
          "ename": "IndexError",
          "evalue": "ignored",
          "traceback": [
            "\u001b[0;31m---------------------------------------------------------------------------\u001b[0m",
            "\u001b[0;31mIndexError\u001b[0m                                Traceback (most recent call last)",
            "\u001b[0;32m<ipython-input-19-d2be7373a2c2>\u001b[0m in \u001b[0;36m<module>\u001b[0;34m()\u001b[0m\n\u001b[1;32m     26\u001b[0m \u001b[0mprint\u001b[0m\u001b[0;34m(\u001b[0m\u001b[0mtotal_per_class\u001b[0m\u001b[0;34m)\u001b[0m\u001b[0;34m\u001b[0m\u001b[0;34m\u001b[0m\u001b[0m\n\u001b[1;32m     27\u001b[0m \u001b[0;32mfor\u001b[0m \u001b[0mi\u001b[0m \u001b[0;32min\u001b[0m \u001b[0mrange\u001b[0m\u001b[0;34m(\u001b[0m\u001b[0;36m0\u001b[0m\u001b[0;34m,\u001b[0m \u001b[0;36m50\u001b[0m\u001b[0;34m)\u001b[0m\u001b[0;34m:\u001b[0m\u001b[0;34m\u001b[0m\u001b[0;34m\u001b[0m\u001b[0m\n\u001b[0;32m---> 28\u001b[0;31m   print(\"Class {}: {} out of {}, {}\".format(classes[i], correct_by_class[i], \n\u001b[0m\u001b[1;32m     29\u001b[0m                                             \u001b[0mtotal_per_class\u001b[0m\u001b[0;34m[\u001b[0m\u001b[0mi\u001b[0m\u001b[0;34m]\u001b[0m\u001b[0;34m,\u001b[0m\u001b[0;34m\u001b[0m\u001b[0;34m\u001b[0m\u001b[0m\n\u001b[1;32m     30\u001b[0m                                             correct_by_class[i]/total_per_class[i]))\n",
            "\u001b[0;31mIndexError\u001b[0m: list index out of range"
          ]
        }
      ]
    },
    {
      "cell_type": "code",
      "metadata": {
        "id": "BrcwbSGK8ANh",
        "colab_type": "code",
        "colab": {
          "base_uri": "https://localhost:8080/",
          "height": 558
        },
        "outputId": "6485d7e3-db72-4c66-98e5-3458814c28ed"
      },
      "source": [
        "correct = 0\n",
        "total = 0\n",
        "correct_by_class = [0 for i in range(0, 27)]\n",
        "total_per_class = [0 for i in range(0, 27)]\n",
        "loader = test_loader\n",
        "model.eval()\n",
        "with torch.no_grad():\n",
        "  for i, data in enumerate(loader, 0):\n",
        "    feature, labels = data\n",
        "\n",
        "    output = model(feature)\n",
        "\n",
        "\n",
        "    # select index with maximum prediction score\n",
        "    pred = output.max(1, keepdim = True)[1]\n",
        "    correct += pred.eq(labels.view_as(pred)).sum().item()\n",
        "    correct_by_class[labels] = correct_by_class[labels]\\\n",
        "                                + pred.eq(labels.view_as(pred)).sum().item()\n",
        "    total += feature.shape[0]\n",
        "    total_per_class[labels] += 1\n",
        "print(correct_by_class)\n",
        "print(total_per_class)\n",
        "for i in range(0, 27):\n",
        "  print(\"Class {}: {} out of {}, {}\".format(classes[i], correct_by_class[i], \n",
        "                                            total_per_class[i],\n",
        "                                            correct_by_class[i]/total_per_class[i]))\n",
        "print(total)"
      ],
      "execution_count": 20,
      "outputs": [
        {
          "output_type": "stream",
          "text": [
            "[155, 136, 160, 141, 154, 153, 159, 149, 161, 141, 163, 155, 160, 170, 156, 162, 167, 151, 155, 137, 140, 167, 163, 154, 145, 143, 147]\n",
            "[161, 148, 163, 144, 163, 166, 169, 151, 171, 141, 172, 157, 170, 170, 169, 169, 167, 151, 156, 143, 161, 170, 167, 171, 145, 158, 147]\n",
            "Class 11211: 155 out of 161, 0.9627329192546584\n",
            "Class 15571: 136 out of 148, 0.918918918918919\n",
            "Class 22388: 160 out of 163, 0.9815950920245399\n",
            "Class 2456: 141 out of 144, 0.9791666666666666\n",
            "Class 3007: 154 out of 163, 0.9447852760736196\n",
            "Class 3008: 153 out of 166, 0.9216867469879518\n",
            "Class 3009: 159 out of 169, 0.9408284023668639\n",
            "Class 30136: 149 out of 151, 0.9867549668874173\n",
            "Class 3044c: 161 out of 171, 0.9415204678362573\n",
            "Class 3062b: 141 out of 141, 1.0\n",
            "Class 35464: 163 out of 172, 0.9476744186046512\n",
            "Class 3660: 155 out of 157, 0.9872611464968153\n",
            "Class 3665: 160 out of 170, 0.9411764705882353\n",
            "Class 3941: 170 out of 170, 1.0\n",
            "Class 4070: 156 out of 169, 0.9230769230769231\n",
            "Class 42023: 162 out of 169, 0.9585798816568047\n",
            "Class 4589b: 167 out of 167, 1.0\n",
            "Class 4727: 151 out of 151, 1.0\n",
            "Class 4733: 155 out of 156, 0.9935897435897436\n",
            "Class 50950: 137 out of 143, 0.958041958041958\n",
            "Class 6111: 140 out of 161, 0.8695652173913043\n",
            "Class 6232: 167 out of 170, 0.9823529411764705\n",
            "Class 6249: 163 out of 167, 0.9760479041916168\n",
            "Class 6541: 154 out of 171, 0.9005847953216374\n",
            "Class 87081: 145 out of 145, 1.0\n",
            "Class 87087: 143 out of 158, 0.9050632911392406\n",
            "Class 98100: 147 out of 147, 1.0\n",
            "4320\n"
          ],
          "name": "stdout"
        }
      ]
    }
  ]
}