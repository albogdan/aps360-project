{
  "nbformat": 4,
  "nbformat_minor": 0,
  "metadata": {
    "colab": {
      "name": "FeatureKernelOnBerend.ipynb",
      "provenance": [],
      "collapsed_sections": [],
      "toc_visible": true,
      "authorship_tag": "ABX9TyPwrzumzQYV+N4daZyIbiM1",
      "include_colab_link": true
    },
    "kernelspec": {
      "name": "python3",
      "display_name": "Python 3"
    },
    "accelerator": "GPU",
    "widgets": {
      "application/vnd.jupyter.widget-state+json": {
        "635d8fcf8c554da4b63547aa001e303b": {
          "model_module": "@jupyter-widgets/controls",
          "model_name": "HBoxModel",
          "state": {
            "_view_name": "HBoxView",
            "_dom_classes": [],
            "_model_name": "HBoxModel",
            "_view_module": "@jupyter-widgets/controls",
            "_model_module_version": "1.5.0",
            "_view_count": null,
            "_view_module_version": "1.5.0",
            "box_style": "",
            "layout": "IPY_MODEL_283212f4099343e8b30e8d8efe2be582",
            "_model_module": "@jupyter-widgets/controls",
            "children": [
              "IPY_MODEL_52e37446fb8d44968f197ded1e341b21",
              "IPY_MODEL_e440416d96174ec0b2fd73b61ba2b123"
            ]
          }
        },
        "283212f4099343e8b30e8d8efe2be582": {
          "model_module": "@jupyter-widgets/base",
          "model_name": "LayoutModel",
          "state": {
            "_view_name": "LayoutView",
            "grid_template_rows": null,
            "right": null,
            "justify_content": null,
            "_view_module": "@jupyter-widgets/base",
            "overflow": null,
            "_model_module_version": "1.2.0",
            "_view_count": null,
            "flex_flow": null,
            "width": null,
            "min_width": null,
            "border": null,
            "align_items": null,
            "bottom": null,
            "_model_module": "@jupyter-widgets/base",
            "top": null,
            "grid_column": null,
            "overflow_y": null,
            "overflow_x": null,
            "grid_auto_flow": null,
            "grid_area": null,
            "grid_template_columns": null,
            "flex": null,
            "_model_name": "LayoutModel",
            "justify_items": null,
            "grid_row": null,
            "max_height": null,
            "align_content": null,
            "visibility": null,
            "align_self": null,
            "height": null,
            "min_height": null,
            "padding": null,
            "grid_auto_rows": null,
            "grid_gap": null,
            "max_width": null,
            "order": null,
            "_view_module_version": "1.2.0",
            "grid_template_areas": null,
            "object_position": null,
            "object_fit": null,
            "grid_auto_columns": null,
            "margin": null,
            "display": null,
            "left": null
          }
        },
        "52e37446fb8d44968f197ded1e341b21": {
          "model_module": "@jupyter-widgets/controls",
          "model_name": "FloatProgressModel",
          "state": {
            "_view_name": "ProgressView",
            "style": "IPY_MODEL_8877458afe2f40b389957f822fa33666",
            "_dom_classes": [],
            "description": "100%",
            "_model_name": "FloatProgressModel",
            "bar_style": "success",
            "max": 244418560,
            "_view_module": "@jupyter-widgets/controls",
            "_model_module_version": "1.5.0",
            "value": 244418560,
            "_view_count": null,
            "_view_module_version": "1.5.0",
            "orientation": "horizontal",
            "min": 0,
            "description_tooltip": null,
            "_model_module": "@jupyter-widgets/controls",
            "layout": "IPY_MODEL_c11afb11b7094c29b9db140d363d2509"
          }
        },
        "e440416d96174ec0b2fd73b61ba2b123": {
          "model_module": "@jupyter-widgets/controls",
          "model_name": "HTMLModel",
          "state": {
            "_view_name": "HTMLView",
            "style": "IPY_MODEL_4b2ed4172cc94b4b9f695ed7ae5241e7",
            "_dom_classes": [],
            "description": "",
            "_model_name": "HTMLModel",
            "placeholder": "​",
            "_view_module": "@jupyter-widgets/controls",
            "_model_module_version": "1.5.0",
            "value": " 233M/233M [03:22&lt;00:00, 1.21MB/s]",
            "_view_count": null,
            "_view_module_version": "1.5.0",
            "description_tooltip": null,
            "_model_module": "@jupyter-widgets/controls",
            "layout": "IPY_MODEL_ea4c526b27a34de797fc3cdad5dfc630"
          }
        },
        "8877458afe2f40b389957f822fa33666": {
          "model_module": "@jupyter-widgets/controls",
          "model_name": "ProgressStyleModel",
          "state": {
            "_view_name": "StyleView",
            "_model_name": "ProgressStyleModel",
            "description_width": "initial",
            "_view_module": "@jupyter-widgets/base",
            "_model_module_version": "1.5.0",
            "_view_count": null,
            "_view_module_version": "1.2.0",
            "bar_color": null,
            "_model_module": "@jupyter-widgets/controls"
          }
        },
        "c11afb11b7094c29b9db140d363d2509": {
          "model_module": "@jupyter-widgets/base",
          "model_name": "LayoutModel",
          "state": {
            "_view_name": "LayoutView",
            "grid_template_rows": null,
            "right": null,
            "justify_content": null,
            "_view_module": "@jupyter-widgets/base",
            "overflow": null,
            "_model_module_version": "1.2.0",
            "_view_count": null,
            "flex_flow": null,
            "width": null,
            "min_width": null,
            "border": null,
            "align_items": null,
            "bottom": null,
            "_model_module": "@jupyter-widgets/base",
            "top": null,
            "grid_column": null,
            "overflow_y": null,
            "overflow_x": null,
            "grid_auto_flow": null,
            "grid_area": null,
            "grid_template_columns": null,
            "flex": null,
            "_model_name": "LayoutModel",
            "justify_items": null,
            "grid_row": null,
            "max_height": null,
            "align_content": null,
            "visibility": null,
            "align_self": null,
            "height": null,
            "min_height": null,
            "padding": null,
            "grid_auto_rows": null,
            "grid_gap": null,
            "max_width": null,
            "order": null,
            "_view_module_version": "1.2.0",
            "grid_template_areas": null,
            "object_position": null,
            "object_fit": null,
            "grid_auto_columns": null,
            "margin": null,
            "display": null,
            "left": null
          }
        },
        "4b2ed4172cc94b4b9f695ed7ae5241e7": {
          "model_module": "@jupyter-widgets/controls",
          "model_name": "DescriptionStyleModel",
          "state": {
            "_view_name": "StyleView",
            "_model_name": "DescriptionStyleModel",
            "description_width": "",
            "_view_module": "@jupyter-widgets/base",
            "_model_module_version": "1.5.0",
            "_view_count": null,
            "_view_module_version": "1.2.0",
            "_model_module": "@jupyter-widgets/controls"
          }
        },
        "ea4c526b27a34de797fc3cdad5dfc630": {
          "model_module": "@jupyter-widgets/base",
          "model_name": "LayoutModel",
          "state": {
            "_view_name": "LayoutView",
            "grid_template_rows": null,
            "right": null,
            "justify_content": null,
            "_view_module": "@jupyter-widgets/base",
            "overflow": null,
            "_model_module_version": "1.2.0",
            "_view_count": null,
            "flex_flow": null,
            "width": null,
            "min_width": null,
            "border": null,
            "align_items": null,
            "bottom": null,
            "_model_module": "@jupyter-widgets/base",
            "top": null,
            "grid_column": null,
            "overflow_y": null,
            "overflow_x": null,
            "grid_auto_flow": null,
            "grid_area": null,
            "grid_template_columns": null,
            "flex": null,
            "_model_name": "LayoutModel",
            "justify_items": null,
            "grid_row": null,
            "max_height": null,
            "align_content": null,
            "visibility": null,
            "align_self": null,
            "height": null,
            "min_height": null,
            "padding": null,
            "grid_auto_rows": null,
            "grid_gap": null,
            "max_width": null,
            "order": null,
            "_view_module_version": "1.2.0",
            "grid_template_areas": null,
            "object_position": null,
            "object_fit": null,
            "grid_auto_columns": null,
            "margin": null,
            "display": null,
            "left": null
          }
        }
      }
    }
  },
  "cells": [
    {
      "cell_type": "markdown",
      "metadata": {
        "id": "view-in-github",
        "colab_type": "text"
      },
      "source": [
        "<a href=\"https://colab.research.google.com/github/albogdan/aps360-project/blob/master/FeatureKernelOnBerend.ipynb\" target=\"_parent\"><img src=\"https://colab.research.google.com/assets/colab-badge.svg\" alt=\"Open In Colab\"/></a>"
      ]
    },
    {
      "cell_type": "markdown",
      "metadata": {
        "id": "L-25K7JuV9P1",
        "colab_type": "text"
      },
      "source": [
        "# Imports"
      ]
    },
    {
      "cell_type": "code",
      "metadata": {
        "id": "fRK27vuZWCSA",
        "colab_type": "code",
        "colab": {}
      },
      "source": [
        "import numpy as np\n",
        "import matplotlib.pyplot as plt\n",
        "import torch\n",
        "import torch.nn as nn\n",
        "import torch.nn.functional as F\n",
        "import torch.optim as optim\n",
        "from torchvision import datasets, models, transforms\n",
        "from torchsummary import summary\n",
        "import os\n",
        "import time\n",
        "from google.colab import output"
      ],
      "execution_count": null,
      "outputs": []
    },
    {
      "cell_type": "code",
      "metadata": {
        "id": "lgTVbnugsGQY",
        "colab_type": "code",
        "colab": {}
      },
      "source": [
        "def progressBar(current, total, barLength = 20):\n",
        "    output.clear('progress_bar')\n",
        "    with output.use_tags('status_text'):\n",
        "      percent = float(current) * 100.0 / total\n",
        "      arrow   = '-' * int(percent/100 * barLength - 1) + '>'\n",
        "      spaces  = ' ' * (barLength - len(arrow))\n",
        "      print(\"Progress: [{}{}] {} %\".format(arrow, spaces, percent))"
      ],
      "execution_count": null,
      "outputs": []
    },
    {
      "cell_type": "markdown",
      "metadata": {
        "id": "jBXeECcLWIDN",
        "colab_type": "text"
      },
      "source": [
        "# Load Data"
      ]
    },
    {
      "cell_type": "code",
      "metadata": {
        "id": "I28lAlJvWMGI",
        "colab_type": "code",
        "colab": {
          "base_uri": "https://localhost:8080/",
          "height": 124
        },
        "outputId": "f9afc80b-58bd-41b0-f3aa-962ca0fe6468"
      },
      "source": [
        "from google.colab import drive\n",
        "drive.mount('/content/drive')"
      ],
      "execution_count": null,
      "outputs": [
        {
          "output_type": "stream",
          "text": [
            "Go to this URL in a browser: https://accounts.google.com/o/oauth2/auth?client_id=947318989803-6bn6qk8qdgf4n4g3pfee6491hc0brc4i.apps.googleusercontent.com&redirect_uri=urn%3aietf%3awg%3aoauth%3a2.0%3aoob&response_type=code&scope=email%20https%3a%2f%2fwww.googleapis.com%2fauth%2fdocs.test%20https%3a%2f%2fwww.googleapis.com%2fauth%2fdrive%20https%3a%2f%2fwww.googleapis.com%2fauth%2fdrive.photos.readonly%20https%3a%2f%2fwww.googleapis.com%2fauth%2fpeopleapi.readonly\n",
            "\n",
            "Enter your authorization code:\n",
            "··········\n",
            "Mounted at /content/drive\n"
          ],
          "name": "stdout"
        }
      ]
    },
    {
      "cell_type": "code",
      "metadata": {
        "id": "W_0ybowiWOV7",
        "colab_type": "code",
        "colab": {}
      },
      "source": [
        "if os.path.exists(os.path.expanduser('~/data')):\n",
        "  !rm -rf {os.path.expanduser('~/data')}\n",
        "!unzip '/content/drive/My Drive/APS360 Project/share/BerendImages/mayacaptures.zip' -d {os.path.expanduser('~/data')}"
      ],
      "execution_count": null,
      "outputs": []
    },
    {
      "cell_type": "code",
      "metadata": {
        "id": "I1MieEtX2HOb",
        "colab_type": "code",
        "colab": {
          "base_uri": "https://localhost:8080/",
          "height": 34
        },
        "outputId": "2bb10251-4b36-402a-8c17-458237d7613b"
      },
      "source": [
        "os.path.exists(os.path.expanduser('~/'))"
      ],
      "execution_count": null,
      "outputs": [
        {
          "output_type": "execute_result",
          "data": {
            "text/plain": [
              "True"
            ]
          },
          "metadata": {
            "tags": []
          },
          "execution_count": 7
        }
      ]
    },
    {
      "cell_type": "code",
      "metadata": {
        "id": "ClaEa4QVW2zq",
        "colab_type": "code",
        "colab": {}
      },
      "source": [
        "# Transform Settings - resize all images to 224 x 224\n",
        "data_transform = transforms.Compose([transforms.Resize((224,224)), \n",
        "                                     transforms.Grayscale(num_output_channels=3),\n",
        "                                      transforms.ToTensor()])\n",
        "\n",
        "# define dataloader parameters\n",
        "num_workers = 4\n",
        "batch_size = 1\n",
        "\n",
        "# get dataset\n",
        "image_set = datasets.ImageFolder(os.path.expanduser('~/data'), transform=data_transform)\n",
        "\n",
        "# put data inside loader\n",
        "loader = torch.utils.data.DataLoader(image_set, batch_size=batch_size, \n",
        "                                        num_workers=num_workers, shuffle=False)\n"
      ],
      "execution_count": null,
      "outputs": []
    },
    {
      "cell_type": "code",
      "metadata": {
        "id": "agJzF066W4UM",
        "colab_type": "code",
        "colab": {
          "base_uri": "https://localhost:8080/",
          "height": 89
        },
        "outputId": "f882ffe5-0601-4825-d225-96fe757a257e"
      },
      "source": [
        "print(image_set.class_to_idx)\n",
        "classes = os.listdir(os.path.expanduser('~/data'))\n",
        "classes.sort()\n",
        "classes = classes[:]\n",
        "print(classes)\n",
        "print(len(classes))"
      ],
      "execution_count": null,
      "outputs": [
        {
          "output_type": "stream",
          "text": [
            "{'11211': 0, '15571': 1, '22388': 2, '2456': 3, '3001': 4, '3003': 5, '3004': 6, '3007': 7, '3008': 8, '3009': 9, '30136': 10, '3039': 11, '3040': 12, '3044c': 13, '3062b': 14, '35464': 15, '3659': 16, '3660': 17, '3665': 18, '3941': 19, '4070': 20, '42023': 21, '4589b': 22, '4727': 23, '4733': 24, '50950': 25, '54200': 26, '6111': 27, '6232': 28, '6249': 29, '6541': 30, '85984': 31, '87081': 32, '87087': 33, '98100': 34}\n",
            "['11211', '15571', '22388', '2456', '3001', '3003', '3004', '3007', '3008', '3009', '30136', '3039', '3040', '3044c', '3062b', '35464', '3659', '3660', '3665', '3941', '4070', '42023', '4589b', '4727', '4733', '50950', '54200', '6111', '6232', '6249', '6541', '85984', '87081', '87087', '98100']\n",
            "35\n"
          ],
          "name": "stdout"
        }
      ]
    },
    {
      "cell_type": "markdown",
      "metadata": {
        "id": "qeVoRa_QWwcy",
        "colab_type": "text"
      },
      "source": [
        "# Getting features"
      ]
    },
    {
      "cell_type": "code",
      "metadata": {
        "id": "h7omx31YWv03",
        "colab_type": "code",
        "colab": {
          "base_uri": "https://localhost:8080/",
          "height": 84,
          "referenced_widgets": [
            "635d8fcf8c554da4b63547aa001e303b",
            "283212f4099343e8b30e8d8efe2be582",
            "52e37446fb8d44968f197ded1e341b21",
            "e440416d96174ec0b2fd73b61ba2b123",
            "8877458afe2f40b389957f822fa33666",
            "c11afb11b7094c29b9db140d363d2509",
            "4b2ed4172cc94b4b9f695ed7ae5241e7",
            "ea4c526b27a34de797fc3cdad5dfc630"
          ]
        },
        "outputId": "8880893b-7d37-4148-8ad0-95f146ffa055"
      },
      "source": [
        "import torchvision.models\n",
        "alexnet = torchvision.models.alexnet(pretrained=True)"
      ],
      "execution_count": null,
      "outputs": [
        {
          "output_type": "stream",
          "text": [
            "Downloading: \"https://download.pytorch.org/models/alexnet-owt-4df8aa71.pth\" to /root/.cache/torch/hub/checkpoints/alexnet-owt-4df8aa71.pth\n"
          ],
          "name": "stderr"
        },
        {
          "output_type": "display_data",
          "data": {
            "application/vnd.jupyter.widget-view+json": {
              "model_id": "635d8fcf8c554da4b63547aa001e303b",
              "version_minor": 0,
              "version_major": 2
            },
            "text/plain": [
              "HBox(children=(FloatProgress(value=0.0, max=244418560.0), HTML(value='')))"
            ]
          },
          "metadata": {
            "tags": []
          }
        },
        {
          "output_type": "stream",
          "text": [
            "\n"
          ],
          "name": "stdout"
        }
      ]
    },
    {
      "cell_type": "code",
      "metadata": {
        "id": "kvEB8CMXHixk",
        "colab_type": "code",
        "colab": {}
      },
      "source": [
        "feature_root_path = os.path.expanduser('~/feature')"
      ],
      "execution_count": null,
      "outputs": []
    },
    {
      "cell_type": "code",
      "metadata": {
        "id": "eI7HPb47XCyz",
        "colab_type": "code",
        "colab": {}
      },
      "source": [
        "for i in classes:\n",
        "  path = os.path.join(feature_root_path, i)\n",
        "  if not os.path.exists(path):\n",
        "    !mkdir -p {path}"
      ],
      "execution_count": null,
      "outputs": []
    },
    {
      "cell_type": "code",
      "metadata": {
        "id": "ElMS-UacXAP3",
        "colab_type": "code",
        "colab": {}
      },
      "source": [
        "# generate and save feature maps\n",
        "i = 0\n",
        "for img, label in loader:\n",
        "  features = alexnet.features(img)\n",
        "  features_tensor = torch.from_numpy(features.detach().numpy())\n",
        "  features_folder_path = os.path.join(feature_root_path, classes[label])\n",
        "  feature_path = os.path.join(features_folder_path, \"{}.tensor\".format(i))\n",
        "  torch.save(features_tensor.squeeze(0), feature_path)\n",
        "  i += 1\n",
        "  print(\"saved {} images\".format(i))"
      ],
      "execution_count": null,
      "outputs": []
    },
    {
      "cell_type": "code",
      "metadata": {
        "id": "_PpzjOFVXOYn",
        "colab_type": "code",
        "colab": {}
      },
      "source": [
        "!zip feature.zip -r {feature_root_path}"
      ],
      "execution_count": null,
      "outputs": []
    },
    {
      "cell_type": "markdown",
      "metadata": {
        "id": "w5hLA6Vhh1o8",
        "colab_type": "text"
      },
      "source": [
        "# training code"
      ]
    },
    {
      "cell_type": "code",
      "metadata": {
        "id": "gIx20myuh1Ct",
        "colab_type": "code",
        "colab": {}
      },
      "source": [
        "def get_model_name(name, batch_size, learning_rate, epoch):\n",
        "    path = \"model_{0}_bs{1}_lr{2}_epoch{3}\".format(name,\n",
        "                                                   batch_size,\n",
        "                                                   learning_rate,\n",
        "                                                   epoch)\n",
        "    return path\n",
        "\n",
        "def evaluate(model, loader, criterion):\n",
        "  total_loss = 0.0\n",
        "  correct = 0\n",
        "  total = 0\n",
        "  model.eval()\n",
        "  with torch.no_grad():\n",
        "    for i, data in enumerate(loader, 0):\n",
        "      imgs, labels = data\n",
        "      if use_cuda and torch.cuda.is_available():\n",
        "        imgs = imgs.cuda()\n",
        "        labels = labels.cuda()\n",
        "      output = model(imgs)\n",
        "\n",
        "      # select index with maximum prediction score\n",
        "      pred = output.max(1, keepdim = True)[1]\n",
        "      correct += pred.eq(labels.view_as(pred)).sum().item()\n",
        "      total += imgs.shape[0]\n",
        "      total_loss += criterion(output, labels).item()\n",
        "  return 1 - correct/total, total_loss\n",
        "\n",
        "def plot_training_curve(path):\n",
        "  \"\"\" Plots the training curve for a model run, given the csv files\n",
        "  containing the train/validation error/loss.\n",
        "\n",
        "  Args:\n",
        "      path: The base path of the csv files produced during training\n",
        "  \"\"\"\n",
        "  import matplotlib.pyplot as plt\n",
        "  train_err = np.loadtxt(\"{}_train_err.csv\".format(path))\n",
        "  val_err = np.loadtxt(\"{}_val_err.csv\".format(path))\n",
        "  train_loss = np.loadtxt(\"{}_train_loss.csv\".format(path))\n",
        "  val_loss = np.loadtxt(\"{}_val_loss.csv\".format(path))\n",
        "  plt.title(\"Train vs Validation Error\")\n",
        "  n = len(train_err) # number of epochs\n",
        "  plt.plot(range(1,n+1), train_err, label=\"Train\")\n",
        "  plt.plot(range(1,n+1), val_err, label=\"Validation\")\n",
        "  plt.xlabel(\"Epoch\")\n",
        "  plt.ylabel(\"Error\")\n",
        "  plt.legend(loc='best')\n",
        "  plt.show()\n",
        "  plt.title(\"Train vs Validation Loss\")\n",
        "  plt.plot(range(1,n+1), train_loss, label=\"Train\")\n",
        "  plt.plot(range(1,n+1), val_loss, label=\"Validation\")\n",
        "  plt.xlabel(\"Epoch\")\n",
        "  plt.ylabel(\"Loss\")\n",
        "  plt.legend(loc='best')\n",
        "  plt.show()"
      ],
      "execution_count": null,
      "outputs": []
    },
    {
      "cell_type": "code",
      "metadata": {
        "id": "i7n3032zh4Jj",
        "colab_type": "code",
        "colab": {}
      },
      "source": [
        "def transfer_train(model, batch_size = 32, num_epochs = 10, lr = 0.003, wd = 1e-5):\n",
        "  torch.manual_seed(360)\n",
        "\n",
        "  train_loader, val_loader, test_loader = feature_loader(feature_root_path, 0.6, 0.2, batch_size)\n",
        "\n",
        "  # Initialize containers for error and loss\n",
        "  train_err, train_loss, val_err, val_loss = [], [], [], []\n",
        "\n",
        "  # set up optimizer\n",
        "  criterion = nn.CrossEntropyLoss()\n",
        "  optimizer = optim.Adam(model.parameters(), lr = lr, \n",
        "                                 weight_decay=wd)\n",
        "\n",
        "  start_time = time.time()\n",
        "\n",
        "  for epoch in range(num_epochs):\n",
        "    epoch_total = 0\n",
        "    epoch_correct = 0\n",
        "    epoch_loss = 0\n",
        "    model.train()\n",
        "    for feature, labels in iter(train_loader):\n",
        "\n",
        "      # Enable GPU\n",
        "      if use_cuda and torch.cuda.is_available():\n",
        "        feature = feature.cuda()\n",
        "        labels = labels.cuda()\n",
        "      \n",
        "      # zero parameter gradients\n",
        "      optimizer.zero_grad()\n",
        "\n",
        "      # forward pass, backward pass, and optimize\n",
        "      out = model(feature)\n",
        "      loss = criterion(out, labels)\n",
        "      loss.backward()\n",
        "      optimizer.step()\n",
        "      \n",
        "      # mini batch statistics\n",
        "      pred = out.max(1, keepdim = True)[1]\n",
        "      epoch_correct += pred.eq(labels.view_as(pred)).sum().item()\n",
        "      epoch_total += feature.shape[0]\n",
        "      epoch_loss += loss.item()\n",
        "    train_err.append(1 - (epoch_correct / epoch_total))\n",
        "    train_loss.append(epoch_loss)\n",
        "    a, b = evaluate(model, val_loader, criterion)\n",
        "    val_err.append(a)\n",
        "    val_loss.append(b)\n",
        "    \n",
        "    print (\"Epoch %d Finished. \" % epoch ,\"Time per Epoch: % 6.2f s \"% ((time.time()-start_time) / (epoch +1)))\n",
        "    print (\"train err: {:.4f}, train loss: {:.4f}\".format(train_err[epoch], train_loss[epoch]))\n",
        "    print (\"validation err: {:.4f}, validation loss: {:.4f}\".format(a, b))\n",
        "\n",
        "    # save the current model state\n",
        "    if val_err[-1] < 0.15:\n",
        "      model_path = get_model_name(model.name, batch_size, lr, epoch)\n",
        "      torch.save(model.state_dict(), model_path)\n",
        "  \n",
        "  print('Finished training in %6.2f s' % (time.time()-start_time))\n",
        "  np.savetxt(\"{}_train_err.csv\".format(model_path), train_err)\n",
        "  np.savetxt(\"{}_train_loss.csv\".format(model_path), train_loss)\n",
        "  np.savetxt(\"{}_val_err.csv\".format(model_path), val_err)\n",
        "  np.savetxt(\"{}_val_loss.csv\".format(model_path), val_loss)\n"
      ],
      "execution_count": null,
      "outputs": []
    },
    {
      "cell_type": "markdown",
      "metadata": {
        "id": "nqhjqN7xhcwp",
        "colab_type": "text"
      },
      "source": [
        "# training classifier"
      ]
    },
    {
      "cell_type": "code",
      "metadata": {
        "id": "UCbNtYtIhfiJ",
        "colab_type": "code",
        "colab": {}
      },
      "source": [
        "# function to load features\n",
        "def feature_loader(feature_root_path, train_p, val_p, batch_size = 32):\n",
        "  dataset = torchvision.datasets.DatasetFolder(feature_root_path,\\\n",
        "                                                 loader = torch.load, extensions = ('.tensor'))\n",
        "\n",
        "  split = [int(train_p * len(dataset)), int(val_p * len(dataset))]\n",
        "  split.append(len(dataset) - split[1] - split[0])\n",
        "\n",
        "  train_set, val_set, test_set = torch.utils.data.random_split(dataset, split)\n",
        "  num_workers = 4\n",
        "\n",
        "  train_loader = torch.utils.data.DataLoader(train_set, batch_size=batch_size,\n",
        "                                             num_workers = num_workers, shuffle = True)\n",
        "  val_loader = torch.utils.data.DataLoader(val_set, batch_size=batch_size,\n",
        "                                             num_workers = num_workers, shuffle = True)\n",
        "  test_loader = torch.utils.data.DataLoader(test_set, batch_size=batch_size,\n",
        "                                             num_workers = num_workers, shuffle = True)\n",
        "  return train_loader, val_loader, test_loader"
      ],
      "execution_count": null,
      "outputs": []
    },
    {
      "cell_type": "code",
      "metadata": {
        "id": "8QBfLAsKhriX",
        "colab_type": "code",
        "colab": {
          "base_uri": "https://localhost:8080/",
          "height": 312
        },
        "outputId": "298230c8-f8e8-4127-8f5f-d2199815c4c3"
      },
      "source": [
        "class TransferLearningNetDp3(nn.Module):\n",
        "  def __init__(self, p=0.0):\n",
        "    super(TransferLearningNetDp3, self).__init__()\n",
        "    self.name = \"tNetDp3\"\n",
        "    self.fc1 = nn.Linear(256*6*6, 3600)\n",
        "    self.fc2 = nn.Linear(3600, 1200)\n",
        "    self.fc3 = nn.Linear(1200, 50)\n",
        "    self.dropout = nn.Dropout(p=p)\n",
        "  \n",
        "  def forward(self, x):\n",
        "    x = x.view(-1, 256*6*6)\n",
        "    x = F.leaky_relu(self.fc1(x))\n",
        "    x = F.leaky_relu(self.fc2(x))\n",
        "    x = self.fc3(x)\n",
        "    x = self.dropout(x)\n",
        "    return x\n",
        "\n",
        "tNet = TransferLearningNetDp3()\n",
        "summary(tNet, (256,6,6), device='cpu')"
      ],
      "execution_count": null,
      "outputs": [
        {
          "output_type": "stream",
          "text": [
            "----------------------------------------------------------------\n",
            "        Layer (type)               Output Shape         Param #\n",
            "================================================================\n",
            "            Linear-1                 [-1, 3600]      33,181,200\n",
            "            Linear-2                 [-1, 1200]       4,321,200\n",
            "            Linear-3                   [-1, 50]          60,050\n",
            "           Dropout-4                   [-1, 50]               0\n",
            "================================================================\n",
            "Total params: 37,562,450\n",
            "Trainable params: 37,562,450\n",
            "Non-trainable params: 0\n",
            "----------------------------------------------------------------\n",
            "Input size (MB): 0.04\n",
            "Forward/backward pass size (MB): 0.04\n",
            "Params size (MB): 143.29\n",
            "Estimated Total Size (MB): 143.36\n",
            "----------------------------------------------------------------\n"
          ],
          "name": "stdout"
        }
      ]
    },
    {
      "cell_type": "code",
      "metadata": {
        "id": "D9ciHtb0iAJV",
        "colab_type": "code",
        "colab": {
          "base_uri": "https://localhost:8080/",
          "height": 1000
        },
        "outputId": "c8da02c1-d9d4-444c-e5dd-9321d4e1211b"
      },
      "source": [
        "#Training with larger batch size\n",
        "use_cuda = False\n",
        "tNetDp = TransferLearningNetDp3(0.3)\n",
        "transfer_train(tNetDp, batch_size=500, num_epochs=100, lr=0.001)"
      ],
      "execution_count": null,
      "outputs": [
        {
          "output_type": "stream",
          "text": [
            "Epoch 0 Finished.  Time per Epoch:  48.20 s \n",
            "train err: 0.7268, train loss: 76.1775\n",
            "validation err: 0.4113, validation loss: 11.5245\n",
            "Epoch 1 Finished.  Time per Epoch:  48.38 s \n",
            "train err: 0.4781, train loss: 44.7274\n",
            "validation err: 0.2616, validation loss: 6.9607\n",
            "Epoch 2 Finished.  Time per Epoch:  48.36 s \n",
            "train err: 0.4241, train loss: 38.3777\n",
            "validation err: 0.2403, validation loss: 6.0227\n",
            "Epoch 3 Finished.  Time per Epoch:  48.64 s \n",
            "train err: 0.3891, train loss: 34.5589\n",
            "validation err: 0.1968, validation loss: 4.8100\n",
            "Epoch 4 Finished.  Time per Epoch:  48.61 s \n",
            "train err: 0.3841, train loss: 33.2669\n",
            "validation err: 0.1944, validation loss: 4.8045\n",
            "Epoch 5 Finished.  Time per Epoch:  48.87 s \n",
            "train err: 0.3819, train loss: 32.4709\n",
            "validation err: 0.1708, validation loss: 4.1915\n",
            "Epoch 6 Finished.  Time per Epoch:  48.88 s \n",
            "train err: 0.3610, train loss: 30.6357\n",
            "validation err: 0.1884, validation loss: 4.7932\n",
            "Epoch 7 Finished.  Time per Epoch:  49.07 s \n",
            "train err: 0.3698, train loss: 30.9211\n",
            "validation err: 0.1523, validation loss: 3.7950\n",
            "Epoch 8 Finished.  Time per Epoch:  49.07 s \n",
            "train err: 0.3545, train loss: 29.3539\n",
            "validation err: 0.1574, validation loss: 3.8378\n",
            "Epoch 9 Finished.  Time per Epoch:  49.21 s \n",
            "train err: 0.3394, train loss: 27.6550\n",
            "validation err: 0.1470, validation loss: 3.5878\n",
            "Epoch 10 Finished.  Time per Epoch:  49.23 s \n",
            "train err: 0.3505, train loss: 28.3622\n",
            "validation err: 0.1653, validation loss: 4.3734\n",
            "Epoch 11 Finished.  Time per Epoch:  49.39 s \n",
            "train err: 0.3398, train loss: 27.3474\n",
            "validation err: 0.1433, validation loss: 3.5869\n",
            "Epoch 12 Finished.  Time per Epoch:  49.49 s \n",
            "train err: 0.3366, train loss: 26.8162\n",
            "validation err: 0.1530, validation loss: 4.0705\n",
            "Epoch 13 Finished.  Time per Epoch:  49.67 s \n",
            "train err: 0.3421, train loss: 27.1106\n",
            "validation err: 0.1630, validation loss: 4.1590\n",
            "Epoch 14 Finished.  Time per Epoch:  49.86 s \n",
            "train err: 0.3355, train loss: 26.7001\n",
            "validation err: 0.1625, validation loss: 4.2711\n",
            "Epoch 15 Finished.  Time per Epoch:  49.98 s \n",
            "train err: 0.3247, train loss: 25.7276\n",
            "validation err: 0.1361, validation loss: 3.6745\n",
            "Epoch 16 Finished.  Time per Epoch:  50.08 s \n",
            "train err: 0.3208, train loss: 24.9908\n",
            "validation err: 0.1368, validation loss: 3.7750\n",
            "Epoch 17 Finished.  Time per Epoch:  50.22 s \n",
            "train err: 0.3335, train loss: 26.1088\n",
            "validation err: 0.1354, validation loss: 3.8275\n",
            "Epoch 18 Finished.  Time per Epoch:  50.36 s \n",
            "train err: 0.3184, train loss: 24.7345\n",
            "validation err: 0.1336, validation loss: 3.8334\n",
            "Epoch 19 Finished.  Time per Epoch:  50.57 s \n",
            "train err: 0.3245, train loss: 25.2078\n",
            "validation err: 0.1289, validation loss: 3.7318\n",
            "Epoch 20 Finished.  Time per Epoch:  51.05 s \n",
            "train err: 0.3252, train loss: 25.4720\n",
            "validation err: 0.1623, validation loss: 5.2390\n",
            "Epoch 21 Finished.  Time per Epoch:  51.35 s \n",
            "train err: 0.3217, train loss: 25.0711\n",
            "validation err: 0.1417, validation loss: 3.9832\n",
            "Epoch 22 Finished.  Time per Epoch:  51.90 s \n",
            "train err: 0.3134, train loss: 24.1741\n",
            "validation err: 0.1366, validation loss: 4.3938\n",
            "Epoch 23 Finished.  Time per Epoch:  52.51 s \n",
            "train err: 0.3234, train loss: 24.9734\n",
            "validation err: 0.1544, validation loss: 4.8938\n",
            "Epoch 24 Finished.  Time per Epoch:  52.87 s \n",
            "train err: 0.3134, train loss: 23.6875\n",
            "validation err: 0.1322, validation loss: 4.2387\n",
            "Epoch 25 Finished.  Time per Epoch:  53.26 s \n",
            "train err: 0.3202, train loss: 24.4831\n",
            "validation err: 0.1438, validation loss: 4.3563\n",
            "Epoch 26 Finished.  Time per Epoch:  53.58 s \n",
            "train err: 0.3153, train loss: 23.8854\n",
            "validation err: 0.1227, validation loss: 4.0478\n",
            "Epoch 27 Finished.  Time per Epoch:  53.81 s \n",
            "train err: 0.3135, train loss: 23.6097\n",
            "validation err: 0.1363, validation loss: 4.6920\n",
            "Epoch 28 Finished.  Time per Epoch:  54.04 s \n",
            "train err: 0.3186, train loss: 24.1616\n",
            "validation err: 0.1438, validation loss: 5.1777\n",
            "Epoch 29 Finished.  Time per Epoch:  54.22 s \n",
            "train err: 0.3164, train loss: 24.1726\n",
            "validation err: 0.1463, validation loss: 4.6439\n",
            "Epoch 30 Finished.  Time per Epoch:  54.58 s \n",
            "train err: 0.2992, train loss: 22.5576\n",
            "validation err: 0.1250, validation loss: 4.1696\n",
            "Epoch 31 Finished.  Time per Epoch:  54.83 s \n",
            "train err: 0.3079, train loss: 23.1430\n",
            "validation err: 0.1366, validation loss: 4.4674\n",
            "Epoch 32 Finished.  Time per Epoch:  54.95 s \n",
            "train err: 0.3137, train loss: 23.8715\n",
            "validation err: 0.1405, validation loss: 4.7839\n",
            "Epoch 33 Finished.  Time per Epoch:  54.96 s \n",
            "train err: 0.3119, train loss: 23.4920\n",
            "validation err: 0.1252, validation loss: 4.4723\n",
            "Epoch 34 Finished.  Time per Epoch:  54.98 s \n",
            "train err: 0.3006, train loss: 22.3048\n",
            "validation err: 0.1157, validation loss: 4.4005\n",
            "Epoch 35 Finished.  Time per Epoch:  55.04 s \n",
            "train err: 0.3071, train loss: 22.6466\n",
            "validation err: 0.1356, validation loss: 5.1751\n",
            "Epoch 36 Finished.  Time per Epoch:  55.08 s \n",
            "train err: 0.3083, train loss: 23.1028\n",
            "validation err: 0.1447, validation loss: 5.2486\n",
            "Epoch 37 Finished.  Time per Epoch:  55.15 s \n",
            "train err: 0.3068, train loss: 22.8135\n",
            "validation err: 0.1257, validation loss: 4.7054\n",
            "Epoch 38 Finished.  Time per Epoch:  55.21 s \n",
            "train err: 0.3118, train loss: 22.9550\n",
            "validation err: 0.1317, validation loss: 5.0449\n",
            "Epoch 39 Finished.  Time per Epoch:  55.32 s \n",
            "train err: 0.3069, train loss: 22.6409\n",
            "validation err: 0.1306, validation loss: 4.8472\n",
            "Epoch 40 Finished.  Time per Epoch:  55.39 s \n",
            "train err: 0.3032, train loss: 22.1265\n",
            "validation err: 0.1238, validation loss: 4.8003\n",
            "Epoch 41 Finished.  Time per Epoch:  55.46 s \n",
            "train err: 0.3076, train loss: 22.5491\n",
            "validation err: 0.1218, validation loss: 4.6092\n",
            "Epoch 42 Finished.  Time per Epoch:  55.56 s \n",
            "train err: 0.3086, train loss: 22.4522\n",
            "validation err: 0.1245, validation loss: 5.2040\n",
            "Epoch 43 Finished.  Time per Epoch:  55.66 s \n",
            "train err: 0.3032, train loss: 22.0268\n",
            "validation err: 0.1208, validation loss: 4.8639\n",
            "Epoch 44 Finished.  Time per Epoch:  55.74 s \n",
            "train err: 0.3029, train loss: 21.9470\n",
            "validation err: 0.1218, validation loss: 5.0767\n",
            "Epoch 45 Finished.  Time per Epoch:  55.87 s \n",
            "train err: 0.2978, train loss: 21.7057\n",
            "validation err: 0.1396, validation loss: 6.0026\n",
            "Epoch 46 Finished.  Time per Epoch:  56.00 s \n",
            "train err: 0.3110, train loss: 22.7242\n",
            "validation err: 0.1252, validation loss: 4.9877\n",
            "Epoch 47 Finished.  Time per Epoch:  56.12 s \n",
            "train err: 0.3024, train loss: 21.9758\n",
            "validation err: 0.1176, validation loss: 5.1975\n",
            "Epoch 48 Finished.  Time per Epoch:  56.28 s \n",
            "train err: 0.2973, train loss: 21.4668\n",
            "validation err: 0.1215, validation loss: 5.3415\n",
            "Epoch 49 Finished.  Time per Epoch:  56.46 s \n",
            "train err: 0.2989, train loss: 21.5765\n",
            "validation err: 0.1201, validation loss: 5.3602\n",
            "Epoch 50 Finished.  Time per Epoch:  56.63 s \n",
            "train err: 0.3039, train loss: 22.1245\n",
            "validation err: 0.1384, validation loss: 5.8438\n",
            "Epoch 51 Finished.  Time per Epoch:  56.81 s \n",
            "train err: 0.3045, train loss: 22.1722\n",
            "validation err: 0.1354, validation loss: 5.7195\n",
            "Epoch 52 Finished.  Time per Epoch:  56.95 s \n",
            "train err: 0.3177, train loss: 24.8212\n",
            "validation err: 0.1787, validation loss: 7.2161\n",
            "Epoch 53 Finished.  Time per Epoch:  57.05 s \n",
            "train err: 0.3149, train loss: 23.9663\n",
            "validation err: 0.1340, validation loss: 5.4212\n",
            "Epoch 54 Finished.  Time per Epoch:  57.13 s \n",
            "train err: 0.3157, train loss: 24.7617\n",
            "validation err: 0.1377, validation loss: 4.9441\n",
            "Epoch 55 Finished.  Time per Epoch:  57.28 s \n",
            "train err: 0.3015, train loss: 22.5035\n",
            "validation err: 0.1396, validation loss: 5.5308\n",
            "Epoch 56 Finished.  Time per Epoch:  57.40 s \n",
            "train err: 0.3118, train loss: 23.1571\n",
            "validation err: 0.1248, validation loss: 4.7073\n",
            "Epoch 57 Finished.  Time per Epoch:  57.49 s \n",
            "train err: 0.3081, train loss: 22.5298\n",
            "validation err: 0.1225, validation loss: 4.9786\n",
            "Epoch 58 Finished.  Time per Epoch:  57.58 s \n",
            "train err: 0.3066, train loss: 22.4673\n",
            "validation err: 0.1231, validation loss: 5.3760\n",
            "Epoch 59 Finished.  Time per Epoch:  57.67 s \n",
            "train err: 0.3103, train loss: 22.8723\n",
            "validation err: 0.1435, validation loss: 5.7202\n",
            "Epoch 60 Finished.  Time per Epoch:  57.73 s \n",
            "train err: 0.3086, train loss: 22.6888\n",
            "validation err: 0.1238, validation loss: 5.0255\n",
            "Epoch 61 Finished.  Time per Epoch:  57.79 s \n",
            "train err: 0.3151, train loss: 24.3558\n",
            "validation err: 0.1382, validation loss: 4.9672\n",
            "Epoch 62 Finished.  Time per Epoch:  57.80 s \n",
            "train err: 0.3025, train loss: 22.1899\n",
            "validation err: 0.1220, validation loss: 4.9531\n",
            "Epoch 63 Finished.  Time per Epoch:  57.86 s \n",
            "train err: 0.2993, train loss: 21.6100\n",
            "validation err: 0.1153, validation loss: 4.8426\n",
            "Epoch 64 Finished.  Time per Epoch:  57.91 s \n",
            "train err: 0.2968, train loss: 21.3750\n",
            "validation err: 0.1160, validation loss: 5.0768\n",
            "Epoch 65 Finished.  Time per Epoch:  57.97 s \n",
            "train err: 0.2948, train loss: 21.1460\n",
            "validation err: 0.1155, validation loss: 5.1409\n",
            "Epoch 66 Finished.  Time per Epoch:  58.01 s \n",
            "train err: 0.3031, train loss: 21.6874\n",
            "validation err: 0.1100, validation loss: 5.0055\n",
            "Epoch 67 Finished.  Time per Epoch:  58.05 s \n",
            "train err: 0.3058, train loss: 21.8976\n",
            "validation err: 0.1155, validation loss: 5.3423\n",
            "Epoch 68 Finished.  Time per Epoch:  58.11 s \n",
            "train err: 0.2961, train loss: 21.2373\n",
            "validation err: 0.1137, validation loss: 5.5376\n",
            "Epoch 69 Finished.  Time per Epoch:  58.17 s \n",
            "train err: 0.2976, train loss: 21.2997\n",
            "validation err: 0.1132, validation loss: 5.3475\n",
            "Epoch 70 Finished.  Time per Epoch:  58.22 s \n",
            "train err: 0.2965, train loss: 21.2287\n",
            "validation err: 0.1206, validation loss: 5.9284\n",
            "Epoch 71 Finished.  Time per Epoch:  58.29 s \n",
            "train err: 0.3137, train loss: 22.5433\n",
            "validation err: 0.1150, validation loss: 5.3272\n",
            "Epoch 72 Finished.  Time per Epoch:  58.34 s \n",
            "train err: 0.2939, train loss: 21.0272\n",
            "validation err: 0.1153, validation loss: 5.4615\n",
            "Epoch 73 Finished.  Time per Epoch:  58.40 s \n",
            "train err: 0.3095, train loss: 22.1280\n",
            "validation err: 0.1118, validation loss: 5.5619\n",
            "Epoch 74 Finished.  Time per Epoch:  58.46 s \n",
            "train err: 0.2985, train loss: 21.3381\n",
            "validation err: 0.1190, validation loss: 5.9442\n",
            "Epoch 75 Finished.  Time per Epoch:  58.52 s \n",
            "train err: 0.3052, train loss: 22.0249\n",
            "validation err: 0.1201, validation loss: 5.5738\n",
            "Epoch 76 Finished.  Time per Epoch:  58.55 s \n",
            "train err: 0.3033, train loss: 21.9825\n",
            "validation err: 0.1153, validation loss: 5.1010\n",
            "Epoch 77 Finished.  Time per Epoch:  58.62 s \n",
            "train err: 0.3029, train loss: 21.6737\n",
            "validation err: 0.1169, validation loss: 5.5848\n",
            "Epoch 78 Finished.  Time per Epoch:  58.68 s \n",
            "train err: 0.3067, train loss: 22.3825\n",
            "validation err: 0.1370, validation loss: 5.8683\n",
            "Epoch 79 Finished.  Time per Epoch:  58.77 s \n",
            "train err: 0.3103, train loss: 23.0405\n",
            "validation err: 0.1428, validation loss: 6.0896\n",
            "Epoch 80 Finished.  Time per Epoch:  58.82 s \n",
            "train err: 0.3021, train loss: 22.1913\n",
            "validation err: 0.1312, validation loss: 6.0400\n",
            "Epoch 81 Finished.  Time per Epoch:  58.89 s \n",
            "train err: 0.3019, train loss: 21.9121\n",
            "validation err: 0.1412, validation loss: 7.1346\n",
            "Epoch 82 Finished.  Time per Epoch:  58.94 s \n",
            "train err: 0.3106, train loss: 22.7520\n",
            "validation err: 0.1419, validation loss: 6.6542\n",
            "Epoch 83 Finished.  Time per Epoch:  58.97 s \n",
            "train err: 0.3063, train loss: 22.5799\n",
            "validation err: 0.1289, validation loss: 5.9612\n",
            "Epoch 84 Finished.  Time per Epoch:  59.02 s \n",
            "train err: 0.2958, train loss: 21.3842\n",
            "validation err: 0.1273, validation loss: 6.0479\n",
            "Epoch 85 Finished.  Time per Epoch:  59.08 s \n",
            "train err: 0.2944, train loss: 21.1745\n",
            "validation err: 0.1123, validation loss: 5.4935\n",
            "Epoch 86 Finished.  Time per Epoch:  59.15 s \n",
            "train err: 0.2988, train loss: 21.4084\n",
            "validation err: 0.1181, validation loss: 5.9194\n",
            "Epoch 87 Finished.  Time per Epoch:  59.19 s \n",
            "train err: 0.2927, train loss: 20.9870\n",
            "validation err: 0.1137, validation loss: 5.9611\n",
            "Epoch 88 Finished.  Time per Epoch:  59.25 s \n",
            "train err: 0.3041, train loss: 21.6990\n",
            "validation err: 0.1097, validation loss: 5.8630\n",
            "Epoch 89 Finished.  Time per Epoch:  59.34 s \n",
            "train err: 0.2965, train loss: 21.1195\n",
            "validation err: 0.1106, validation loss: 5.9710\n",
            "Epoch 90 Finished.  Time per Epoch:  59.39 s \n",
            "train err: 0.2989, train loss: 21.2569\n",
            "validation err: 0.1102, validation loss: 5.9724\n",
            "Epoch 91 Finished.  Time per Epoch:  59.46 s \n",
            "train err: 0.3022, train loss: 21.5557\n",
            "validation err: 0.1150, validation loss: 5.9997\n",
            "Epoch 92 Finished.  Time per Epoch:  59.50 s \n",
            "train err: 0.3015, train loss: 21.5412\n",
            "validation err: 0.1102, validation loss: 5.9010\n",
            "Epoch 93 Finished.  Time per Epoch:  59.56 s \n",
            "train err: 0.3023, train loss: 21.5348\n",
            "validation err: 0.1097, validation loss: 6.1437\n",
            "Epoch 94 Finished.  Time per Epoch:  59.60 s \n",
            "train err: 0.3047, train loss: 21.6916\n",
            "validation err: 0.1127, validation loss: 6.0814\n",
            "Epoch 95 Finished.  Time per Epoch:  59.65 s \n",
            "train err: 0.2954, train loss: 20.9676\n",
            "validation err: 0.1132, validation loss: 6.2635\n",
            "Epoch 96 Finished.  Time per Epoch:  59.72 s \n",
            "train err: 0.3035, train loss: 21.5831\n",
            "validation err: 0.1130, validation loss: 6.2557\n",
            "Epoch 97 Finished.  Time per Epoch:  59.78 s \n",
            "train err: 0.2966, train loss: 21.0861\n",
            "validation err: 0.1097, validation loss: 6.3550\n",
            "Epoch 98 Finished.  Time per Epoch:  59.84 s \n",
            "train err: 0.2972, train loss: 21.1423\n",
            "validation err: 0.1106, validation loss: 6.2795\n",
            "Epoch 99 Finished.  Time per Epoch:  59.89 s \n",
            "train err: 0.3034, train loss: 21.5932\n",
            "validation err: 0.1127, validation loss: 6.4486\n",
            "Finished training in 5989.38 s\n"
          ],
          "name": "stdout"
        }
      ]
    },
    {
      "cell_type": "code",
      "metadata": {
        "id": "9ujOuakch-Cd",
        "colab_type": "code",
        "colab": {
          "base_uri": "https://localhost:8080/",
          "height": 573
        },
        "outputId": "800ef9a5-958d-4a36-c321-b1bd458290ed"
      },
      "source": [
        "plot_training_curve(get_model_name(tNetDp.name, 500, 0.001, 99))"
      ],
      "execution_count": null,
      "outputs": [
        {
          "output_type": "display_data",
          "data": {
            "image/png": "[encoded data removed]",
            "text/plain": [
              "<Figure size 432x288 with 1 Axes>"
            ]
          },
          "metadata": {
            "tags": [],
            "needs_background": "light"
          }
        },
        {
          "output_type": "display_data",
          "data": {
            "image/png": "[encoded data removed]",
            "text/plain": [
              "<Figure size 432x288 with 1 Axes>"
            ]
          },
          "metadata": {
            "tags": [],
            "needs_background": "light"
          }
        }
      ]
    },
    {
      "cell_type": "code",
      "metadata": {
        "id": "cNrST-Oo5TJ0",
        "colab_type": "code",
        "colab": {
          "base_uri": "https://localhost:8080/",
          "height": 758
        },
        "outputId": "a789373d-722f-49b7-9a38-313f6d48f09f"
      },
      "source": [
        "# evaluate performance class by class\n",
        "train_loader, valid_loader, test_loader = feature_loader(feature_root_path, 0.6, 0.2, batch_size = 1)\n",
        "# load the data first\n",
        "# the data had been previously copied into the workspace as small set\n",
        "model = tNetDp\n",
        "correct = 0\n",
        "total = 0\n",
        "correct_by_class = [0 for i in range(0, 27)]\n",
        "total_per_class = [0 for i in range(0, 27)]\n",
        "loader = valid_loader\n",
        "model.eval()\n",
        "with torch.no_grad():\n",
        "  for i, data in enumerate(loader, 0):\n",
        "    feature, labels = data\n",
        "\n",
        "    output = model(feature)\n",
        "\n",
        "\n",
        "    # select index with maximum prediction score\n",
        "    pred = output.max(1, keepdim = True)[1]\n",
        "    correct += pred.eq(labels.view_as(pred)).sum().item()\n",
        "    correct_by_class[labels] = correct_by_class[labels]\\\n",
        "                                + pred.eq(labels.view_as(pred)).sum().item()\n",
        "    total += feature.shape[0]\n",
        "    total_per_class[labels] += 1\n",
        "print(correct_by_class)\n",
        "print(total_per_class)\n",
        "for i in range(0, 27):\n",
        "  print(\"Class {}: {} out of {}, {}\".format(classes[i], correct_by_class[i], \n",
        "                                            total_per_class[i],\n",
        "                                            correct_by_class[i]/total_per_class[i]))\n",
        "print(total)"
      ],
      "execution_count": null,
      "outputs": [
        {
          "output_type": "stream",
          "text": [
            "[157, 144, 144, 157, 127, 140, 152, 153, 140, 150, 141, 157, 163, 150, 166, 146, 168, 170, 161, 157, 162, 163, 150, 142, 155, 144, 178]\n",
            "[164, 158, 146, 165, 141, 152, 159, 156, 154, 150, 144, 161, 173, 152, 176, 153, 169, 171, 161, 162, 175, 164, 153, 165, 155, 163, 178]\n",
            "Class 11211: 157 out of 164, 0.9573170731707317\n",
            "Class 15571: 144 out of 158, 0.9113924050632911\n",
            "Class 22388: 144 out of 146, 0.9863013698630136\n",
            "Class 2456: 157 out of 165, 0.9515151515151515\n",
            "Class 3007: 127 out of 141, 0.900709219858156\n",
            "Class 3008: 140 out of 152, 0.9210526315789473\n",
            "Class 3009: 152 out of 159, 0.9559748427672956\n",
            "Class 30136: 153 out of 156, 0.9807692307692307\n",
            "Class 3044c: 140 out of 154, 0.9090909090909091\n",
            "Class 3062b: 150 out of 150, 1.0\n",
            "Class 35464: 141 out of 144, 0.9791666666666666\n",
            "Class 3660: 157 out of 161, 0.9751552795031055\n",
            "Class 3665: 163 out of 173, 0.9421965317919075\n",
            "Class 3941: 150 out of 152, 0.9868421052631579\n",
            "Class 4070: 166 out of 176, 0.9431818181818182\n",
            "Class 42023: 146 out of 153, 0.954248366013072\n",
            "Class 4589b: 168 out of 169, 0.9940828402366864\n",
            "Class 4727: 170 out of 171, 0.9941520467836257\n",
            "Class 4733: 161 out of 161, 1.0\n",
            "Class 50950: 157 out of 162, 0.9691358024691358\n",
            "Class 6111: 162 out of 175, 0.9257142857142857\n",
            "Class 6232: 163 out of 164, 0.9939024390243902\n",
            "Class 6249: 150 out of 153, 0.9803921568627451\n",
            "Class 6541: 142 out of 165, 0.8606060606060606\n",
            "Class 87081: 155 out of 155, 1.0\n",
            "Class 87087: 144 out of 163, 0.8834355828220859\n",
            "Class 98100: 178 out of 178, 1.0\n"
          ],
          "name": "stdout"
        },
        {
          "output_type": "error",
          "ename": "IndexError",
          "evalue": "ignored",
          "traceback": [
            "\u001b[0;31m---------------------------------------------------------------------------\u001b[0m",
            "\u001b[0;31mIndexError\u001b[0m                                Traceback (most recent call last)",
            "\u001b[0;32m<ipython-input-19-d2be7373a2c2>\u001b[0m in \u001b[0;36m<module>\u001b[0;34m()\u001b[0m\n\u001b[1;32m     26\u001b[0m \u001b[0mprint\u001b[0m\u001b[0;34m(\u001b[0m\u001b[0mtotal_per_class\u001b[0m\u001b[0;34m)\u001b[0m\u001b[0;34m\u001b[0m\u001b[0;34m\u001b[0m\u001b[0m\n\u001b[1;32m     27\u001b[0m \u001b[0;32mfor\u001b[0m \u001b[0mi\u001b[0m \u001b[0;32min\u001b[0m \u001b[0mrange\u001b[0m\u001b[0;34m(\u001b[0m\u001b[0;36m0\u001b[0m\u001b[0;34m,\u001b[0m \u001b[0;36m50\u001b[0m\u001b[0;34m)\u001b[0m\u001b[0;34m:\u001b[0m\u001b[0;34m\u001b[0m\u001b[0;34m\u001b[0m\u001b[0m\n\u001b[0;32m---> 28\u001b[0;31m   print(\"Class {}: {} out of {}, {}\".format(classes[i], correct_by_class[i], \n\u001b[0m\u001b[1;32m     29\u001b[0m                                             \u001b[0mtotal_per_class\u001b[0m\u001b[0;34m[\u001b[0m\u001b[0mi\u001b[0m\u001b[0;34m]\u001b[0m\u001b[0;34m,\u001b[0m\u001b[0;34m\u001b[0m\u001b[0;34m\u001b[0m\u001b[0m\n\u001b[1;32m     30\u001b[0m                                             correct_by_class[i]/total_per_class[i]))\n",
            "\u001b[0;31mIndexError\u001b[0m: list index out of range"
          ]
        }
      ]
    },
    {
      "cell_type": "code",
      "metadata": {
        "id": "BrcwbSGK8ANh",
        "colab_type": "code",
        "colab": {
          "base_uri": "https://localhost:8080/",
          "height": 558
        },
        "outputId": "6485d7e3-db72-4c66-98e5-3458814c28ed"
      },
      "source": [
        "correct = 0\n",
        "total = 0\n",
        "correct_by_class = [0 for i in range(0, 27)]\n",
        "total_per_class = [0 for i in range(0, 27)]\n",
        "loader = test_loader\n",
        "model.eval()\n",
        "with torch.no_grad():\n",
        "  for i, data in enumerate(loader, 0):\n",
        "    feature, labels = data\n",
        "\n",
        "    output = model(feature)\n",
        "\n",
        "\n",
        "    # select index with maximum prediction score\n",
        "    pred = output.max(1, keepdim = True)[1]\n",
        "    correct += pred.eq(labels.view_as(pred)).sum().item()\n",
        "    correct_by_class[labels] = correct_by_class[labels]\\\n",
        "                                + pred.eq(labels.view_as(pred)).sum().item()\n",
        "    total += feature.shape[0]\n",
        "    total_per_class[labels] += 1\n",
        "print(correct_by_class)\n",
        "print(total_per_class)\n",
        "for i in range(0, 27):\n",
        "  print(\"Class {}: {} out of {}, {}\".format(classes[i], correct_by_class[i], \n",
        "                                            total_per_class[i],\n",
        "                                            correct_by_class[i]/total_per_class[i]))\n",
        "print(total)"
      ],
      "execution_count": null,
      "outputs": [
        {
          "output_type": "stream",
          "text": [
            "[155, 136, 160, 141, 154, 153, 159, 149, 161, 141, 163, 155, 160, 170, 156, 162, 167, 151, 155, 137, 140, 167, 163, 154, 145, 143, 147]\n",
            "[161, 148, 163, 144, 163, 166, 169, 151, 171, 141, 172, 157, 170, 170, 169, 169, 167, 151, 156, 143, 161, 170, 167, 171, 145, 158, 147]\n",
            "Class 11211: 155 out of 161, 0.9627329192546584\n",
            "Class 15571: 136 out of 148, 0.918918918918919\n",
            "Class 22388: 160 out of 163, 0.9815950920245399\n",
            "Class 2456: 141 out of 144, 0.9791666666666666\n",
            "Class 3007: 154 out of 163, 0.9447852760736196\n",
            "Class 3008: 153 out of 166, 0.9216867469879518\n",
            "Class 3009: 159 out of 169, 0.9408284023668639\n",
            "Class 30136: 149 out of 151, 0.9867549668874173\n",
            "Class 3044c: 161 out of 171, 0.9415204678362573\n",
            "Class 3062b: 141 out of 141, 1.0\n",
            "Class 35464: 163 out of 172, 0.9476744186046512\n",
            "Class 3660: 155 out of 157, 0.9872611464968153\n",
            "Class 3665: 160 out of 170, 0.9411764705882353\n",
            "Class 3941: 170 out of 170, 1.0\n",
            "Class 4070: 156 out of 169, 0.9230769230769231\n",
            "Class 42023: 162 out of 169, 0.9585798816568047\n",
            "Class 4589b: 167 out of 167, 1.0\n",
            "Class 4727: 151 out of 151, 1.0\n",
            "Class 4733: 155 out of 156, 0.9935897435897436\n",
            "Class 50950: 137 out of 143, 0.958041958041958\n",
            "Class 6111: 140 out of 161, 0.8695652173913043\n",
            "Class 6232: 167 out of 170, 0.9823529411764705\n",
            "Class 6249: 163 out of 167, 0.9760479041916168\n",
            "Class 6541: 154 out of 171, 0.9005847953216374\n",
            "Class 87081: 145 out of 145, 1.0\n",
            "Class 87087: 143 out of 158, 0.9050632911392406\n",
            "Class 98100: 147 out of 147, 1.0\n",
            "4320\n"
          ],
          "name": "stdout"
        }
      ]
    },
    {
      "cell_type": "markdown",
      "metadata": {
        "id": "2Ndt-we-cKEv",
        "colab_type": "text"
      },
      "source": [
        "# complete Berend data set"
      ]
    },
    {
      "cell_type": "code",
      "metadata": {
        "id": "hnCqti4ulKjY",
        "colab_type": "code",
        "colab": {
          "base_uri": "https://localhost:8080/",
          "height": 312
        },
        "outputId": "3cdfb647-593f-4ccf-a439-21e806564b3c"
      },
      "source": [
        "class TransferLearningNetDp4(nn.Module):\n",
        "  def __init__(self, p=0.0):\n",
        "    super(TransferLearningNetDp4, self).__init__()\n",
        "    self.name = \"tNetDp3\"\n",
        "    self.fc1 = nn.Linear(256*6*6, 3600)\n",
        "    self.fc2 = nn.Linear(3600, 1200)\n",
        "    self.fc3 = nn.Linear(1200, len(classes))\n",
        "    self.dropout = nn.Dropout(p=p)\n",
        "  \n",
        "  def forward(self, x):\n",
        "    x = x.view(-1, 256*6*6)\n",
        "    x = F.leaky_relu(self.fc1(x))\n",
        "    x = F.leaky_relu(self.fc2(x))\n",
        "    x = self.fc3(x)\n",
        "    x = self.dropout(x)\n",
        "    return x\n",
        "\n",
        "tNet = TransferLearningNetDp4()\n",
        "summary(tNet, (256,6,6), device='cpu')"
      ],
      "execution_count": null,
      "outputs": [
        {
          "output_type": "stream",
          "text": [
            "----------------------------------------------------------------\n",
            "        Layer (type)               Output Shape         Param #\n",
            "================================================================\n",
            "            Linear-1                 [-1, 3600]      33,181,200\n",
            "            Linear-2                 [-1, 1200]       4,321,200\n",
            "            Linear-3                   [-1, 35]          42,035\n",
            "           Dropout-4                   [-1, 35]               0\n",
            "================================================================\n",
            "Total params: 37,544,435\n",
            "Trainable params: 37,544,435\n",
            "Non-trainable params: 0\n",
            "----------------------------------------------------------------\n",
            "Input size (MB): 0.04\n",
            "Forward/backward pass size (MB): 0.04\n",
            "Params size (MB): 143.22\n",
            "Estimated Total Size (MB): 143.29\n",
            "----------------------------------------------------------------\n"
          ],
          "name": "stdout"
        }
      ]
    },
    {
      "cell_type": "code",
      "metadata": {
        "id": "aYEX-EwonvHS",
        "colab_type": "code",
        "colab": {}
      },
      "source": [
        "!rm -rf {\"./model*\"}"
      ],
      "execution_count": null,
      "outputs": []
    },
    {
      "cell_type": "code",
      "metadata": {
        "id": "_WWrjh1icJm3",
        "colab_type": "code",
        "colab": {
          "base_uri": "https://localhost:8080/",
          "height": 1000
        },
        "outputId": "d7ac45d1-f306-4468-ef05-567657b6e174"
      },
      "source": [
        "#Training with larger batch size\n",
        "use_cuda = True\n",
        "tNetDp = TransferLearningNetDp4(0.3).cuda()\n",
        "transfer_train(tNetDp, batch_size=400, num_epochs=100, lr=0.0015)"
      ],
      "execution_count": null,
      "outputs": [
        {
          "output_type": "stream",
          "text": [
            "Epoch 0 Finished.  Time per Epoch:   5.52 s \n",
            "train err: 0.7040, train loss: 126.1740\n",
            "validation err: 0.3652, validation loss: 15.1993\n",
            "Epoch 1 Finished.  Time per Epoch:   5.56 s \n",
            "train err: 0.4600, train loss: 64.4531\n",
            "validation err: 0.2520, validation loss: 10.4190\n",
            "Epoch 2 Finished.  Time per Epoch:   5.57 s \n",
            "train err: 0.4075, train loss: 55.5382\n",
            "validation err: 0.2164, validation loss: 8.8273\n",
            "Epoch 3 Finished.  Time per Epoch:   5.56 s \n",
            "train err: 0.3838, train loss: 51.6116\n",
            "validation err: 0.1725, validation loss: 6.9200\n",
            "Epoch 4 Finished.  Time per Epoch:   5.56 s \n",
            "train err: 0.3640, train loss: 48.2196\n",
            "validation err: 0.1713, validation loss: 6.7498\n",
            "Epoch 5 Finished.  Time per Epoch:   5.55 s \n",
            "train err: 0.3533, train loss: 45.9800\n",
            "validation err: 0.1523, validation loss: 6.0540\n",
            "Epoch 6 Finished.  Time per Epoch:   5.55 s \n",
            "train err: 0.3476, train loss: 44.6248\n",
            "validation err: 0.1491, validation loss: 5.7087\n",
            "Epoch 7 Finished.  Time per Epoch:   5.62 s \n",
            "train err: 0.3282, train loss: 41.8959\n",
            "validation err: 0.1470, validation loss: 5.8359\n",
            "Epoch 8 Finished.  Time per Epoch:   5.65 s \n",
            "train err: 0.3246, train loss: 40.6028\n",
            "validation err: 0.1461, validation loss: 6.0668\n",
            "Epoch 9 Finished.  Time per Epoch:   5.68 s \n",
            "train err: 0.3295, train loss: 41.4167\n",
            "validation err: 0.1370, validation loss: 5.6195\n",
            "Epoch 10 Finished.  Time per Epoch:   5.71 s \n",
            "train err: 0.3248, train loss: 40.2950\n",
            "validation err: 0.1404, validation loss: 5.7970\n",
            "Epoch 11 Finished.  Time per Epoch:   5.73 s \n",
            "train err: 0.3193, train loss: 39.2558\n",
            "validation err: 0.1268, validation loss: 5.1962\n",
            "Epoch 12 Finished.  Time per Epoch:   5.75 s \n",
            "train err: 0.3054, train loss: 37.4088\n",
            "validation err: 0.1302, validation loss: 5.3701\n",
            "Epoch 13 Finished.  Time per Epoch:   5.76 s \n",
            "train err: 0.3068, train loss: 37.8066\n",
            "validation err: 0.1325, validation loss: 5.5364\n",
            "Epoch 14 Finished.  Time per Epoch:   5.77 s \n",
            "train err: 0.3156, train loss: 38.3059\n",
            "validation err: 0.1325, validation loss: 5.6734\n",
            "Epoch 15 Finished.  Time per Epoch:   5.78 s \n",
            "train err: 0.3049, train loss: 36.6269\n",
            "validation err: 0.1302, validation loss: 6.0424\n",
            "Epoch 16 Finished.  Time per Epoch:   5.79 s \n",
            "train err: 0.3033, train loss: 36.7225\n",
            "validation err: 0.1368, validation loss: 5.9880\n",
            "Epoch 17 Finished.  Time per Epoch:   5.80 s \n",
            "train err: 0.3037, train loss: 36.0981\n",
            "validation err: 0.1288, validation loss: 5.8821\n",
            "Epoch 18 Finished.  Time per Epoch:   5.80 s \n",
            "train err: 0.2973, train loss: 35.1618\n",
            "validation err: 0.1250, validation loss: 5.9217\n",
            "Epoch 19 Finished.  Time per Epoch:   5.81 s \n",
            "train err: 0.3008, train loss: 36.1222\n",
            "validation err: 0.1288, validation loss: 5.7619\n",
            "Epoch 20 Finished.  Time per Epoch:   5.82 s \n",
            "train err: 0.2972, train loss: 34.9215\n",
            "validation err: 0.1134, validation loss: 5.6584\n",
            "Epoch 21 Finished.  Time per Epoch:   5.83 s \n",
            "train err: 0.2899, train loss: 34.3244\n",
            "validation err: 0.1295, validation loss: 6.0279\n",
            "Epoch 22 Finished.  Time per Epoch:   5.83 s \n",
            "train err: 0.2955, train loss: 35.4351\n",
            "validation err: 0.1321, validation loss: 6.8134\n",
            "Epoch 23 Finished.  Time per Epoch:   5.84 s \n",
            "train err: 0.2908, train loss: 35.0550\n",
            "validation err: 0.1243, validation loss: 6.0338\n",
            "Epoch 24 Finished.  Time per Epoch:   5.84 s \n",
            "train err: 0.2929, train loss: 34.6543\n",
            "validation err: 0.1262, validation loss: 6.8463\n",
            "Epoch 25 Finished.  Time per Epoch:   5.85 s \n",
            "train err: 0.2963, train loss: 34.9889\n",
            "validation err: 0.1314, validation loss: 6.7378\n",
            "Epoch 26 Finished.  Time per Epoch:   5.85 s \n",
            "train err: 0.2924, train loss: 34.6565\n",
            "validation err: 0.1254, validation loss: 6.7922\n",
            "Epoch 27 Finished.  Time per Epoch:   5.85 s \n",
            "train err: 0.2866, train loss: 33.1287\n",
            "validation err: 0.1223, validation loss: 6.5284\n",
            "Epoch 28 Finished.  Time per Epoch:   5.86 s \n",
            "train err: 0.2890, train loss: 33.3257\n",
            "validation err: 0.1239, validation loss: 6.8591\n",
            "Epoch 29 Finished.  Time per Epoch:   5.86 s \n",
            "train err: 0.2912, train loss: 34.1867\n",
            "validation err: 0.1266, validation loss: 6.5674\n",
            "Epoch 30 Finished.  Time per Epoch:   5.86 s \n",
            "train err: 0.2892, train loss: 33.7099\n",
            "validation err: 0.1264, validation loss: 6.8030\n",
            "Epoch 31 Finished.  Time per Epoch:   5.86 s \n",
            "train err: 0.2874, train loss: 33.1562\n",
            "validation err: 0.1232, validation loss: 6.5658\n",
            "Epoch 32 Finished.  Time per Epoch:   5.86 s \n",
            "train err: 0.2827, train loss: 32.6933\n",
            "validation err: 0.1204, validation loss: 6.6613\n",
            "Epoch 33 Finished.  Time per Epoch:   5.86 s \n",
            "train err: 0.2908, train loss: 34.3357\n",
            "validation err: 0.1368, validation loss: 7.6600\n",
            "Epoch 34 Finished.  Time per Epoch:   5.86 s \n",
            "train err: 0.2918, train loss: 34.0667\n",
            "validation err: 0.1238, validation loss: 7.0438\n",
            "Epoch 35 Finished.  Time per Epoch:   5.86 s \n",
            "train err: 0.2773, train loss: 32.3351\n",
            "validation err: 0.1220, validation loss: 7.4469\n",
            "Epoch 36 Finished.  Time per Epoch:   5.87 s \n",
            "train err: 0.2914, train loss: 34.4141\n",
            "validation err: 0.1346, validation loss: 7.5380\n",
            "Epoch 37 Finished.  Time per Epoch:   5.87 s \n",
            "train err: 0.2843, train loss: 33.3839\n",
            "validation err: 0.1245, validation loss: 7.4531\n",
            "Epoch 38 Finished.  Time per Epoch:   5.87 s \n",
            "train err: 0.2796, train loss: 32.2264\n",
            "validation err: 0.1211, validation loss: 7.7947\n",
            "Epoch 39 Finished.  Time per Epoch:   5.88 s \n",
            "train err: 0.2783, train loss: 31.8342\n",
            "validation err: 0.1177, validation loss: 7.3117\n",
            "Epoch 40 Finished.  Time per Epoch:   5.88 s \n",
            "train err: 0.2738, train loss: 31.5739\n",
            "validation err: 0.1259, validation loss: 8.1834\n",
            "Epoch 41 Finished.  Time per Epoch:   5.88 s \n",
            "train err: 0.2787, train loss: 31.8469\n",
            "validation err: 0.1205, validation loss: 8.1457\n",
            "Epoch 42 Finished.  Time per Epoch:   5.89 s \n",
            "train err: 0.2845, train loss: 33.2903\n",
            "validation err: 0.1273, validation loss: 8.1845\n",
            "Epoch 43 Finished.  Time per Epoch:   5.89 s \n",
            "train err: 0.2857, train loss: 32.9934\n",
            "validation err: 0.1225, validation loss: 8.3642\n",
            "Epoch 44 Finished.  Time per Epoch:   5.89 s \n",
            "train err: 0.2808, train loss: 32.3150\n",
            "validation err: 0.1270, validation loss: 8.3170\n",
            "Epoch 45 Finished.  Time per Epoch:   5.89 s \n",
            "train err: 0.2783, train loss: 31.6155\n",
            "validation err: 0.1180, validation loss: 8.2577\n",
            "Epoch 46 Finished.  Time per Epoch:   5.90 s \n",
            "train err: 0.2809, train loss: 32.2641\n",
            "validation err: 0.1273, validation loss: 8.5595\n",
            "Epoch 47 Finished.  Time per Epoch:   5.90 s \n",
            "train err: 0.2740, train loss: 31.6647\n",
            "validation err: 0.1373, validation loss: 9.6813\n",
            "Epoch 48 Finished.  Time per Epoch:   5.90 s \n",
            "train err: 0.2846, train loss: 33.1596\n",
            "validation err: 0.1175, validation loss: 7.5903\n",
            "Epoch 49 Finished.  Time per Epoch:   5.90 s \n",
            "train err: 0.2767, train loss: 31.5886\n",
            "validation err: 0.1243, validation loss: 8.7782\n",
            "Epoch 50 Finished.  Time per Epoch:   5.90 s \n",
            "train err: 0.2796, train loss: 31.7604\n",
            "validation err: 0.1170, validation loss: 8.8874\n",
            "Epoch 51 Finished.  Time per Epoch:   5.90 s \n",
            "train err: 0.2793, train loss: 31.9688\n",
            "validation err: 0.1136, validation loss: 7.9689\n",
            "Epoch 52 Finished.  Time per Epoch:   5.90 s \n",
            "train err: 0.2739, train loss: 30.8891\n",
            "validation err: 0.1157, validation loss: 8.5193\n",
            "Epoch 53 Finished.  Time per Epoch:   5.90 s \n",
            "train err: 0.2751, train loss: 31.1896\n",
            "validation err: 0.1280, validation loss: 9.4903\n",
            "Epoch 54 Finished.  Time per Epoch:   5.90 s \n",
            "train err: 0.2795, train loss: 32.0229\n",
            "validation err: 0.1296, validation loss: 9.6822\n",
            "Epoch 55 Finished.  Time per Epoch:   5.90 s \n",
            "train err: 0.2849, train loss: 33.5073\n",
            "validation err: 0.1332, validation loss: 8.3678\n",
            "Epoch 56 Finished.  Time per Epoch:   5.90 s \n",
            "train err: 0.2755, train loss: 32.0890\n",
            "validation err: 0.1241, validation loss: 8.7811\n",
            "Epoch 57 Finished.  Time per Epoch:   5.90 s \n",
            "train err: 0.2768, train loss: 31.4791\n",
            "validation err: 0.1148, validation loss: 8.8054\n",
            "Epoch 58 Finished.  Time per Epoch:   5.90 s \n",
            "train err: 0.2757, train loss: 31.4248\n",
            "validation err: 0.1262, validation loss: 9.4721\n",
            "Epoch 59 Finished.  Time per Epoch:   5.91 s \n",
            "train err: 0.2795, train loss: 32.1492\n",
            "validation err: 0.1162, validation loss: 8.4666\n",
            "Epoch 60 Finished.  Time per Epoch:   5.91 s \n",
            "train err: 0.2785, train loss: 31.6264\n",
            "validation err: 0.1236, validation loss: 9.9751\n",
            "Epoch 61 Finished.  Time per Epoch:   5.91 s \n",
            "train err: 0.2790, train loss: 31.9694\n",
            "validation err: 0.1257, validation loss: 9.2907\n",
            "Epoch 62 Finished.  Time per Epoch:   5.91 s \n",
            "train err: 0.2855, train loss: 33.8674\n",
            "validation err: 0.1261, validation loss: 8.9902\n",
            "Epoch 63 Finished.  Time per Epoch:   5.91 s \n",
            "train err: 0.2833, train loss: 33.0344\n",
            "validation err: 0.1238, validation loss: 8.5288\n",
            "Epoch 64 Finished.  Time per Epoch:   5.92 s \n",
            "train err: 0.2762, train loss: 31.2563\n",
            "validation err: 0.1134, validation loss: 8.5403\n",
            "Epoch 65 Finished.  Time per Epoch:   5.92 s \n",
            "train err: 0.2793, train loss: 31.6642\n",
            "validation err: 0.1148, validation loss: 8.7187\n",
            "Epoch 66 Finished.  Time per Epoch:   5.92 s \n",
            "train err: 0.2645, train loss: 29.9254\n",
            "validation err: 0.1157, validation loss: 8.6678\n",
            "Epoch 67 Finished.  Time per Epoch:   5.92 s \n",
            "train err: 0.2722, train loss: 31.0146\n",
            "validation err: 0.1209, validation loss: 10.1578\n",
            "Epoch 68 Finished.  Time per Epoch:   5.92 s \n",
            "train err: 0.2880, train loss: 34.1627\n",
            "validation err: 0.1298, validation loss: 9.0231\n",
            "Epoch 69 Finished.  Time per Epoch:   5.92 s \n",
            "train err: 0.2863, train loss: 32.8921\n",
            "validation err: 0.1146, validation loss: 8.4901\n",
            "Epoch 70 Finished.  Time per Epoch:   5.92 s \n",
            "train err: 0.2764, train loss: 31.5705\n",
            "validation err: 0.1259, validation loss: 9.8734\n",
            "Epoch 71 Finished.  Time per Epoch:   5.93 s \n",
            "train err: 0.2793, train loss: 32.8500\n",
            "validation err: 0.1188, validation loss: 8.3239\n",
            "Epoch 72 Finished.  Time per Epoch:   5.93 s \n",
            "train err: 0.2717, train loss: 30.8933\n",
            "validation err: 0.1179, validation loss: 8.6184\n",
            "Epoch 73 Finished.  Time per Epoch:   5.93 s \n",
            "train err: 0.2759, train loss: 30.7420\n",
            "validation err: 0.1123, validation loss: 8.3426\n",
            "Epoch 74 Finished.  Time per Epoch:   5.93 s \n",
            "train err: 0.2756, train loss: 30.9649\n",
            "validation err: 0.1152, validation loss: 9.8267\n",
            "Epoch 75 Finished.  Time per Epoch:   5.93 s \n",
            "train err: 0.2749, train loss: 31.1687\n",
            "validation err: 0.1189, validation loss: 9.4849\n",
            "Epoch 76 Finished.  Time per Epoch:   5.93 s \n",
            "train err: 0.2794, train loss: 31.6726\n",
            "validation err: 0.1102, validation loss: 8.2443\n",
            "Epoch 77 Finished.  Time per Epoch:   5.93 s \n",
            "train err: 0.2725, train loss: 30.4693\n",
            "validation err: 0.1107, validation loss: 9.0565\n",
            "Epoch 78 Finished.  Time per Epoch:   5.93 s \n",
            "train err: 0.2752, train loss: 31.0583\n",
            "validation err: 0.1275, validation loss: 10.1376\n",
            "Epoch 79 Finished.  Time per Epoch:   5.93 s \n",
            "train err: 0.2820, train loss: 32.8131\n",
            "validation err: 0.1148, validation loss: 8.7197\n",
            "Epoch 80 Finished.  Time per Epoch:   5.93 s \n",
            "train err: 0.2747, train loss: 30.9444\n",
            "validation err: 0.1121, validation loss: 9.0366\n",
            "Epoch 81 Finished.  Time per Epoch:   5.93 s \n",
            "train err: 0.2733, train loss: 30.6217\n",
            "validation err: 0.1243, validation loss: 10.8411\n",
            "Epoch 82 Finished.  Time per Epoch:   5.93 s \n",
            "train err: 0.2793, train loss: 32.3390\n",
            "validation err: 0.1241, validation loss: 9.6413\n",
            "Epoch 83 Finished.  Time per Epoch:   5.93 s \n",
            "train err: 0.2798, train loss: 31.9695\n",
            "validation err: 0.1195, validation loss: 9.0447\n",
            "Epoch 84 Finished.  Time per Epoch:   5.93 s \n",
            "train err: 0.2776, train loss: 32.2511\n",
            "validation err: 0.1261, validation loss: 9.9013\n",
            "Epoch 85 Finished.  Time per Epoch:   5.93 s \n",
            "train err: 0.2854, train loss: 33.2549\n",
            "validation err: 0.1346, validation loss: 10.3172\n",
            "Epoch 86 Finished.  Time per Epoch:   5.93 s \n",
            "train err: 0.2745, train loss: 31.3235\n",
            "validation err: 0.1152, validation loss: 8.6620\n",
            "Epoch 87 Finished.  Time per Epoch:   5.93 s \n",
            "train err: 0.2693, train loss: 30.1936\n",
            "validation err: 0.1146, validation loss: 9.5111\n",
            "Epoch 88 Finished.  Time per Epoch:   5.93 s \n",
            "train err: 0.2746, train loss: 30.9038\n",
            "validation err: 0.1209, validation loss: 9.7100\n",
            "Epoch 89 Finished.  Time per Epoch:   5.94 s \n",
            "train err: 0.2755, train loss: 31.2783\n",
            "validation err: 0.1241, validation loss: 9.7563\n",
            "Epoch 90 Finished.  Time per Epoch:   5.94 s \n",
            "train err: 0.2748, train loss: 30.6554\n",
            "validation err: 0.1148, validation loss: 9.8699\n",
            "Epoch 91 Finished.  Time per Epoch:   5.94 s \n",
            "train err: 0.2858, train loss: 32.8663\n",
            "validation err: 0.1227, validation loss: 10.0809\n",
            "Epoch 92 Finished.  Time per Epoch:   5.94 s \n",
            "train err: 0.2697, train loss: 30.4763\n",
            "validation err: 0.1132, validation loss: 9.8254\n",
            "Epoch 93 Finished.  Time per Epoch:   5.94 s \n",
            "train err: 0.2711, train loss: 30.8789\n",
            "validation err: 0.1196, validation loss: 10.3470\n",
            "Epoch 94 Finished.  Time per Epoch:   5.94 s \n",
            "train err: 0.2751, train loss: 31.2257\n",
            "validation err: 0.1161, validation loss: 9.5509\n",
            "Epoch 95 Finished.  Time per Epoch:   5.94 s \n",
            "train err: 0.2688, train loss: 30.2210\n",
            "validation err: 0.1189, validation loss: 10.3047\n",
            "Epoch 96 Finished.  Time per Epoch:   5.94 s \n",
            "train err: 0.2768, train loss: 31.7205\n",
            "validation err: 0.1339, validation loss: 11.5697\n",
            "Epoch 97 Finished.  Time per Epoch:   5.94 s \n",
            "train err: 0.2722, train loss: 30.9522\n",
            "validation err: 0.1311, validation loss: 11.1475\n",
            "Epoch 98 Finished.  Time per Epoch:   5.95 s \n",
            "train err: 0.2700, train loss: 30.4994\n",
            "validation err: 0.1186, validation loss: 9.9441\n",
            "Epoch 99 Finished.  Time per Epoch:   5.95 s \n",
            "train err: 0.2800, train loss: 32.5090\n",
            "validation err: 0.1338, validation loss: 10.8240\n",
            "Finished training in 595.11 s\n"
          ],
          "name": "stdout"
        }
      ]
    },
    {
      "cell_type": "code",
      "metadata": {
        "id": "QrN4gE82e54c",
        "colab_type": "code",
        "colab": {
          "base_uri": "https://localhost:8080/",
          "height": 573
        },
        "outputId": "17a94e34-2837-496c-b26f-a4408fde95ca"
      },
      "source": [
        "plot_training_curve(get_model_name(tNetDp.name, 500, 0.002, 99))"
      ],
      "execution_count": null,
      "outputs": [
        {
          "output_type": "display_data",
          "data": {
            "image/png": "[encoded data removed]",
            "text/plain": [
              "<Figure size 432x288 with 1 Axes>"
            ]
          },
          "metadata": {
            "tags": [],
            "needs_background": "light"
          }
        },
        {
          "output_type": "display_data",
          "data": {
            "image/png": "[encoded data removed]",
            "text/plain": [
              "<Figure size 432x288 with 1 Axes>"
            ]
          },
          "metadata": {
            "tags": [],
            "needs_background": "light"
          }
        }
      ]
    },
    {
      "cell_type": "markdown",
      "metadata": {
        "id": "eA_JsbfiqBQx",
        "colab_type": "text"
      },
      "source": [
        "# Training with Known Negatives"
      ]
    },
    {
      "cell_type": "code",
      "metadata": {
        "id": "0mwYcDzHqDpM",
        "colab_type": "code",
        "colab": {}
      },
      "source": [
        "# load bad ones too\n",
        "!unzip '/content/drive/My Drive/APS360 Project/heyed.zip' -d {os.path.expanduser('~/data')}"
      ],
      "execution_count": null,
      "outputs": []
    },
    {
      "cell_type": "code",
      "metadata": {
        "id": "_jLrRRhbrGG7",
        "colab_type": "code",
        "colab": {}
      },
      "source": [
        "!rm -rf {os.path.expanduser('~/data/__MACOSX')}"
      ],
      "execution_count": null,
      "outputs": []
    },
    {
      "cell_type": "code",
      "metadata": {
        "id": "hrbuAho_rFpd",
        "colab_type": "code",
        "colab": {}
      },
      "source": [
        "# Transform Settings - resize all images to 224 x 224\n",
        "data_transform = transforms.Compose([transforms.Resize((224,224)), \n",
        "                                     transforms.Grayscale(num_output_channels=3),\n",
        "                                      transforms.ToTensor()])\n",
        "\n",
        "# define dataloader parameters\n",
        "num_workers = 4\n",
        "batch_size = 1\n",
        "\n",
        "# get dataset\n",
        "image_set = datasets.ImageFolder(os.path.expanduser('~/data'), transform=data_transform)\n",
        "\n",
        "# put data inside loader\n",
        "loader = torch.utils.data.DataLoader(image_set, batch_size=batch_size, \n",
        "                                        num_workers=num_workers, shuffle=False)\n"
      ],
      "execution_count": null,
      "outputs": []
    },
    {
      "cell_type": "code",
      "metadata": {
        "id": "curMpeC4rQYt",
        "colab_type": "code",
        "colab": {
          "base_uri": "https://localhost:8080/",
          "height": 106
        },
        "outputId": "d45ebc81-fda3-4433-fe61-1113a357a604"
      },
      "source": [
        "print(image_set.class_to_idx)\n",
        "classes = os.listdir(os.path.expanduser('~/data'))\n",
        "classes.sort()\n",
        "classes = classes[:]\n",
        "print(classes)\n",
        "print(len(classes))\n",
        "totalCount = 0\n",
        "for c in classes:\n",
        "  totalCount += len(os.listdir(os.path.join(os.path.expanduser('~/data'), c)))\n",
        "print(totalCount)"
      ],
      "execution_count": null,
      "outputs": [
        {
          "output_type": "stream",
          "text": [
            "{'11211': 0, '15571': 1, '22388': 2, '2456': 3, '3001': 4, '3003': 5, '3004': 6, '3007': 7, '3008': 8, '3009': 9, '30136': 10, '3039': 11, '3040': 12, '3044c': 13, '3062b': 14, '35464': 15, '3659': 16, '3660': 17, '3665': 18, '3941': 19, '4070': 20, '42023': 21, '4589b': 22, '4727': 23, '4733': 24, '50950': 25, '54200': 26, '6111': 27, '6232': 28, '6249': 29, '6541': 30, '85984': 31, '87081': 32, '87087': 33, '98100': 34, 'heyed': 35}\n",
            "['11211', '15571', '22388', '2456', '3001', '3003', '3004', '3007', '3008', '3009', '30136', '3039', '3040', '3044c', '3062b', '35464', '3659', '3660', '3665', '3941', '4070', '42023', '4589b', '4727', '4733', '50950', '54200', '6111', '6232', '6249', '6541', '85984', '87081', '87087', '98100', 'heyed']\n",
            "36\n",
            "28742\n"
          ],
          "name": "stdout"
        }
      ]
    },
    {
      "cell_type": "code",
      "metadata": {
        "id": "A5HuIKVKrVDe",
        "colab_type": "code",
        "colab": {}
      },
      "source": [
        "!rm -rf {os.path.expanduser('~/feature')}"
      ],
      "execution_count": null,
      "outputs": []
    },
    {
      "cell_type": "code",
      "metadata": {
        "id": "0Sf2t-0wrdEB",
        "colab_type": "code",
        "colab": {}
      },
      "source": [
        "feature_root_path = os.path.expanduser('~/feature')\n",
        "for i in classes:\n",
        "  path = os.path.join(feature_root_path, i)\n",
        "  if not os.path.exists(path):\n",
        "    !mkdir -p {path}"
      ],
      "execution_count": null,
      "outputs": []
    },
    {
      "cell_type": "code",
      "metadata": {
        "id": "QtezDOTjr19-",
        "colab_type": "code",
        "colab": {
          "base_uri": "https://localhost:8080/",
          "height": 34
        },
        "outputId": "bddf94dd-0dbb-4fe3-c95a-2c524ccf8b7e"
      },
      "source": [
        "# generate and save feature maps\n",
        "i = 0\n",
        "for img, label in loader:\n",
        "  features = alexnet.features(img)\n",
        "  features_tensor = torch.from_numpy(features.detach().numpy())\n",
        "  features_folder_path = os.path.join(feature_root_path, classes[label])\n",
        "  feature_path = os.path.join(features_folder_path, \"{}.tensor\".format(i))\n",
        "  torch.save(features_tensor.squeeze(0), feature_path)\n",
        "  i += 1\n",
        "  # print(\"saved {} images\".format(i))\n",
        "  progressBar(i, totalCount, 20)"
      ],
      "execution_count": null,
      "outputs": [
        {
          "output_type": "stream",
          "text": [
            "Progress: [------------------> ] 99.99652077099715 %\n"
          ],
          "name": "stdout"
        }
      ]
    },
    {
      "cell_type": "code",
      "metadata": {
        "id": "x-rA3q_V4pLy",
        "colab_type": "code",
        "colab": {}
      },
      "source": [
        "!zip feature_neg.zip -r {feature_root_path}"
      ],
      "execution_count": null,
      "outputs": []
    },
    {
      "cell_type": "code",
      "metadata": {
        "id": "wp0b-n-J4fod",
        "colab_type": "code",
        "colab": {
          "base_uri": "https://localhost:8080/",
          "height": 312
        },
        "outputId": "7aa107ae-9a20-4431-947c-b0dc5af1c9de"
      },
      "source": [
        "class TransferLearningNetDp5(nn.Module):\n",
        "  def __init__(self, p=0.0):\n",
        "    super(TransferLearningNetDp5, self).__init__()\n",
        "    self.name = \"tNetDp3\"\n",
        "    self.fc1 = nn.Linear(256*6*6, 3600)\n",
        "    self.fc2 = nn.Linear(3600, 1200)\n",
        "    self.fc3 = nn.Linear(1200, 36)\n",
        "    # classes is 36 here\n",
        "    self.dropout = nn.Dropout(p=p)\n",
        "  \n",
        "  def forward(self, x):\n",
        "    x = x.view(-1, 256*6*6)\n",
        "    x = F.leaky_relu(self.fc1(x))\n",
        "    x = F.leaky_relu(self.fc2(x))\n",
        "    x = self.fc3(x)\n",
        "    x = self.dropout(x)\n",
        "    return x\n",
        "\n",
        "tNet = TransferLearningNetDp5()\n",
        "summary(tNet, (256,6,6), device='cpu')"
      ],
      "execution_count": null,
      "outputs": [
        {
          "output_type": "stream",
          "text": [
            "----------------------------------------------------------------\n",
            "        Layer (type)               Output Shape         Param #\n",
            "================================================================\n",
            "            Linear-1                 [-1, 3600]      33,181,200\n",
            "            Linear-2                 [-1, 1200]       4,321,200\n",
            "            Linear-3                   [-1, 36]          43,236\n",
            "           Dropout-4                   [-1, 36]               0\n",
            "================================================================\n",
            "Total params: 37,545,636\n",
            "Trainable params: 37,545,636\n",
            "Non-trainable params: 0\n",
            "----------------------------------------------------------------\n",
            "Input size (MB): 0.04\n",
            "Forward/backward pass size (MB): 0.04\n",
            "Params size (MB): 143.23\n",
            "Estimated Total Size (MB): 143.30\n",
            "----------------------------------------------------------------\n"
          ],
          "name": "stdout"
        }
      ]
    },
    {
      "cell_type": "code",
      "metadata": {
        "id": "jGIDludj5Pev",
        "colab_type": "code",
        "colab": {}
      },
      "source": [
        "!rm -rf {\"./model*\"}"
      ],
      "execution_count": null,
      "outputs": []
    },
    {
      "cell_type": "code",
      "metadata": {
        "id": "k9F_ePgv5SsN",
        "colab_type": "code",
        "colab": {
          "base_uri": "https://localhost:8080/",
          "height": 1000
        },
        "outputId": "ecbb2cc2-b8c2-4fc9-da69-fb1d75b14e13"
      },
      "source": [
        "#Training with larger batch size\n",
        "use_cuda = True\n",
        "tNetDp = TransferLearningNetDp5(0.3).cuda()\n",
        "transfer_train(tNetDp, batch_size=400, num_epochs=100, lr=0.0015)"
      ],
      "execution_count": null,
      "outputs": [
        {
          "output_type": "stream",
          "text": [
            "Epoch 0 Finished.  Time per Epoch:   5.93 s \n",
            "train err: 0.6862, train loss: 119.9826\n",
            "validation err: 0.3982, validation loss: 16.8650\n",
            "Epoch 1 Finished.  Time per Epoch:   5.86 s \n",
            "train err: 0.4512, train loss: 65.9193\n",
            "validation err: 0.2738, validation loss: 11.6678\n",
            "Epoch 2 Finished.  Time per Epoch:   5.86 s \n",
            "train err: 0.4101, train loss: 58.2921\n",
            "validation err: 0.2601, validation loss: 10.3030\n",
            "Epoch 3 Finished.  Time per Epoch:   5.86 s \n",
            "train err: 0.3856, train loss: 53.7766\n",
            "validation err: 0.2189, validation loss: 9.0048\n",
            "Epoch 4 Finished.  Time per Epoch:   5.86 s \n",
            "train err: 0.3703, train loss: 51.3778\n",
            "validation err: 0.1529, validation loss: 6.6464\n",
            "Epoch 5 Finished.  Time per Epoch:   5.87 s \n",
            "train err: 0.3472, train loss: 47.6343\n",
            "validation err: 0.1722, validation loss: 6.9594\n",
            "Epoch 6 Finished.  Time per Epoch:   5.87 s \n",
            "train err: 0.3451, train loss: 46.4569\n",
            "validation err: 0.1470, validation loss: 6.1640\n",
            "Epoch 7 Finished.  Time per Epoch:   5.95 s \n",
            "train err: 0.3437, train loss: 45.7715\n",
            "validation err: 0.1568, validation loss: 6.8566\n",
            "Epoch 8 Finished.  Time per Epoch:   5.94 s \n",
            "train err: 0.3222, train loss: 42.5739\n",
            "validation err: 0.1463, validation loss: 6.2825\n",
            "Epoch 9 Finished.  Time per Epoch:   5.99 s \n",
            "train err: 0.3272, train loss: 42.5036\n",
            "validation err: 0.1764, validation loss: 8.2888\n",
            "Epoch 10 Finished.  Time per Epoch:   5.97 s \n",
            "train err: 0.3280, train loss: 43.0492\n",
            "validation err: 0.1522, validation loss: 6.5528\n",
            "Epoch 11 Finished.  Time per Epoch:   5.97 s \n",
            "train err: 0.3148, train loss: 40.7425\n",
            "validation err: 0.1343, validation loss: 5.8852\n",
            "Epoch 12 Finished.  Time per Epoch:   5.99 s \n",
            "train err: 0.3103, train loss: 40.3015\n",
            "validation err: 0.1705, validation loss: 7.9592\n",
            "Epoch 13 Finished.  Time per Epoch:   5.99 s \n",
            "train err: 0.3232, train loss: 41.3528\n",
            "validation err: 0.1296, validation loss: 6.0989\n",
            "Epoch 14 Finished.  Time per Epoch:   6.02 s \n",
            "train err: 0.3101, train loss: 39.9008\n",
            "validation err: 0.1472, validation loss: 7.0209\n",
            "Epoch 15 Finished.  Time per Epoch:   6.04 s \n",
            "train err: 0.3080, train loss: 39.1517\n",
            "validation err: 0.1322, validation loss: 6.4752\n",
            "Epoch 16 Finished.  Time per Epoch:   6.07 s \n",
            "train err: 0.3034, train loss: 38.4423\n",
            "validation err: 0.1336, validation loss: 6.6367\n",
            "Epoch 17 Finished.  Time per Epoch:   6.08 s \n",
            "train err: 0.3098, train loss: 39.3111\n",
            "validation err: 0.1613, validation loss: 10.4278\n",
            "Epoch 18 Finished.  Time per Epoch:   6.07 s \n",
            "train err: 0.3085, train loss: 38.6699\n",
            "validation err: 0.1272, validation loss: 6.3219\n",
            "Epoch 19 Finished.  Time per Epoch:   6.09 s \n",
            "train err: 0.2981, train loss: 37.2919\n",
            "validation err: 0.1345, validation loss: 6.7457\n",
            "Epoch 20 Finished.  Time per Epoch:   6.10 s \n",
            "train err: 0.2960, train loss: 36.5269\n",
            "validation err: 0.1486, validation loss: 8.1732\n",
            "Epoch 21 Finished.  Time per Epoch:   6.12 s \n",
            "train err: 0.2980, train loss: 37.1010\n",
            "validation err: 0.1265, validation loss: 7.2274\n",
            "Epoch 22 Finished.  Time per Epoch:   6.13 s \n",
            "train err: 0.3058, train loss: 38.1015\n",
            "validation err: 0.1399, validation loss: 7.2780\n",
            "Epoch 23 Finished.  Time per Epoch:   6.14 s \n",
            "train err: 0.2894, train loss: 35.7495\n",
            "validation err: 0.1256, validation loss: 7.1645\n",
            "Epoch 24 Finished.  Time per Epoch:   6.15 s \n",
            "train err: 0.2962, train loss: 37.0993\n",
            "validation err: 0.1460, validation loss: 8.5134\n",
            "Epoch 25 Finished.  Time per Epoch:   6.16 s \n",
            "train err: 0.3040, train loss: 38.9003\n",
            "validation err: 0.1247, validation loss: 6.9402\n",
            "Epoch 26 Finished.  Time per Epoch:   6.17 s \n",
            "train err: 0.2931, train loss: 36.1126\n",
            "validation err: 0.1287, validation loss: 7.1359\n",
            "Epoch 27 Finished.  Time per Epoch:   6.18 s \n",
            "train err: 0.2920, train loss: 36.6725\n",
            "validation err: 0.1282, validation loss: 7.1824\n",
            "Epoch 28 Finished.  Time per Epoch:   6.18 s \n",
            "train err: 0.2915, train loss: 36.3400\n",
            "validation err: 0.1395, validation loss: 8.2733\n",
            "Epoch 29 Finished.  Time per Epoch:   6.19 s \n",
            "train err: 0.3001, train loss: 37.6018\n",
            "validation err: 0.1479, validation loss: 9.0683\n",
            "Epoch 30 Finished.  Time per Epoch:   6.20 s \n",
            "train err: 0.3007, train loss: 38.4806\n",
            "validation err: 0.1303, validation loss: 7.6607\n",
            "Epoch 31 Finished.  Time per Epoch:   6.20 s \n",
            "train err: 0.2813, train loss: 34.5220\n",
            "validation err: 0.1273, validation loss: 8.0382\n",
            "Epoch 32 Finished.  Time per Epoch:   6.21 s \n",
            "train err: 0.2828, train loss: 34.3974\n",
            "validation err: 0.1428, validation loss: 9.9594\n",
            "Epoch 33 Finished.  Time per Epoch:   6.21 s \n",
            "train err: 0.2828, train loss: 34.9016\n",
            "validation err: 0.1420, validation loss: 9.1687\n",
            "Epoch 34 Finished.  Time per Epoch:   6.22 s \n",
            "train err: 0.2845, train loss: 34.8833\n",
            "validation err: 0.1209, validation loss: 7.5116\n",
            "Epoch 35 Finished.  Time per Epoch:   6.23 s \n",
            "train err: 0.2871, train loss: 34.9595\n",
            "validation err: 0.1609, validation loss: 13.6337\n",
            "Epoch 36 Finished.  Time per Epoch:   6.22 s \n",
            "train err: 0.2911, train loss: 37.5180\n",
            "validation err: 0.1329, validation loss: 8.0371\n",
            "Epoch 37 Finished.  Time per Epoch:   6.22 s \n",
            "train err: 0.2838, train loss: 35.1949\n",
            "validation err: 0.1362, validation loss: 8.7573\n",
            "Epoch 38 Finished.  Time per Epoch:   6.22 s \n",
            "train err: 0.2826, train loss: 34.4185\n",
            "validation err: 0.1167, validation loss: 7.5678\n",
            "Epoch 39 Finished.  Time per Epoch:   6.23 s \n",
            "train err: 0.2842, train loss: 34.6076\n",
            "validation err: 0.1268, validation loss: 8.9304\n",
            "Epoch 40 Finished.  Time per Epoch:   6.23 s \n",
            "train err: 0.2868, train loss: 34.3747\n",
            "validation err: 0.1247, validation loss: 9.3480\n",
            "Epoch 41 Finished.  Time per Epoch:   6.23 s \n",
            "train err: 0.2785, train loss: 34.3444\n",
            "validation err: 0.1115, validation loss: 8.3481\n",
            "Epoch 42 Finished.  Time per Epoch:   6.24 s \n",
            "train err: 0.2845, train loss: 34.8888\n",
            "validation err: 0.1489, validation loss: 11.0748\n",
            "Epoch 43 Finished.  Time per Epoch:   6.24 s \n",
            "train err: 0.2984, train loss: 37.7735\n",
            "validation err: 0.1211, validation loss: 8.0810\n",
            "Epoch 44 Finished.  Time per Epoch:   6.25 s \n",
            "train err: 0.2904, train loss: 35.8915\n",
            "validation err: 0.1220, validation loss: 8.2413\n",
            "Epoch 45 Finished.  Time per Epoch:   6.25 s \n",
            "train err: 0.2886, train loss: 35.0941\n",
            "validation err: 0.1174, validation loss: 8.4592\n",
            "Epoch 46 Finished.  Time per Epoch:   6.25 s \n",
            "train err: 0.2822, train loss: 34.3344\n",
            "validation err: 0.1214, validation loss: 8.6185\n",
            "Epoch 47 Finished.  Time per Epoch:   6.25 s \n",
            "train err: 0.2891, train loss: 35.5809\n",
            "validation err: 0.1127, validation loss: 8.4257\n",
            "Epoch 48 Finished.  Time per Epoch:   6.25 s \n",
            "train err: 0.2758, train loss: 33.0517\n",
            "validation err: 0.1206, validation loss: 8.8053\n",
            "Epoch 49 Finished.  Time per Epoch:   6.25 s \n",
            "train err: 0.2863, train loss: 34.0228\n",
            "validation err: 0.1324, validation loss: 10.6910\n",
            "Epoch 50 Finished.  Time per Epoch:   6.25 s \n",
            "train err: 0.2830, train loss: 34.7125\n",
            "validation err: 0.1246, validation loss: 9.3798\n",
            "Epoch 51 Finished.  Time per Epoch:   6.26 s \n",
            "train err: 0.2892, train loss: 35.9299\n",
            "validation err: 0.1397, validation loss: 11.6062\n",
            "Epoch 52 Finished.  Time per Epoch:   6.26 s \n",
            "train err: 0.2825, train loss: 34.3013\n",
            "validation err: 0.1157, validation loss: 8.4633\n",
            "Epoch 53 Finished.  Time per Epoch:   6.26 s \n",
            "train err: 0.2824, train loss: 35.0013\n",
            "validation err: 0.1089, validation loss: 7.9959\n",
            "Epoch 54 Finished.  Time per Epoch:   6.26 s \n",
            "train err: 0.2895, train loss: 35.4142\n",
            "validation err: 0.1254, validation loss: 8.9686\n",
            "Epoch 55 Finished.  Time per Epoch:   6.27 s \n",
            "train err: 0.2821, train loss: 34.3797\n",
            "validation err: 0.1213, validation loss: 8.9570\n",
            "Epoch 56 Finished.  Time per Epoch:   6.27 s \n",
            "train err: 0.2867, train loss: 34.6336\n",
            "validation err: 0.1162, validation loss: 8.9967\n",
            "Epoch 57 Finished.  Time per Epoch:   6.27 s \n",
            "train err: 0.2740, train loss: 32.5244\n",
            "validation err: 0.1253, validation loss: 10.2114\n",
            "Epoch 58 Finished.  Time per Epoch:   6.27 s \n",
            "train err: 0.2699, train loss: 32.9708\n",
            "validation err: 0.1399, validation loss: 12.6035\n",
            "Epoch 59 Finished.  Time per Epoch:   6.27 s \n",
            "train err: 0.2922, train loss: 35.7062\n",
            "validation err: 0.1153, validation loss: 8.8032\n",
            "Epoch 60 Finished.  Time per Epoch:   6.27 s \n",
            "train err: 0.2817, train loss: 33.7080\n",
            "validation err: 0.1233, validation loss: 10.3863\n",
            "Epoch 61 Finished.  Time per Epoch:   6.28 s \n",
            "train err: 0.2794, train loss: 33.4354\n",
            "validation err: 0.1103, validation loss: 8.8870\n",
            "Epoch 62 Finished.  Time per Epoch:   6.28 s \n",
            "train err: 0.2788, train loss: 33.2347\n",
            "validation err: 0.1204, validation loss: 9.9439\n",
            "Epoch 63 Finished.  Time per Epoch:   6.28 s \n",
            "train err: 0.2812, train loss: 34.8740\n",
            "validation err: 0.1180, validation loss: 9.8221\n",
            "Epoch 64 Finished.  Time per Epoch:   6.28 s \n",
            "train err: 0.2759, train loss: 32.9734\n",
            "validation err: 0.1112, validation loss: 9.4230\n",
            "Epoch 65 Finished.  Time per Epoch:   6.28 s \n",
            "train err: 0.2793, train loss: 33.8881\n",
            "validation err: 0.1378, validation loss: 13.0246\n",
            "Epoch 66 Finished.  Time per Epoch:   6.28 s \n",
            "train err: 0.2768, train loss: 34.0561\n",
            "validation err: 0.1169, validation loss: 9.0932\n",
            "Epoch 67 Finished.  Time per Epoch:   6.28 s \n",
            "train err: 0.2752, train loss: 33.0121\n",
            "validation err: 0.1258, validation loss: 12.2485\n",
            "Epoch 68 Finished.  Time per Epoch:   6.28 s \n",
            "train err: 0.2775, train loss: 33.9312\n",
            "validation err: 0.1218, validation loss: 10.2370\n",
            "Epoch 69 Finished.  Time per Epoch:   6.28 s \n",
            "train err: 0.2788, train loss: 33.4754\n",
            "validation err: 0.1115, validation loss: 9.9352\n",
            "Epoch 70 Finished.  Time per Epoch:   6.28 s \n",
            "train err: 0.2728, train loss: 32.2192\n",
            "validation err: 0.1258, validation loss: 12.5033\n",
            "Epoch 71 Finished.  Time per Epoch:   6.29 s \n",
            "train err: 0.2821, train loss: 34.8112\n",
            "validation err: 0.1126, validation loss: 9.2847\n",
            "Epoch 72 Finished.  Time per Epoch:   6.29 s \n",
            "train err: 0.2804, train loss: 33.2667\n",
            "validation err: 0.1146, validation loss: 10.3021\n",
            "Epoch 73 Finished.  Time per Epoch:   6.29 s \n",
            "train err: 0.2704, train loss: 32.3060\n",
            "validation err: 0.1138, validation loss: 10.4471\n",
            "Epoch 74 Finished.  Time per Epoch:   6.29 s \n",
            "train err: 0.2754, train loss: 32.9821\n",
            "validation err: 0.1141, validation loss: 10.4798\n",
            "Epoch 75 Finished.  Time per Epoch:   6.29 s \n",
            "train err: 0.2825, train loss: 33.5898\n",
            "validation err: 0.1258, validation loss: 12.0374\n",
            "Epoch 76 Finished.  Time per Epoch:   6.29 s \n",
            "train err: 0.2901, train loss: 36.8904\n",
            "validation err: 0.1268, validation loss: 11.4645\n",
            "Epoch 77 Finished.  Time per Epoch:   6.30 s \n",
            "train err: 0.2792, train loss: 33.5210\n",
            "validation err: 0.1100, validation loss: 9.1953\n",
            "Epoch 78 Finished.  Time per Epoch:   6.30 s \n",
            "train err: 0.2807, train loss: 33.3424\n",
            "validation err: 0.1070, validation loss: 9.1561\n",
            "Epoch 79 Finished.  Time per Epoch:   6.30 s \n",
            "train err: 0.2782, train loss: 33.0495\n",
            "validation err: 0.1094, validation loss: 10.2391\n",
            "Epoch 80 Finished.  Time per Epoch:   6.30 s \n",
            "train err: 0.2809, train loss: 33.3018\n",
            "validation err: 0.1193, validation loss: 11.9898\n",
            "Epoch 81 Finished.  Time per Epoch:   6.30 s \n",
            "train err: 0.2835, train loss: 34.6797\n",
            "validation err: 0.1204, validation loss: 10.8207\n",
            "Epoch 82 Finished.  Time per Epoch:   6.30 s \n",
            "train err: 0.2803, train loss: 33.2364\n",
            "validation err: 0.1204, validation loss: 11.9991\n",
            "Epoch 83 Finished.  Time per Epoch:   6.30 s \n",
            "train err: 0.2763, train loss: 33.6239\n",
            "validation err: 0.1260, validation loss: 11.2535\n",
            "Epoch 84 Finished.  Time per Epoch:   6.30 s \n",
            "train err: 0.2763, train loss: 33.3713\n",
            "validation err: 0.1366, validation loss: 12.1126\n",
            "Epoch 85 Finished.  Time per Epoch:   6.30 s \n",
            "train err: 0.2824, train loss: 34.9622\n",
            "validation err: 0.1193, validation loss: 9.8486\n",
            "Epoch 86 Finished.  Time per Epoch:   6.31 s \n",
            "train err: 0.2835, train loss: 34.0706\n",
            "validation err: 0.1195, validation loss: 10.4135\n",
            "Epoch 87 Finished.  Time per Epoch:   6.31 s \n",
            "train err: 0.2780, train loss: 34.5188\n",
            "validation err: 0.1815, validation loss: 16.8167\n",
            "Epoch 88 Finished.  Time per Epoch:   6.30 s \n",
            "train err: 0.2973, train loss: 37.1883\n",
            "validation err: 0.1338, validation loss: 11.3528\n",
            "Epoch 89 Finished.  Time per Epoch:   6.30 s \n",
            "train err: 0.2888, train loss: 35.0767\n",
            "validation err: 0.1094, validation loss: 9.6292\n",
            "Epoch 90 Finished.  Time per Epoch:   6.31 s \n",
            "train err: 0.2755, train loss: 32.6515\n",
            "validation err: 0.1089, validation loss: 9.7755\n",
            "Epoch 91 Finished.  Time per Epoch:   6.31 s \n",
            "train err: 0.2777, train loss: 33.0188\n",
            "validation err: 0.1084, validation loss: 10.1037\n",
            "Epoch 92 Finished.  Time per Epoch:   6.31 s \n",
            "train err: 0.2786, train loss: 32.4614\n",
            "validation err: 0.1037, validation loss: 10.1749\n",
            "Epoch 93 Finished.  Time per Epoch:   6.31 s \n",
            "train err: 0.2710, train loss: 31.8375\n",
            "validation err: 0.1053, validation loss: 10.6198\n",
            "Epoch 94 Finished.  Time per Epoch:   6.31 s \n",
            "train err: 0.2763, train loss: 32.8370\n",
            "validation err: 0.1096, validation loss: 11.1533\n",
            "Epoch 95 Finished.  Time per Epoch:   6.31 s \n",
            "train err: 0.2867, train loss: 35.5721\n",
            "validation err: 0.1214, validation loss: 11.5449\n",
            "Epoch 96 Finished.  Time per Epoch:   6.31 s \n",
            "train err: 0.2788, train loss: 33.7516\n",
            "validation err: 0.1258, validation loss: 13.2024\n",
            "Epoch 97 Finished.  Time per Epoch:   6.31 s \n",
            "train err: 0.2804, train loss: 34.5532\n",
            "validation err: 0.1171, validation loss: 10.3239\n",
            "Epoch 98 Finished.  Time per Epoch:   6.31 s \n",
            "train err: 0.2770, train loss: 33.1191\n",
            "validation err: 0.1235, validation loss: 12.1472\n",
            "Epoch 99 Finished.  Time per Epoch:   6.31 s \n",
            "train err: 0.2824, train loss: 34.6302\n",
            "validation err: 0.1136, validation loss: 10.6654\n",
            "Finished training in 631.70 s\n"
          ],
          "name": "stdout"
        }
      ]
    },
    {
      "cell_type": "code",
      "metadata": {
        "id": "j1gQj0Ty9Nq5",
        "colab_type": "code",
        "colab": {
          "base_uri": "https://localhost:8080/",
          "height": 573
        },
        "outputId": "3bbedf87-d400-487b-bb9c-2810dc4f40c3"
      },
      "source": [
        "plot_training_curve(get_model_name(tNetDp.name, 400, 0.0015, 99))"
      ],
      "execution_count": null,
      "outputs": [
        {
          "output_type": "display_data",
          "data": {
            "image/png": "[encoded data removed]",
            "text/plain": [
              "<Figure size 432x288 with 1 Axes>"
            ]
          },
          "metadata": {
            "tags": [],
            "needs_background": "light"
          }
        },
        {
          "output_type": "display_data",
          "data": {
            "image/png": "[encoded data removed]",
            "text/plain": [
              "<Figure size 432x288 with 1 Axes>"
            ]
          },
          "metadata": {
            "tags": [],
            "needs_background": "light"
          }
        }
      ]
    },
    {
      "cell_type": "code",
      "metadata": {
        "id": "VJ3-uGIUE5SJ",
        "colab_type": "code",
        "colab": {
          "base_uri": "https://localhost:8080/",
          "height": 714
        },
        "outputId": "f9faac38-6c9a-41ae-87d7-b95651e6d69e"
      },
      "source": [
        "train_loader, valid_loader, test_loader = feature_loader(feature_root_path, 0.6, 0.2, batch_size = 1)\n",
        "model = TransferLearningNetDp5()\n",
        "model.load_state_dict(torch.load('./model_tNetDp3_bs400_lr0.0015_epoch92'))\n",
        "\n",
        "correct = 0\n",
        "total = 0\n",
        "correct_by_class = [0 for i in range(0, len(classes))]\n",
        "total_per_class = [0 for i in range(0, len(classes))]\n",
        "loader = test_loader\n",
        "model.eval()\n",
        "with torch.no_grad():\n",
        "  for i, data in enumerate(loader, 0):\n",
        "    feature, labels = data\n",
        "\n",
        "    output = model(feature)\n",
        "\n",
        "\n",
        "    # select index with maximum prediction score\n",
        "    pred = output.max(1, keepdim = True)[1]\n",
        "    correct += pred.eq(labels.view_as(pred)).sum().item()\n",
        "    correct_by_class[labels] = correct_by_class[labels]\\\n",
        "                                + pred.eq(labels.view_as(pred)).sum().item()\n",
        "    total += feature.shape[0]\n",
        "    total_per_class[labels] += 1\n",
        "print(correct_by_class)\n",
        "print(total_per_class)\n",
        "for i in range(0, len(classes)):\n",
        "  print(\"Class {}: {} out of {}, {}\".format(classes[i], correct_by_class[i], \n",
        "                                            total_per_class[i],\n",
        "                                            correct_by_class[i]/total_per_class[i]))\n",
        "print(total)"
      ],
      "execution_count": null,
      "outputs": [
        {
          "output_type": "stream",
          "text": [
            "[152, 130, 147, 149, 154, 154, 159, 154, 137, 161, 164, 153, 159, 173, 164, 166, 132, 141, 141, 178, 134, 184, 174, 147, 160, 145, 156, 141, 156, 155, 134, 158, 156, 129, 145, 141]\n",
            "[159, 146, 153, 156, 154, 156, 170, 167, 162, 169, 166, 161, 168, 184, 164, 178, 135, 152, 147, 179, 147, 187, 174, 148, 160, 152, 159, 164, 164, 160, 146, 164, 156, 155, 146, 141]\n",
            "Class 11211: 152 out of 159, 0.9559748427672956\n",
            "Class 15571: 130 out of 146, 0.8904109589041096\n",
            "Class 22388: 147 out of 153, 0.9607843137254902\n",
            "Class 2456: 149 out of 156, 0.9551282051282052\n",
            "Class 3001: 154 out of 154, 1.0\n",
            "Class 3003: 154 out of 156, 0.9871794871794872\n",
            "Class 3004: 159 out of 170, 0.9352941176470588\n",
            "Class 3007: 154 out of 167, 0.9221556886227545\n",
            "Class 3008: 137 out of 162, 0.845679012345679\n",
            "Class 3009: 161 out of 169, 0.9526627218934911\n",
            "Class 30136: 164 out of 166, 0.9879518072289156\n",
            "Class 3039: 153 out of 161, 0.9503105590062112\n",
            "Class 3040: 159 out of 168, 0.9464285714285714\n",
            "Class 3044c: 173 out of 184, 0.9402173913043478\n",
            "Class 3062b: 164 out of 164, 1.0\n",
            "Class 35464: 166 out of 178, 0.9325842696629213\n",
            "Class 3659: 132 out of 135, 0.9777777777777777\n",
            "Class 3660: 141 out of 152, 0.9276315789473685\n",
            "Class 3665: 141 out of 147, 0.9591836734693877\n",
            "Class 3941: 178 out of 179, 0.994413407821229\n",
            "Class 4070: 134 out of 147, 0.9115646258503401\n",
            "Class 42023: 184 out of 187, 0.983957219251337\n",
            "Class 4589b: 174 out of 174, 1.0\n",
            "Class 4727: 147 out of 148, 0.9932432432432432\n",
            "Class 4733: 160 out of 160, 1.0\n",
            "Class 50950: 145 out of 152, 0.9539473684210527\n",
            "Class 54200: 156 out of 159, 0.9811320754716981\n",
            "Class 6111: 141 out of 164, 0.8597560975609756\n",
            "Class 6232: 156 out of 164, 0.9512195121951219\n",
            "Class 6249: 155 out of 160, 0.96875\n",
            "Class 6541: 134 out of 146, 0.9178082191780822\n",
            "Class 85984: 158 out of 164, 0.9634146341463414\n",
            "Class 87081: 156 out of 156, 1.0\n",
            "Class 87087: 129 out of 155, 0.832258064516129\n",
            "Class 98100: 145 out of 146, 0.9931506849315068\n",
            "Class heyed: 141 out of 141, 1.0\n",
            "5749\n"
          ],
          "name": "stdout"
        }
      ]
    },
    {
      "cell_type": "markdown",
      "metadata": {
        "id": "d170ruSFxmmN",
        "colab_type": "text"
      },
      "source": [
        "# test on a real image"
      ]
    },
    {
      "cell_type": "code",
      "metadata": {
        "id": "SCDwcd3PxmS5",
        "colab_type": "code",
        "colab": {
          "base_uri": "https://localhost:8080/",
          "height": 34
        },
        "outputId": "18e2b33b-7c69-48aa-a5d7-45675bde1795"
      },
      "source": [
        "model = TransferLearningNetDp5()\n",
        "model.load_state_dict(torch.load('./model_tNetDp3_bs400_lr0.0015_epoch92'))"
      ],
      "execution_count": null,
      "outputs": [
        {
          "output_type": "execute_result",
          "data": {
            "text/plain": [
              "<All keys matched successfully>"
            ]
          },
          "metadata": {
            "tags": []
          },
          "execution_count": 9
        }
      ]
    },
    {
      "cell_type": "code",
      "metadata": {
        "id": "mEZTPsimzd0U",
        "colab_type": "code",
        "colab": {}
      },
      "source": [
        "# Transform Settings - resize all images to 224 x 224\n",
        "data_transform = transforms.Compose([transforms.Resize((224,224)), \n",
        "                                      transforms.ToTensor()])\n",
        "\n",
        "# define dataloader parameters\n",
        "num_workers = 4\n",
        "batch_size = 1\n",
        "\n",
        "# get dataset\n",
        "image_set = datasets.ImageFolder(os.path.expanduser('~/test_images'), transform=data_transform)\n",
        "\n",
        "# put data inside loader\n",
        "loader = torch.utils.data.DataLoader(image_set, batch_size=batch_size, \n",
        "                                        num_workers=num_workers, shuffle=False)\n"
      ],
      "execution_count": null,
      "outputs": []
    },
    {
      "cell_type": "code",
      "metadata": {
        "id": "lnxEUNs32aKr",
        "colab_type": "code",
        "colab": {
          "base_uri": "https://localhost:8080/",
          "height": 487
        },
        "outputId": "bcca1834-091d-4741-a6a1-16a192df2a33"
      },
      "source": [
        "i = 0\n",
        "model = tNetDp\n",
        "for img, label in loader:\n",
        "  plt.imshow(img.squeeze().permute(1, 2, 0))\n",
        "  features = alexnet.features(img)\n",
        "  features = features.cuda()\n",
        "  out = model(features)\n",
        "  pred = out.max(1, keepdim = True)[1]\n",
        "  print(pred)\n",
        "  break\n"
      ],
      "execution_count": null,
      "outputs": [
        {
          "output_type": "error",
          "ename": "RuntimeError",
          "evalue": "ignored",
          "traceback": [
            "\u001b[0;31m---------------------------------------------------------------------------\u001b[0m",
            "\u001b[0;31mRuntimeError\u001b[0m                              Traceback (most recent call last)",
            "\u001b[0;32m<ipython-input-29-71db8c09926c>\u001b[0m in \u001b[0;36m<module>\u001b[0;34m()\u001b[0m\n\u001b[1;32m      4\u001b[0m   \u001b[0mplt\u001b[0m\u001b[0;34m.\u001b[0m\u001b[0mimshow\u001b[0m\u001b[0;34m(\u001b[0m\u001b[0mimg\u001b[0m\u001b[0;34m.\u001b[0m\u001b[0msqueeze\u001b[0m\u001b[0;34m(\u001b[0m\u001b[0;34m)\u001b[0m\u001b[0;34m.\u001b[0m\u001b[0mpermute\u001b[0m\u001b[0;34m(\u001b[0m\u001b[0;36m1\u001b[0m\u001b[0;34m,\u001b[0m \u001b[0;36m2\u001b[0m\u001b[0;34m,\u001b[0m \u001b[0;36m0\u001b[0m\u001b[0;34m)\u001b[0m\u001b[0;34m)\u001b[0m\u001b[0;34m\u001b[0m\u001b[0;34m\u001b[0m\u001b[0m\n\u001b[1;32m      5\u001b[0m   \u001b[0mfeatures\u001b[0m \u001b[0;34m=\u001b[0m \u001b[0malexnet\u001b[0m\u001b[0;34m.\u001b[0m\u001b[0mfeatures\u001b[0m\u001b[0;34m(\u001b[0m\u001b[0mimg\u001b[0m\u001b[0;34m)\u001b[0m\u001b[0;34m\u001b[0m\u001b[0;34m\u001b[0m\u001b[0m\n\u001b[0;32m----> 6\u001b[0;31m   \u001b[0mfeatures\u001b[0m \u001b[0;34m=\u001b[0m \u001b[0mfeatures\u001b[0m\u001b[0;34m.\u001b[0m\u001b[0mcuda\u001b[0m\u001b[0;34m(\u001b[0m\u001b[0;34m)\u001b[0m\u001b[0;34m\u001b[0m\u001b[0;34m\u001b[0m\u001b[0m\n\u001b[0m\u001b[1;32m      7\u001b[0m   \u001b[0mout\u001b[0m \u001b[0;34m=\u001b[0m \u001b[0mmodel\u001b[0m\u001b[0;34m(\u001b[0m\u001b[0mfeatures\u001b[0m\u001b[0;34m)\u001b[0m\u001b[0;34m\u001b[0m\u001b[0;34m\u001b[0m\u001b[0m\n\u001b[1;32m      8\u001b[0m   \u001b[0mpred\u001b[0m \u001b[0;34m=\u001b[0m \u001b[0mout\u001b[0m\u001b[0;34m.\u001b[0m\u001b[0mmax\u001b[0m\u001b[0;34m(\u001b[0m\u001b[0;36m1\u001b[0m\u001b[0;34m,\u001b[0m \u001b[0mkeepdim\u001b[0m \u001b[0;34m=\u001b[0m \u001b[0;32mTrue\u001b[0m\u001b[0;34m)\u001b[0m\u001b[0;34m[\u001b[0m\u001b[0;36m1\u001b[0m\u001b[0;34m]\u001b[0m\u001b[0;34m\u001b[0m\u001b[0;34m\u001b[0m\u001b[0m\n",
            "\u001b[0;31mRuntimeError\u001b[0m: CUDA error: an illegal memory access was encountered"
          ]
        },
        {
          "output_type": "display_data",
          "data": {
            "image/png": "[encoded data removed]",
            "text/plain": [
              "<Figure size 432x288 with 1 Axes>"
            ]
          },
          "metadata": {
            "tags": [],
            "needs_background": "light"
          }
        }
      ]
    },
    {
      "cell_type": "code",
      "metadata": {
        "id": "U3Phz-ZkyrFh",
        "colab_type": "code",
        "colab": {
          "base_uri": "https://localhost:8080/",
          "height": 283
        },
        "outputId": "c69e8a80-9e72-40b8-f0fa-66d06d198027"
      },
      "source": [
        "test_image = io.imread('./IMG_6836_cropped.jpg')\n",
        "print(test_image.shape)\n",
        "test_image = transform.resize(test_image, (224, 224))\n",
        "print(test_image.shape)\n",
        "\n",
        "plt.imshow(test_image, cmap='gray')\n",
        "plt.axis('off');"
      ],
      "execution_count": null,
      "outputs": [
        {
          "output_type": "stream",
          "text": [
            "(649, 652, 3)\n",
            "(224, 224, 3)\n"
          ],
          "name": "stdout"
        },
        {
          "output_type": "display_data",
          "data": {
            "image/png": "[encoded data removed]",
            "text/plain": [
              "<Figure size 432x288 with 1 Axes>"
            ]
          },
          "metadata": {
            "tags": [],
            "needs_background": "light"
          }
        }
      ]
    },
    {
      "cell_type": "markdown",
      "metadata": {
        "id": "LuOq21d2DQKI",
        "colab_type": "text"
      },
      "source": [
        "# smaller batch size"
      ]
    },
    {
      "cell_type": "code",
      "metadata": {
        "id": "Jmb1CfiKDSE6",
        "colab_type": "code",
        "colab": {}
      },
      "source": [
        "if os.path.exists(os.path.expanduser('~/feature')):\n",
        "  !rm -rf {os.path.expanduser('~/feature')}\n",
        "!unzip '/content/drive/My Drive/APS360 Project/share/BerendImages/feature_neg.zip' -d {os.path.expanduser('~/feature')}"
      ],
      "execution_count": null,
      "outputs": []
    },
    {
      "cell_type": "code",
      "metadata": {
        "id": "2Jvj9r44FI0O",
        "colab_type": "code",
        "colab": {}
      },
      "source": [
        "feature_root_path = os.path.expanduser('~/feature/root/feature/')"
      ],
      "execution_count": null,
      "outputs": []
    },
    {
      "cell_type": "code",
      "metadata": {
        "id": "ivCNEIVFFYBT",
        "colab_type": "code",
        "colab": {
          "base_uri": "https://localhost:8080/",
          "height": 1000
        },
        "outputId": "b85103b6-5494-4130-9eb2-2f6d76b46a03"
      },
      "source": [
        "#Training with smaller batch size\n",
        "use_cuda = True\n",
        "tNetDp = TransferLearningNetDp5(0.1).cuda()\n",
        "transfer_train(tNetDp, batch_size=40, num_epochs=100, lr=0.0015)"
      ],
      "execution_count": null,
      "outputs": [
        {
          "output_type": "stream",
          "text": [
            "Epoch 0 Finished.  Time per Epoch:  11.30 s \n",
            "train err: 0.4303, train loss: 601.8854\n",
            "validation err: 0.3182, validation loss: 126.8466\n",
            "Epoch 1 Finished.  Time per Epoch:  11.37 s \n",
            "train err: 0.2886, train loss: 364.9653\n",
            "validation err: 0.2495, validation loss: 94.4615\n",
            "Epoch 2 Finished.  Time per Epoch:  11.27 s \n",
            "train err: 0.2534, train loss: 321.4783\n",
            "validation err: 0.2347, validation loss: 95.4994\n",
            "Epoch 3 Finished.  Time per Epoch:  11.25 s \n",
            "train err: 0.2253, train loss: 281.4397\n",
            "validation err: 0.2484, validation loss: 101.1687\n",
            "Epoch 4 Finished.  Time per Epoch:  11.24 s \n",
            "train err: 0.2128, train loss: 266.0054\n",
            "validation err: 0.1891, validation loss: 81.0962\n",
            "Epoch 5 Finished.  Time per Epoch:  11.25 s \n",
            "train err: 0.2052, train loss: 257.0384\n",
            "validation err: 0.1940, validation loss: 82.2030\n",
            "Epoch 6 Finished.  Time per Epoch:  11.26 s \n",
            "train err: 0.1886, train loss: 229.5715\n",
            "validation err: 0.1865, validation loss: 85.7634\n",
            "Epoch 7 Finished.  Time per Epoch:  11.28 s \n",
            "train err: 0.1922, train loss: 236.4445\n",
            "validation err: 0.1842, validation loss: 82.8635\n",
            "Epoch 8 Finished.  Time per Epoch:  11.29 s \n",
            "train err: 0.1917, train loss: 240.1335\n",
            "validation err: 0.1658, validation loss: 69.9735\n",
            "Epoch 9 Finished.  Time per Epoch:  11.28 s \n",
            "train err: 0.1840, train loss: 231.1898\n",
            "validation err: 0.1762, validation loss: 98.0713\n",
            "Epoch 10 Finished.  Time per Epoch:  11.27 s \n",
            "train err: 0.1802, train loss: 224.1238\n",
            "validation err: 0.1862, validation loss: 94.0158\n",
            "Epoch 11 Finished.  Time per Epoch:  11.26 s \n",
            "train err: 0.1769, train loss: 227.6710\n",
            "validation err: 0.1566, validation loss: 82.9873\n",
            "Epoch 12 Finished.  Time per Epoch:  11.25 s \n",
            "train err: 0.1692, train loss: 213.5991\n",
            "validation err: 0.1524, validation loss: 78.1549\n",
            "Epoch 13 Finished.  Time per Epoch:  11.25 s \n",
            "train err: 0.1617, train loss: 203.7063\n",
            "validation err: 0.1496, validation loss: 81.5503\n",
            "Epoch 14 Finished.  Time per Epoch:  11.27 s \n",
            "train err: 0.1703, train loss: 223.7020\n",
            "validation err: 0.1855, validation loss: 93.6587\n",
            "Epoch 15 Finished.  Time per Epoch:  11.27 s \n",
            "train err: 0.1614, train loss: 199.3079\n",
            "validation err: 0.1907, validation loss: 157.0900\n",
            "Epoch 16 Finished.  Time per Epoch:  11.25 s \n",
            "train err: 0.1620, train loss: 210.6809\n",
            "validation err: 0.1454, validation loss: 83.8039\n",
            "Epoch 17 Finished.  Time per Epoch:  11.27 s \n",
            "train err: 0.1511, train loss: 190.4708\n",
            "validation err: 0.1714, validation loss: 118.1012\n",
            "Epoch 18 Finished.  Time per Epoch:  11.28 s \n",
            "train err: 0.1471, train loss: 179.8014\n",
            "validation err: 0.1343, validation loss: 95.4362\n",
            "Epoch 19 Finished.  Time per Epoch:  11.31 s \n",
            "train err: 0.1532, train loss: 203.9552\n",
            "validation err: 0.1329, validation loss: 86.1341\n",
            "Epoch 20 Finished.  Time per Epoch:  11.33 s \n",
            "train err: 0.1454, train loss: 188.0452\n",
            "validation err: 0.1420, validation loss: 87.7532\n",
            "Epoch 21 Finished.  Time per Epoch:  11.34 s \n",
            "train err: 0.1477, train loss: 179.2757\n",
            "validation err: 0.1752, validation loss: 132.5940\n",
            "Epoch 22 Finished.  Time per Epoch:  11.32 s \n",
            "train err: 0.1513, train loss: 193.6838\n",
            "validation err: 0.1378, validation loss: 87.8977\n",
            "Epoch 23 Finished.  Time per Epoch:  11.34 s \n",
            "train err: 0.1352, train loss: 166.8225\n",
            "validation err: 0.1531, validation loss: 121.9165\n",
            "Epoch 24 Finished.  Time per Epoch:  11.33 s \n",
            "train err: 0.1461, train loss: 188.6723\n",
            "validation err: 0.1649, validation loss: 111.3712\n",
            "Epoch 25 Finished.  Time per Epoch:  11.33 s \n",
            "train err: 0.1431, train loss: 184.3965\n",
            "validation err: 0.1486, validation loss: 130.9252\n",
            "Epoch 26 Finished.  Time per Epoch:  11.34 s \n",
            "train err: 0.1325, train loss: 169.3385\n",
            "validation err: 0.1336, validation loss: 87.7792\n",
            "Epoch 27 Finished.  Time per Epoch:  11.34 s \n",
            "train err: 0.1405, train loss: 190.2171\n",
            "validation err: 0.1484, validation loss: 120.2640\n",
            "Epoch 28 Finished.  Time per Epoch:  11.36 s \n",
            "train err: 0.1313, train loss: 162.9954\n",
            "validation err: 0.1430, validation loss: 124.2215\n",
            "Epoch 29 Finished.  Time per Epoch:  11.37 s \n",
            "train err: 0.1319, train loss: 175.8156\n",
            "validation err: 0.1884, validation loss: 213.5894\n",
            "Epoch 30 Finished.  Time per Epoch:  11.36 s \n",
            "train err: 0.1302, train loss: 175.9183\n",
            "validation err: 0.1642, validation loss: 149.1539\n",
            "Epoch 31 Finished.  Time per Epoch:  11.35 s \n",
            "train err: 0.1315, train loss: 171.2509\n",
            "validation err: 0.1590, validation loss: 167.3808\n",
            "Epoch 32 Finished.  Time per Epoch:  11.34 s \n",
            "train err: 0.1280, train loss: 163.3719\n",
            "validation err: 0.1491, validation loss: 130.8022\n",
            "Epoch 33 Finished.  Time per Epoch:  11.35 s \n",
            "train err: 0.1229, train loss: 149.0787\n",
            "validation err: 0.1447, validation loss: 142.7543\n",
            "Epoch 34 Finished.  Time per Epoch:  11.35 s \n",
            "train err: 0.1340, train loss: 175.1751\n",
            "validation err: 0.1460, validation loss: 140.5803\n",
            "Epoch 35 Finished.  Time per Epoch:  11.36 s \n",
            "train err: 0.1272, train loss: 177.4349\n",
            "validation err: 0.1668, validation loss: 148.5084\n",
            "Epoch 36 Finished.  Time per Epoch:  11.36 s \n",
            "train err: 0.1276, train loss: 169.2446\n",
            "validation err: 0.1475, validation loss: 136.4779\n",
            "Epoch 37 Finished.  Time per Epoch:  11.36 s \n",
            "train err: 0.1191, train loss: 143.7958\n",
            "validation err: 0.1463, validation loss: 131.8922\n",
            "Epoch 38 Finished.  Time per Epoch:  11.36 s \n",
            "train err: 0.1286, train loss: 188.5014\n",
            "validation err: 0.1434, validation loss: 129.7246\n",
            "Epoch 39 Finished.  Time per Epoch:  11.37 s \n",
            "train err: 0.1149, train loss: 143.8839\n",
            "validation err: 0.1437, validation loss: 151.4622\n",
            "Epoch 40 Finished.  Time per Epoch:  11.38 s \n",
            "train err: 0.1271, train loss: 178.8092\n",
            "validation err: 0.1273, validation loss: 147.1074\n",
            "Epoch 41 Finished.  Time per Epoch:  11.38 s \n",
            "train err: 0.1159, train loss: 147.9469\n",
            "validation err: 0.1387, validation loss: 132.7778\n",
            "Epoch 42 Finished.  Time per Epoch:  11.39 s \n",
            "train err: 0.1179, train loss: 147.8453\n",
            "validation err: 0.1708, validation loss: 201.1239\n",
            "Epoch 43 Finished.  Time per Epoch:  11.38 s \n",
            "train err: 0.1336, train loss: 208.6161\n",
            "validation err: 0.1298, validation loss: 155.3890\n",
            "Epoch 44 Finished.  Time per Epoch:  11.39 s \n",
            "train err: 0.1187, train loss: 157.6443\n",
            "validation err: 0.1301, validation loss: 137.7404\n",
            "Epoch 45 Finished.  Time per Epoch:  11.39 s \n",
            "train err: 0.1219, train loss: 159.8041\n",
            "validation err: 0.1597, validation loss: 213.4592\n",
            "Epoch 46 Finished.  Time per Epoch:  11.38 s \n",
            "train err: 0.1222, train loss: 174.0229\n",
            "validation err: 0.1359, validation loss: 134.8130\n",
            "Epoch 47 Finished.  Time per Epoch:  11.39 s \n",
            "train err: 0.1160, train loss: 149.1158\n",
            "validation err: 0.1378, validation loss: 173.0330\n",
            "Epoch 48 Finished.  Time per Epoch:  11.39 s \n",
            "train err: 0.1152, train loss: 154.7178\n",
            "validation err: 0.1428, validation loss: 147.8013\n",
            "Epoch 49 Finished.  Time per Epoch:  11.39 s \n",
            "train err: 0.1126, train loss: 151.4869\n",
            "validation err: 0.1347, validation loss: 180.0953\n",
            "Epoch 50 Finished.  Time per Epoch:  11.39 s \n",
            "train err: 0.1090, train loss: 130.2903\n",
            "validation err: 0.1472, validation loss: 182.2261\n",
            "Epoch 51 Finished.  Time per Epoch:  11.40 s \n",
            "train err: 0.1150, train loss: 156.3833\n",
            "validation err: 0.1307, validation loss: 148.4014\n",
            "Epoch 52 Finished.  Time per Epoch:  11.40 s \n",
            "train err: 0.1167, train loss: 155.8324\n",
            "validation err: 0.1479, validation loss: 174.2880\n",
            "Epoch 53 Finished.  Time per Epoch:  11.40 s \n",
            "train err: 0.1165, train loss: 161.8047\n",
            "validation err: 0.1668, validation loss: 200.9036\n",
            "Epoch 54 Finished.  Time per Epoch:  11.40 s \n",
            "train err: 0.1210, train loss: 183.0810\n",
            "validation err: 0.1555, validation loss: 249.9818\n",
            "Epoch 55 Finished.  Time per Epoch:  11.39 s \n",
            "train err: 0.1178, train loss: 160.0654\n",
            "validation err: 0.1293, validation loss: 158.3753\n",
            "Epoch 56 Finished.  Time per Epoch:  11.40 s \n",
            "train err: 0.1099, train loss: 135.1584\n",
            "validation err: 0.1320, validation loss: 155.1179\n",
            "Epoch 57 Finished.  Time per Epoch:  11.40 s \n",
            "train err: 0.1115, train loss: 155.0532\n",
            "validation err: 0.1754, validation loss: 289.9829\n",
            "Epoch 58 Finished.  Time per Epoch:  11.39 s \n",
            "train err: 0.1224, train loss: 195.4046\n",
            "validation err: 0.1206, validation loss: 162.3807\n",
            "Epoch 59 Finished.  Time per Epoch:  11.39 s \n",
            "train err: 0.1019, train loss: 120.6586\n",
            "validation err: 0.1298, validation loss: 162.2550\n",
            "Epoch 60 Finished.  Time per Epoch:  11.39 s \n",
            "train err: 0.1021, train loss: 133.2160\n",
            "validation err: 0.1467, validation loss: 223.0627\n",
            "Epoch 61 Finished.  Time per Epoch:  11.39 s \n",
            "train err: 0.1121, train loss: 151.1566\n",
            "validation err: 0.1282, validation loss: 154.1133\n",
            "Epoch 62 Finished.  Time per Epoch:  11.40 s \n",
            "train err: 0.1077, train loss: 139.3377\n",
            "validation err: 0.1199, validation loss: 156.0798\n",
            "Epoch 63 Finished.  Time per Epoch:  11.41 s \n",
            "train err: 0.1020, train loss: 122.5508\n",
            "validation err: 0.1425, validation loss: 196.5860\n",
            "Epoch 64 Finished.  Time per Epoch:  11.41 s \n",
            "train err: 0.1204, train loss: 196.5902\n",
            "validation err: 0.1404, validation loss: 185.8775\n",
            "Epoch 65 Finished.  Time per Epoch:  11.41 s \n",
            "train err: 0.1174, train loss: 194.5212\n",
            "validation err: 0.1409, validation loss: 217.8156\n",
            "Epoch 66 Finished.  Time per Epoch:  11.41 s \n",
            "train err: 0.1128, train loss: 169.6583\n",
            "validation err: 0.1307, validation loss: 169.4782\n",
            "Epoch 67 Finished.  Time per Epoch:  11.41 s \n",
            "train err: 0.1024, train loss: 126.1401\n",
            "validation err: 0.1334, validation loss: 181.1016\n",
            "Epoch 68 Finished.  Time per Epoch:  11.42 s \n",
            "train err: 0.0986, train loss: 127.1866\n",
            "validation err: 0.1197, validation loss: 173.4419\n",
            "Epoch 69 Finished.  Time per Epoch:  11.42 s \n",
            "train err: 0.1085, train loss: 154.8176\n",
            "validation err: 0.1397, validation loss: 189.3857\n",
            "Epoch 70 Finished.  Time per Epoch:  11.42 s \n",
            "train err: 0.1170, train loss: 197.0877\n",
            "validation err: 0.1545, validation loss: 259.7170\n",
            "Epoch 71 Finished.  Time per Epoch:  11.42 s \n",
            "train err: 0.0996, train loss: 132.0922\n",
            "validation err: 0.1279, validation loss: 213.5850\n",
            "Epoch 72 Finished.  Time per Epoch:  11.42 s \n",
            "train err: 0.1022, train loss: 134.2212\n",
            "validation err: 0.1437, validation loss: 201.8795\n",
            "Epoch 73 Finished.  Time per Epoch:  11.42 s \n",
            "train err: 0.1114, train loss: 155.5852\n",
            "validation err: 0.1439, validation loss: 225.6870\n",
            "Epoch 74 Finished.  Time per Epoch:  11.42 s \n",
            "train err: 0.1152, train loss: 183.2801\n",
            "validation err: 0.1355, validation loss: 231.4333\n",
            "Epoch 75 Finished.  Time per Epoch:  11.42 s \n",
            "train err: 0.1088, train loss: 157.8426\n",
            "validation err: 0.1270, validation loss: 207.0803\n",
            "Epoch 76 Finished.  Time per Epoch:  11.42 s \n",
            "train err: 0.0924, train loss: 97.5384\n",
            "validation err: 0.1227, validation loss: 203.3248\n",
            "Epoch 77 Finished.  Time per Epoch:  11.43 s \n",
            "train err: 0.0967, train loss: 118.2100\n",
            "validation err: 0.1221, validation loss: 214.1094\n",
            "Epoch 78 Finished.  Time per Epoch:  11.43 s \n",
            "train err: 0.0934, train loss: 108.9623\n",
            "validation err: 0.1289, validation loss: 225.5130\n",
            "Epoch 79 Finished.  Time per Epoch:  11.43 s \n",
            "train err: 0.1173, train loss: 208.4974\n",
            "validation err: 0.1284, validation loss: 230.1967\n",
            "Epoch 80 Finished.  Time per Epoch:  11.43 s \n",
            "train err: 0.1072, train loss: 149.5352\n",
            "validation err: 0.1239, validation loss: 210.4156\n",
            "Epoch 81 Finished.  Time per Epoch:  11.43 s \n",
            "train err: 0.1145, train loss: 181.1212\n",
            "validation err: 0.1435, validation loss: 231.5515\n",
            "Epoch 82 Finished.  Time per Epoch:  11.43 s \n",
            "train err: 0.1083, train loss: 238.5052\n",
            "validation err: 0.1200, validation loss: 212.2133\n",
            "Epoch 83 Finished.  Time per Epoch:  11.43 s \n",
            "train err: 0.0966, train loss: 124.0787\n",
            "validation err: 0.1392, validation loss: 275.7222\n",
            "Epoch 84 Finished.  Time per Epoch:  11.43 s \n",
            "train err: 0.1027, train loss: 140.8688\n",
            "validation err: 0.1298, validation loss: 208.9838\n",
            "Epoch 85 Finished.  Time per Epoch:  11.43 s \n",
            "train err: 0.1019, train loss: 126.3126\n",
            "validation err: 0.1312, validation loss: 216.9086\n",
            "Epoch 86 Finished.  Time per Epoch:  11.43 s \n",
            "train err: 0.1034, train loss: 159.4888\n",
            "validation err: 0.1696, validation loss: 426.3494\n",
            "Epoch 87 Finished.  Time per Epoch:  11.43 s \n",
            "train err: 0.1090, train loss: 180.7511\n",
            "validation err: 0.1267, validation loss: 210.6093\n",
            "Epoch 88 Finished.  Time per Epoch:  11.43 s \n",
            "train err: 0.1014, train loss: 135.1090\n",
            "validation err: 0.1213, validation loss: 213.2959\n",
            "Epoch 89 Finished.  Time per Epoch:  11.43 s \n",
            "train err: 0.0912, train loss: 110.2868\n",
            "validation err: 0.1367, validation loss: 278.0479\n",
            "Epoch 90 Finished.  Time per Epoch:  11.43 s \n",
            "train err: 0.1156, train loss: 206.0568\n",
            "validation err: 0.1320, validation loss: 258.9064\n",
            "Epoch 91 Finished.  Time per Epoch:  11.43 s \n",
            "train err: 0.1013, train loss: 154.0141\n",
            "validation err: 0.1496, validation loss: 282.3346\n",
            "Epoch 92 Finished.  Time per Epoch:  11.43 s \n",
            "train err: 0.0932, train loss: 114.4108\n",
            "validation err: 0.1240, validation loss: 226.8324\n",
            "Epoch 93 Finished.  Time per Epoch:  11.43 s \n",
            "train err: 0.0968, train loss: 121.3342\n",
            "validation err: 0.1322, validation loss: 325.4815\n",
            "Epoch 94 Finished.  Time per Epoch:  11.43 s \n",
            "train err: 0.0997, train loss: 134.0361\n",
            "validation err: 0.1406, validation loss: 261.4390\n",
            "Epoch 95 Finished.  Time per Epoch:  11.44 s \n",
            "train err: 0.1053, train loss: 179.0742\n",
            "validation err: 0.1357, validation loss: 237.3954\n",
            "Epoch 96 Finished.  Time per Epoch:  11.43 s \n",
            "train err: 0.1039, train loss: 149.9446\n",
            "validation err: 0.1334, validation loss: 230.6393\n",
            "Epoch 97 Finished.  Time per Epoch:  11.44 s \n",
            "train err: 0.0956, train loss: 124.4388\n",
            "validation err: 0.1277, validation loss: 243.8904\n",
            "Epoch 98 Finished.  Time per Epoch:  11.43 s \n",
            "train err: 0.1108, train loss: 179.9357\n",
            "validation err: 0.1347, validation loss: 286.6227\n",
            "Epoch 99 Finished.  Time per Epoch:  11.44 s \n",
            "train err: 0.1032, train loss: 143.7185\n",
            "validation err: 0.1223, validation loss: 224.3949\n",
            "Finished training in 1144.19 s\n"
          ],
          "name": "stdout"
        }
      ]
    },
    {
      "cell_type": "code",
      "metadata": {
        "id": "ox20op4RFbZu",
        "colab_type": "code",
        "colab": {
          "base_uri": "https://localhost:8080/",
          "height": 573
        },
        "outputId": "a93eb8aa-632a-4a80-ce79-ab3c2b515aa9"
      },
      "source": [
        "plot_training_curve(get_model_name(tNetDp.name, 40, 0.0015, 99))"
      ],
      "execution_count": null,
      "outputs": [
        {
          "output_type": "display_data",
          "data": {
            "image/png": "[encoded data removed]",
            "text/plain": [
              "<Figure size 432x288 with 1 Axes>"
            ]
          },
          "metadata": {
            "tags": [],
            "needs_background": "light"
          }
        },
        {
          "output_type": "display_data",
          "data": {
            "image/png": "[encoded data removed]",
            "text/plain": [
              "<Figure size 432x288 with 1 Axes>"
            ]
          },
          "metadata": {
            "tags": [],
            "needs_background": "light"
          }
        }
      ]
    }
  ]
}