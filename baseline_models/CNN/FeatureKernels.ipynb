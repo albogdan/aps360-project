{
  "nbformat": 4,
  "nbformat_minor": 0,
  "metadata": {
    "colab": {
      "name": "FeatureKernels.ipynb",
      "provenance": [],
      "collapsed_sections": [],
      "authorship_tag": "ABX9TyOOrfaOharLxBD7vaLGKKDG",
      "include_colab_link": true
    },
    "kernelspec": {
      "name": "python3",
      "display_name": "Python 3"
    },
    "widgets": {
      "application/vnd.jupyter.widget-state+json": {
        "2bf9987e7e8d4aceafeeb2fbee0f8021": {
          "model_module": "@jupyter-widgets/controls",
          "model_name": "HBoxModel",
          "state": {
            "_view_name": "HBoxView",
            "_dom_classes": [],
            "_model_name": "HBoxModel",
            "_view_module": "@jupyter-widgets/controls",
            "_model_module_version": "1.5.0",
            "_view_count": null,
            "_view_module_version": "1.5.0",
            "box_style": "",
            "layout": "IPY_MODEL_73ba9fd8c5dc43cbb549cf4e35c16045",
            "_model_module": "@jupyter-widgets/controls",
            "children": [
              "IPY_MODEL_cae8c9ac6e774bdb93f2cb11adb11820",
              "IPY_MODEL_7b193c452d8d4db2874d44aa5da202c9"
            ]
          }
        },
        "73ba9fd8c5dc43cbb549cf4e35c16045": {
          "model_module": "@jupyter-widgets/base",
          "model_name": "LayoutModel",
          "state": {
            "_view_name": "LayoutView",
            "grid_template_rows": null,
            "right": null,
            "justify_content": null,
            "_view_module": "@jupyter-widgets/base",
            "overflow": null,
            "_model_module_version": "1.2.0",
            "_view_count": null,
            "flex_flow": null,
            "width": null,
            "min_width": null,
            "border": null,
            "align_items": null,
            "bottom": null,
            "_model_module": "@jupyter-widgets/base",
            "top": null,
            "grid_column": null,
            "overflow_y": null,
            "overflow_x": null,
            "grid_auto_flow": null,
            "grid_area": null,
            "grid_template_columns": null,
            "flex": null,
            "_model_name": "LayoutModel",
            "justify_items": null,
            "grid_row": null,
            "max_height": null,
            "align_content": null,
            "visibility": null,
            "align_self": null,
            "height": null,
            "min_height": null,
            "padding": null,
            "grid_auto_rows": null,
            "grid_gap": null,
            "max_width": null,
            "order": null,
            "_view_module_version": "1.2.0",
            "grid_template_areas": null,
            "object_position": null,
            "object_fit": null,
            "grid_auto_columns": null,
            "margin": null,
            "display": null,
            "left": null
          }
        },
        "cae8c9ac6e774bdb93f2cb11adb11820": {
          "model_module": "@jupyter-widgets/controls",
          "model_name": "FloatProgressModel",
          "state": {
            "_view_name": "ProgressView",
            "style": "IPY_MODEL_bda1bceb67004b949d603fdb19059350",
            "_dom_classes": [],
            "description": "100%",
            "_model_name": "FloatProgressModel",
            "bar_style": "success",
            "max": 244418560,
            "_view_module": "@jupyter-widgets/controls",
            "_model_module_version": "1.5.0",
            "value": 244418560,
            "_view_count": null,
            "_view_module_version": "1.5.0",
            "orientation": "horizontal",
            "min": 0,
            "description_tooltip": null,
            "_model_module": "@jupyter-widgets/controls",
            "layout": "IPY_MODEL_980a4c41d5f8472097a50e8fb703dcd2"
          }
        },
        "7b193c452d8d4db2874d44aa5da202c9": {
          "model_module": "@jupyter-widgets/controls",
          "model_name": "HTMLModel",
          "state": {
            "_view_name": "HTMLView",
            "style": "IPY_MODEL_78eb89b281ef4dc6be45a95647f4ba9a",
            "_dom_classes": [],
            "description": "",
            "_model_name": "HTMLModel",
            "placeholder": "​",
            "_view_module": "@jupyter-widgets/controls",
            "_model_module_version": "1.5.0",
            "value": " 233M/233M [00:10&lt;00:00, 22.9MB/s]",
            "_view_count": null,
            "_view_module_version": "1.5.0",
            "description_tooltip": null,
            "_model_module": "@jupyter-widgets/controls",
            "layout": "IPY_MODEL_f1ec11fdf5bd4ab680d36b770c52c853"
          }
        },
        "bda1bceb67004b949d603fdb19059350": {
          "model_module": "@jupyter-widgets/controls",
          "model_name": "ProgressStyleModel",
          "state": {
            "_view_name": "StyleView",
            "_model_name": "ProgressStyleModel",
            "description_width": "initial",
            "_view_module": "@jupyter-widgets/base",
            "_model_module_version": "1.5.0",
            "_view_count": null,
            "_view_module_version": "1.2.0",
            "bar_color": null,
            "_model_module": "@jupyter-widgets/controls"
          }
        },
        "980a4c41d5f8472097a50e8fb703dcd2": {
          "model_module": "@jupyter-widgets/base",
          "model_name": "LayoutModel",
          "state": {
            "_view_name": "LayoutView",
            "grid_template_rows": null,
            "right": null,
            "justify_content": null,
            "_view_module": "@jupyter-widgets/base",
            "overflow": null,
            "_model_module_version": "1.2.0",
            "_view_count": null,
            "flex_flow": null,
            "width": null,
            "min_width": null,
            "border": null,
            "align_items": null,
            "bottom": null,
            "_model_module": "@jupyter-widgets/base",
            "top": null,
            "grid_column": null,
            "overflow_y": null,
            "overflow_x": null,
            "grid_auto_flow": null,
            "grid_area": null,
            "grid_template_columns": null,
            "flex": null,
            "_model_name": "LayoutModel",
            "justify_items": null,
            "grid_row": null,
            "max_height": null,
            "align_content": null,
            "visibility": null,
            "align_self": null,
            "height": null,
            "min_height": null,
            "padding": null,
            "grid_auto_rows": null,
            "grid_gap": null,
            "max_width": null,
            "order": null,
            "_view_module_version": "1.2.0",
            "grid_template_areas": null,
            "object_position": null,
            "object_fit": null,
            "grid_auto_columns": null,
            "margin": null,
            "display": null,
            "left": null
          }
        },
        "78eb89b281ef4dc6be45a95647f4ba9a": {
          "model_module": "@jupyter-widgets/controls",
          "model_name": "DescriptionStyleModel",
          "state": {
            "_view_name": "StyleView",
            "_model_name": "DescriptionStyleModel",
            "description_width": "",
            "_view_module": "@jupyter-widgets/base",
            "_model_module_version": "1.5.0",
            "_view_count": null,
            "_view_module_version": "1.2.0",
            "_model_module": "@jupyter-widgets/controls"
          }
        },
        "f1ec11fdf5bd4ab680d36b770c52c853": {
          "model_module": "@jupyter-widgets/base",
          "model_name": "LayoutModel",
          "state": {
            "_view_name": "LayoutView",
            "grid_template_rows": null,
            "right": null,
            "justify_content": null,
            "_view_module": "@jupyter-widgets/base",
            "overflow": null,
            "_model_module_version": "1.2.0",
            "_view_count": null,
            "flex_flow": null,
            "width": null,
            "min_width": null,
            "border": null,
            "align_items": null,
            "bottom": null,
            "_model_module": "@jupyter-widgets/base",
            "top": null,
            "grid_column": null,
            "overflow_y": null,
            "overflow_x": null,
            "grid_auto_flow": null,
            "grid_area": null,
            "grid_template_columns": null,
            "flex": null,
            "_model_name": "LayoutModel",
            "justify_items": null,
            "grid_row": null,
            "max_height": null,
            "align_content": null,
            "visibility": null,
            "align_self": null,
            "height": null,
            "min_height": null,
            "padding": null,
            "grid_auto_rows": null,
            "grid_gap": null,
            "max_width": null,
            "order": null,
            "_view_module_version": "1.2.0",
            "grid_template_areas": null,
            "object_position": null,
            "object_fit": null,
            "grid_auto_columns": null,
            "margin": null,
            "display": null,
            "left": null
          }
        }
      }
    }
  },
  "cells": [
    {
      "cell_type": "markdown",
      "metadata": {
        "id": "view-in-github",
        "colab_type": "text"
      },
      "source": [
        "<a href=\"https://colab.research.google.com/github/albogdan/aps360-project/blob/baseline_models/baseline_models/CNN/FeatureKernels.ipynb\" target=\"_parent\"><img src=\"https://colab.research.google.com/assets/colab-badge.svg\" alt=\"Open In Colab\"/></a>"
      ]
    },
    {
      "cell_type": "code",
      "metadata": {
        "id": "QhsvHugpaflu",
        "colab_type": "code",
        "colab": {}
      },
      "source": [
        "import numpy as np\n",
        "import matplotlib.pyplot as plt\n",
        "import torch\n",
        "import torch.nn as nn\n",
        "import torch.nn.functional as F\n",
        "import torch.optim as optim\n",
        "from torchvision import datasets, models, transforms\n",
        "from torchsummary import summary\n",
        "import os\n",
        "import time"
      ],
      "execution_count": 1,
      "outputs": []
    },
    {
      "cell_type": "markdown",
      "metadata": {
        "id": "T49EKdINPVkn",
        "colab_type": "text"
      },
      "source": [
        "# Load Data"
      ]
    },
    {
      "cell_type": "code",
      "metadata": {
        "id": "8YJZNiW8PXHD",
        "colab_type": "code",
        "colab": {}
      },
      "source": [
        "from google.colab import drive\n",
        "drive.mount('/content/drive')\n",
        "\n",
        "if os.path.exists(os.path.expanduser('~/data')):\n",
        "  !rm -rf {os.path.expanduser('~/data')}\n",
        "!unzip '/content/drive/My Drive/APS360 Project/kaggle_dataset/separate_dataset.zip' -d {os.path.expanduser('~/data')}"
      ],
      "execution_count": null,
      "outputs": []
    },
    {
      "cell_type": "markdown",
      "metadata": {
        "id": "Ibr1J4iyBjpW",
        "colab_type": "text"
      },
      "source": [
        "# Transfer Learning with AlexNet"
      ]
    },
    {
      "cell_type": "code",
      "metadata": {
        "id": "_XIcvV26BedG",
        "colab_type": "code",
        "colab": {
          "base_uri": "https://localhost:8080/",
          "height": 104,
          "referenced_widgets": [
            "2bf9987e7e8d4aceafeeb2fbee0f8021",
            "73ba9fd8c5dc43cbb549cf4e35c16045",
            "cae8c9ac6e774bdb93f2cb11adb11820",
            "7b193c452d8d4db2874d44aa5da202c9",
            "bda1bceb67004b949d603fdb19059350",
            "980a4c41d5f8472097a50e8fb703dcd2",
            "78eb89b281ef4dc6be45a95647f4ba9a",
            "f1ec11fdf5bd4ab680d36b770c52c853"
          ]
        },
        "outputId": "8b6adb10-d438-4a3d-9e0e-2dedc1bfd3fb"
      },
      "source": [
        "import torchvision.models\n",
        "alexnet = torchvision.models.alexnet(pretrained=True)\n",
        "\n",
        "# Transform Settings - resize all images to 224 x 224\n",
        "data_transform = transforms.Compose([transforms.Resize((224,224)), \n",
        "                                      transforms.ToTensor()])\n",
        "\n",
        "# define dataloader parameters\n",
        "num_workers = 4\n",
        "batch_size = 1\n",
        "\n",
        "# get dataset\n",
        "image_set = datasets.ImageFolder(os.path.expanduser('~/data/separate_dataset'), transform=data_transform)\n",
        "\n",
        "# put data inside loader\n",
        "loader = torch.utils.data.DataLoader(image_set, batch_size=batch_size, \n",
        "                                        num_workers=num_workers, shuffle=False)\n"
      ],
      "execution_count": 4,
      "outputs": [
        {
          "output_type": "stream",
          "text": [
            "Downloading: \"https://download.pytorch.org/models/alexnet-owt-4df8aa71.pth\" to /root/.cache/torch/checkpoints/alexnet-owt-4df8aa71.pth\n"
          ],
          "name": "stderr"
        },
        {
          "output_type": "display_data",
          "data": {
            "application/vnd.jupyter.widget-view+json": {
              "model_id": "2bf9987e7e8d4aceafeeb2fbee0f8021",
              "version_minor": 0,
              "version_major": 2
            },
            "text/plain": [
              "HBox(children=(FloatProgress(value=0.0, max=244418560.0), HTML(value='')))"
            ]
          },
          "metadata": {
            "tags": []
          }
        },
        {
          "output_type": "stream",
          "text": [
            "\n"
          ],
          "name": "stdout"
        }
      ]
    },
    {
      "cell_type": "code",
      "metadata": {
        "id": "ykP702BhTKJZ",
        "colab_type": "code",
        "colab": {
          "base_uri": "https://localhost:8080/",
          "height": 72
        },
        "outputId": "e8dafd19-defe-4bd9-fd3d-b227f23959da"
      },
      "source": [
        "print(image_set.class_to_idx)\n",
        "classes = os.listdir(os.path.expanduser('~/data/separate_dataset'))\n",
        "classes.sort()\n",
        "classes = classes[1:]\n",
        "print(classes)"
      ],
      "execution_count": 5,
      "outputs": [
        {
          "output_type": "stream",
          "text": [
            "{'14719': 0, '15672': 1, '18654': 2, '2357': 3, '2420': 4, '2780': 5, '27925': 6, '3001': 7, '3002': 8, '3003': 9, '3004': 10, '3005': 11, '3010': 12, '3020': 13, '3021': 14, '3022': 15, '3023': 16, '3024': 17, '3037': 18, '3038': 19, '3039': 20, '3040': 21, '3045': 22, '3046': 23, '3062': 24, '3063': 25, '3068': 26, '3069': 27, '3070': 28, '3298': 29, '33909': 30, '3622': 31, '3623': 32, '3659': 33, '3675': 34, '3700': 35, '3794': 36, '4150': 37, '41677': 38, '41678': 39, '4274': 40, '4286': 41, '43093': 42, '43857': 43, '4490': 44, '54200': 45, '6143': 46, '6632': 47, '85984': 48, '99301': 49}\n",
            "['14719', '15672', '18654', '2357', '2420', '2780', '27925', '3001', '3002', '3003', '3004', '3005', '3010', '3020', '3021', '3022', '3023', '3024', '3037', '3038', '3039', '3040', '3045', '3046', '3062', '3063', '3068', '3069', '3070', '3298', '33909', '3622', '3623', '3659', '3675', '3700', '3794', '4150', '41677', '41678', '4274', '4286', '43093', '43857', '4490', '54200', '6143', '6632', '85984', '99301']\n"
          ],
          "name": "stdout"
        }
      ]
    },
    {
      "cell_type": "code",
      "metadata": {
        "id": "Hf2RQpWDUFtX",
        "colab_type": "code",
        "colab": {}
      },
      "source": [
        "feature_root_path = os.path.expanduser('~/feature')\n",
        "for i in classes:\n",
        "  path = os.path.join(feature_root_path, i)\n",
        "  if not os.path.exists(path):\n",
        "    !mkdir -p {path}"
      ],
      "execution_count": 7,
      "outputs": []
    },
    {
      "cell_type": "code",
      "metadata": {
        "id": "MGplz0xRTJDR",
        "colab_type": "code",
        "colab": {}
      },
      "source": [
        "# generate and save feature maps\n",
        "i = 0\n",
        "for img, label in loader:\n",
        "  features = alexnet.features(img)\n",
        "  features_tensor = torch.from_numpy(features.detach().numpy())\n",
        "  features_folder_path = os.path.join(feature_root_path, classes[label])\n",
        "  feature_path = os.path.join(features_folder_path, \"{}.tensor\".format(i))\n",
        "  torch.save(features_tensor.squeeze(0), feature_path)\n",
        "  i += 1\n",
        "  print(\"saved {} images\".format(i))"
      ],
      "execution_count": null,
      "outputs": []
    },
    {
      "cell_type": "code",
      "metadata": {
        "id": "aWoU7Bq9X6Or",
        "colab_type": "code",
        "colab": {}
      },
      "source": [
        "!zip feature.zip -r {feature_root_path}"
      ],
      "execution_count": null,
      "outputs": []
    },
    {
      "cell_type": "code",
      "metadata": {
        "id": "hAGkY7bqv-iq",
        "colab_type": "code",
        "colab": {}
      },
      "source": [
        "# function to load features\n",
        "def feature_loader(feature_root_path, train_p, val_p, batch_size = 32):\n",
        "  dataset = torchvision.datasets.DatasetFolder(feature_root_path,\\\n",
        "                                                 loader = torch.load, extensions = ('.tensor'))\n",
        "\n",
        "  split = [int(train_p * len(dataset)), int(val_p * len(dataset))]\n",
        "  split.append(len(dataset) - split[1] - split[0])\n",
        "\n",
        "  train_set, val_set, test_set = torch.utils.data.random_split(dataset, split)\n",
        "  num_workers = 4\n",
        "\n",
        "  train_loader = torch.utils.data.DataLoader(train_set, batch_size=batch_size,\n",
        "                                             num_workers = num_workers, shuffle = True)\n",
        "  val_loader = torch.utils.data.DataLoader(val_set, batch_size=batch_size,\n",
        "                                             num_workers = num_workers, shuffle = True)\n",
        "  test_loader = torch.utils.data.DataLoader(test_set, batch_size=batch_size,\n",
        "                                             num_workers = num_workers, shuffle = True)\n",
        "  return train_loader, val_loader, test_loader"
      ],
      "execution_count": 10,
      "outputs": []
    },
    {
      "cell_type": "code",
      "metadata": {
        "id": "wdYBJeDtxA18",
        "colab_type": "code",
        "colab": {}
      },
      "source": [
        "train_data, val_data, test_data = feature_loader(feature_root_path, 0.6, 0.2, 32)"
      ],
      "execution_count": 11,
      "outputs": []
    },
    {
      "cell_type": "code",
      "metadata": {
        "id": "O-DejQ5TylT-",
        "colab_type": "code",
        "colab": {
          "base_uri": "https://localhost:8080/",
          "height": 278
        },
        "outputId": "b46bd63b-2e80-4ffb-a2ef-707595486f4b"
      },
      "source": [
        "class TransferLearningNet(nn.Module):\n",
        "  def __init__(self):\n",
        "    super(TransferLearningNet, self).__init__()\n",
        "    self.name = \"tNet\"\n",
        "    self.fc1 = nn.Linear(256*6*6, 120)\n",
        "    self.fc2 = nn.Linear(120, 50)\n",
        "  \n",
        "  def forward(self, x):\n",
        "    x = x.view(-1, 256*6*6)\n",
        "    x = F.leaky_relu(self.fc1(x))\n",
        "    x = self.fc2(x)\n",
        "    return x\n",
        "\n",
        "tNet = TransferLearningNet()\n",
        "summary(tNet, (256,6,6), device='cpu')"
      ],
      "execution_count": 25,
      "outputs": [
        {
          "output_type": "stream",
          "text": [
            "----------------------------------------------------------------\n",
            "        Layer (type)               Output Shape         Param #\n",
            "================================================================\n",
            "            Linear-1                  [-1, 120]       1,106,040\n",
            "            Linear-2                   [-1, 50]           6,050\n",
            "================================================================\n",
            "Total params: 1,112,090\n",
            "Trainable params: 1,112,090\n",
            "Non-trainable params: 0\n",
            "----------------------------------------------------------------\n",
            "Input size (MB): 0.04\n",
            "Forward/backward pass size (MB): 0.00\n",
            "Params size (MB): 4.24\n",
            "Estimated Total Size (MB): 4.28\n",
            "----------------------------------------------------------------\n"
          ],
          "name": "stdout"
        }
      ]
    },
    {
      "cell_type": "code",
      "metadata": {
        "id": "KGVOHVZQ6JJO",
        "colab_type": "code",
        "colab": {}
      },
      "source": [
        "def get_model_name(name, batch_size, learning_rate, epoch):\n",
        "    path = \"model_{0}_bs{1}_lr{2}_epoch{3}\".format(name,\n",
        "                                                   batch_size,\n",
        "                                                   learning_rate,\n",
        "                                                   epoch)\n",
        "    return path\n",
        "\n",
        "def evaluate(model, loader, criterion):\n",
        "  total_loss = 0.0\n",
        "  correct = 0\n",
        "  total = 0\n",
        "  with torch.no_grad():\n",
        "    for i, data in enumerate(loader, 0):\n",
        "      imgs, labels = data\n",
        "      if use_cuda and torch.cuda.is_available():\n",
        "        imgs = imgs.cuda()\n",
        "        labels = labels.cuda()\n",
        "      output = model(imgs)\n",
        "\n",
        "      # select index with maximum prediction score\n",
        "      pred = output.max(1, keepdim = True)[1]\n",
        "      correct += pred.eq(labels.view_as(pred)).sum().item()\n",
        "      total += imgs.shape[0]\n",
        "      total_loss += criterion(output, labels).item()\n",
        "  return 1 - correct/total, total_loss\n",
        "\n",
        "def plot_training_curve(path):\n",
        "  \"\"\" Plots the training curve for a model run, given the csv files\n",
        "  containing the train/validation error/loss.\n",
        "\n",
        "  Args:\n",
        "      path: The base path of the csv files produced during training\n",
        "  \"\"\"\n",
        "  import matplotlib.pyplot as plt\n",
        "  train_err = np.loadtxt(\"{}_train_err.csv\".format(path))\n",
        "  val_err = np.loadtxt(\"{}_val_err.csv\".format(path))\n",
        "  train_loss = np.loadtxt(\"{}_train_loss.csv\".format(path))\n",
        "  val_loss = np.loadtxt(\"{}_val_loss.csv\".format(path))\n",
        "  plt.title(\"Train vs Validation Error\")\n",
        "  n = len(train_err) # number of epochs\n",
        "  plt.plot(range(1,n+1), train_err, label=\"Train\")\n",
        "  plt.plot(range(1,n+1), val_err, label=\"Validation\")\n",
        "  plt.xlabel(\"Epoch\")\n",
        "  plt.ylabel(\"Error\")\n",
        "  plt.legend(loc='best')\n",
        "  plt.show()\n",
        "  plt.title(\"Train vs Validation Loss\")\n",
        "  plt.plot(range(1,n+1), train_loss, label=\"Train\")\n",
        "  plt.plot(range(1,n+1), val_loss, label=\"Validation\")\n",
        "  plt.xlabel(\"Epoch\")\n",
        "  plt.ylabel(\"Loss\")\n",
        "  plt.legend(loc='best')\n",
        "  plt.show()"
      ],
      "execution_count": 46,
      "outputs": []
    },
    {
      "cell_type": "code",
      "metadata": {
        "id": "QTGnnXfPyrMf",
        "colab_type": "code",
        "colab": {}
      },
      "source": [
        "def transfer_train(model, batch_size = 32, num_epochs = 10, lr = 0.003):\n",
        "  torch.manual_seed(360)\n",
        "\n",
        "  train_loader, val_loader, test_loader = feature_loader(feature_root_path, 0.6, 0.2, 32)\n",
        "\n",
        "  # Initialize containers for error and loss\n",
        "  train_err, train_loss, val_err, val_loss = [], [], [], []\n",
        "\n",
        "  # set up optimizer\n",
        "  criterion = nn.CrossEntropyLoss()\n",
        "  optimizer = optim.Adam(model.parameters(), lr = lr)\n",
        "\n",
        "  start_time = time.time()\n",
        "\n",
        "  for epoch in range(num_epochs):\n",
        "    epoch_total = 0\n",
        "    epoch_correct = 0\n",
        "    epoch_loss = 0\n",
        "\n",
        "    for feature, labels in iter(train_loader):\n",
        "\n",
        "      # Enable GPU\n",
        "      if use_cuda and torch.cuda.is_available():\n",
        "        feature = feature.cuda()\n",
        "        labels = labels.cuda()\n",
        "      \n",
        "      # zero parameter gradients\n",
        "      optimizer.zero_grad()\n",
        "\n",
        "      # forward pass, backward pass, and optimize\n",
        "      out = model(feature)\n",
        "      loss = criterion(out, labels)\n",
        "      loss.backward()\n",
        "      optimizer.step()\n",
        "      \n",
        "      # mini batch statistics\n",
        "      pred = out.max(1, keepdim = True)[1]\n",
        "      epoch_correct += pred.eq(labels.view_as(pred)).sum().item()\n",
        "      epoch_total += feature.shape[0]\n",
        "      epoch_loss += loss.item()\n",
        "    train_err.append(1 - (epoch_correct / epoch_total))\n",
        "    train_loss.append(epoch_loss)\n",
        "    a, b = evaluate(model, val_loader, criterion)\n",
        "    val_err.append(a)\n",
        "    val_loss.append(b)\n",
        "    \n",
        "    print (\"Epoch %d Finished. \" % epoch ,\"Time per Epoch: % 6.2f s \"% ((time.time()-start_time) / (epoch +1)))\n",
        "    print (\"train err: {:.4f}, train loss: {:.4f}\".format(train_err[epoch], train_loss[epoch]))\n",
        "    print (\"validation err: {:.4f}, validation loss: {:.4f}\".format(a, b))\n",
        "\n",
        "    # save the current model state\n",
        "    model_path = get_model_name(model.name, batch_size, lr, epoch)\n",
        "    torch.save(model.state_dict(), model_path)\n",
        "  \n",
        "  print('Finished training in %6.2f s' % (time.time()-start_time))\n",
        "  np.savetxt(\"{}_train_err.csv\".format(model_path), train_err)\n",
        "  np.savetxt(\"{}_train_loss.csv\".format(model_path), train_loss)\n",
        "  np.savetxt(\"{}_val_err.csv\".format(model_path), val_err)\n",
        "  np.savetxt(\"{}_val_loss.csv\".format(model_path), val_loss)\n"
      ],
      "execution_count": 20,
      "outputs": []
    },
    {
      "cell_type": "code",
      "metadata": {
        "id": "6nbEyRLi75uu",
        "colab_type": "code",
        "colab": {}
      },
      "source": [
        "torch.cuda.empty_cache()"
      ],
      "execution_count": 40,
      "outputs": []
    },
    {
      "cell_type": "code",
      "metadata": {
        "id": "lPJskI8AyvPm",
        "colab_type": "code",
        "colab": {
          "base_uri": "https://localhost:8080/",
          "height": 1000
        },
        "outputId": "794d26ad-1b3d-429f-a637-bc61b74cf31f"
      },
      "source": [
        "# training with the initial set up\n",
        "use_cuda = False\n",
        "tNet = TransferLearningNet()\n",
        "transfer_train(tNet, batch_size=32, num_epochs=30, lr=0.0005)"
      ],
      "execution_count": 45,
      "outputs": [
        {
          "output_type": "stream",
          "text": [
            "Epoch 0 Finished.  Time per Epoch:  14.32 s \n",
            "train err: 0.5113, train loss: 1268.8486\n",
            "validation err: 0.3528, validation loss: 271.5240\n",
            "Epoch 1 Finished.  Time per Epoch:  14.24 s \n",
            "train err: 0.2958, train loss: 670.3000\n",
            "validation err: 0.2924, validation loss: 215.6308\n",
            "Epoch 2 Finished.  Time per Epoch:  14.25 s \n",
            "train err: 0.2260, train loss: 509.0903\n",
            "validation err: 0.2660, validation loss: 194.7553\n",
            "Epoch 3 Finished.  Time per Epoch:  14.27 s \n",
            "train err: 0.1882, train loss: 418.3469\n",
            "validation err: 0.2485, validation loss: 176.1109\n",
            "Epoch 4 Finished.  Time per Epoch:  14.25 s \n",
            "train err: 0.1585, train loss: 350.3568\n",
            "validation err: 0.2504, validation loss: 179.2194\n",
            "Epoch 5 Finished.  Time per Epoch:  14.23 s \n",
            "train err: 0.1362, train loss: 304.8135\n",
            "validation err: 0.2255, validation loss: 163.2128\n",
            "Epoch 6 Finished.  Time per Epoch:  14.17 s \n",
            "train err: 0.1197, train loss: 266.5183\n",
            "validation err: 0.2254, validation loss: 165.3238\n",
            "Epoch 7 Finished.  Time per Epoch:  14.14 s \n",
            "train err: 0.1018, train loss: 227.1328\n",
            "validation err: 0.2258, validation loss: 169.4184\n",
            "Epoch 8 Finished.  Time per Epoch:  14.11 s \n",
            "train err: 0.0917, train loss: 204.0109\n",
            "validation err: 0.1980, validation loss: 146.2358\n",
            "Epoch 9 Finished.  Time per Epoch:  14.08 s \n",
            "train err: 0.0766, train loss: 173.9576\n",
            "validation err: 0.2336, validation loss: 180.7021\n",
            "Epoch 10 Finished.  Time per Epoch:  14.04 s \n",
            "train err: 0.0709, train loss: 157.5420\n",
            "validation err: 0.2024, validation loss: 156.9903\n",
            "Epoch 11 Finished.  Time per Epoch:  14.00 s \n",
            "train err: 0.0573, train loss: 133.2734\n",
            "validation err: 0.1999, validation loss: 157.6610\n",
            "Epoch 12 Finished.  Time per Epoch:  13.95 s \n",
            "train err: 0.0548, train loss: 124.1954\n",
            "validation err: 0.1963, validation loss: 157.4711\n",
            "Epoch 13 Finished.  Time per Epoch:  13.92 s \n",
            "train err: 0.0495, train loss: 112.0559\n",
            "validation err: 0.2121, validation loss: 172.9520\n",
            "Epoch 14 Finished.  Time per Epoch:  13.90 s \n",
            "train err: 0.0460, train loss: 101.7344\n",
            "validation err: 0.2065, validation loss: 167.2624\n",
            "Epoch 15 Finished.  Time per Epoch:  13.87 s \n",
            "train err: 0.0417, train loss: 93.0386\n",
            "validation err: 0.2073, validation loss: 182.1852\n",
            "Epoch 16 Finished.  Time per Epoch:  13.84 s \n",
            "train err: 0.0334, train loss: 80.7175\n",
            "validation err: 0.2003, validation loss: 176.5830\n",
            "Epoch 17 Finished.  Time per Epoch:  13.81 s \n",
            "train err: 0.0314, train loss: 73.5317\n",
            "validation err: 0.1967, validation loss: 184.4144\n",
            "Epoch 18 Finished.  Time per Epoch:  13.80 s \n",
            "train err: 0.0302, train loss: 71.4745\n",
            "validation err: 0.2080, validation loss: 191.2007\n",
            "Epoch 19 Finished.  Time per Epoch:  13.80 s \n",
            "train err: 0.0302, train loss: 70.8905\n",
            "validation err: 0.2159, validation loss: 207.6235\n",
            "Epoch 20 Finished.  Time per Epoch:  13.79 s \n",
            "train err: 0.0256, train loss: 58.8887\n",
            "validation err: 0.2064, validation loss: 205.6834\n",
            "Epoch 21 Finished.  Time per Epoch:  13.78 s \n",
            "train err: 0.0224, train loss: 51.5422\n",
            "validation err: 0.2049, validation loss: 206.6679\n",
            "Epoch 22 Finished.  Time per Epoch:  13.77 s \n",
            "train err: 0.0254, train loss: 58.5868\n",
            "validation err: 0.2077, validation loss: 214.3607\n",
            "Epoch 23 Finished.  Time per Epoch:  13.76 s \n",
            "train err: 0.0204, train loss: 47.9308\n",
            "validation err: 0.2095, validation loss: 222.1274\n",
            "Epoch 24 Finished.  Time per Epoch:  13.74 s \n",
            "train err: 0.0303, train loss: 67.5778\n",
            "validation err: 0.2007, validation loss: 211.1350\n",
            "Epoch 25 Finished.  Time per Epoch:  13.73 s \n",
            "train err: 0.0127, train loss: 32.6719\n",
            "validation err: 0.2117, validation loss: 237.2393\n",
            "Epoch 26 Finished.  Time per Epoch:  13.72 s \n",
            "train err: 0.0174, train loss: 40.6127\n",
            "validation err: 0.2016, validation loss: 216.5192\n",
            "Epoch 27 Finished.  Time per Epoch:  13.71 s \n",
            "train err: 0.0190, train loss: 44.3487\n",
            "validation err: 0.2159, validation loss: 252.0151\n",
            "Epoch 28 Finished.  Time per Epoch:  13.69 s \n",
            "train err: 0.0174, train loss: 40.7262\n",
            "validation err: 0.2107, validation loss: 238.0572\n",
            "Epoch 29 Finished.  Time per Epoch:  13.68 s \n",
            "train err: 0.0172, train loss: 38.6516\n",
            "validation err: 0.1986, validation loss: 236.6114\n",
            "Finished training in 410.39 s\n"
          ],
          "name": "stdout"
        }
      ]
    },
    {
      "cell_type": "code",
      "metadata": {
        "id": "gantJj6p_JSY",
        "colab_type": "code",
        "colab": {
          "base_uri": "https://localhost:8080/",
          "height": 573
        },
        "outputId": "d3303b6e-a813-4a2a-c59b-ebcbbabfbfaa"
      },
      "source": [
        "plot_training_curve(get_model_name(tNet.name, 32, 0.003, 29))"
      ],
      "execution_count": 42,
      "outputs": [
        {
          "output_type": "display_data",
          "data": {
            "image/png": "[encoded data removed]",
            "text/plain": [
              "<Figure size 432x288 with 1 Axes>"
            ]
          },
          "metadata": {
            "tags": [],
            "needs_background": "light"
          }
        },
        {
          "output_type": "display_data",
          "data": {
            "image/png": "[encoded data removed]",
            "text/plain": [
              "<Figure size 432x288 with 1 Axes>"
            ]
          },
          "metadata": {
            "tags": [],
            "needs_background": "light"
          }
        }
      ]
    },
    {
      "cell_type": "code",
      "metadata": {
        "id": "qKfZyQwrBM0R",
        "colab_type": "code",
        "colab": {
          "base_uri": "https://localhost:8080/",
          "height": 573
        },
        "outputId": "0f9c1b61-d574-4250-b776-c003457cbbce"
      },
      "source": [
        "plot_training_curve(get_model_name(tNet.name, 32, 0.0015, 29))"
      ],
      "execution_count": 44,
      "outputs": [
        {
          "output_type": "display_data",
          "data": {
            "image/png": "[encoded data removed]",
            "text/plain": [
              "<Figure size 432x288 with 1 Axes>"
            ]
          },
          "metadata": {
            "tags": [],
            "needs_background": "light"
          }
        },
        {
          "output_type": "display_data",
          "data": {
            "image/png": "[encoded data removed]",
            "text/plain": [
              "<Figure size 432x288 with 1 Axes>"
            ]
          },
          "metadata": {
            "tags": [],
            "needs_background": "light"
          }
        }
      ]
    },
    {
      "cell_type": "code",
      "metadata": {
        "id": "ZbAQJSWFDRGw",
        "colab_type": "code",
        "colab": {
          "base_uri": "https://localhost:8080/",
          "height": 573
        },
        "outputId": "babe1c17-cb9d-42dc-9a14-670ac7cc9f90"
      },
      "source": [
        "plot_training_curve(get_model_name(tNet.name, 32, 0.0005, 29))"
      ],
      "execution_count": 46,
      "outputs": [
        {
          "output_type": "display_data",
          "data": {
            "image/png": "[encoded data removed]",
            "text/plain": [
              "<Figure size 432x288 with 1 Axes>"
            ]
          },
          "metadata": {
            "tags": [],
            "needs_background": "light"
          }
        },
        {
          "output_type": "display_data",
          "data": {
            "image/png": "[encoded data removed]",
            "text/plain": [
              "<Figure size 432x288 with 1 Axes>"
            ]
          },
          "metadata": {
            "tags": [],
            "needs_background": "light"
          }
        }
      ]
    },
    {
      "cell_type": "markdown",
      "metadata": {
        "id": "5QAGtF7HQNvD",
        "colab_type": "text"
      },
      "source": [
        "# Known Kernels"
      ]
    },
    {
      "cell_type": "code",
      "metadata": {
        "id": "3Zvhj6v7QRNq",
        "colab_type": "code",
        "colab": {
          "base_uri": "https://localhost:8080/",
          "height": 416
        },
        "outputId": "c6536020-49b4-4380-e980-c0f30dab9442"
      },
      "source": [
        "weights = torch.tensor([[[3., 10., 3.],\n",
        "                        [0., 0., 0.],\n",
        "                        [-3., -10., -3.]],\n",
        "                        [[-3., -10., -3.],\n",
        "                        [0., 1., 0.],\n",
        "                        [3., 10., 3.]],\n",
        "                        [[-3., 0., 3.],\n",
        "                        [-10., 0., 10.],\n",
        "                        [-3., 0., 3.]],\n",
        "                        [[3., 0., -3.],\n",
        "                        [10., 0., -10.],\n",
        "                        [3., 0., -3.]],\n",
        "                        [[-2., -1., 0.],\n",
        "                        [-1., 1., 1.],\n",
        "                        [0., 1., 2.]],\n",
        "                        ])\n",
        "weights = weights.view(5, 1, 3, 3).repeat(1, 1, 1, 1)\n",
        "weights"
      ],
      "execution_count": 21,
      "outputs": [
        {
          "output_type": "execute_result",
          "data": {
            "text/plain": [
              "tensor([[[[  3.,  10.,   3.],\n",
              "          [  0.,   0.,   0.],\n",
              "          [ -3., -10.,  -3.]]],\n",
              "\n",
              "\n",
              "        [[[ -3., -10.,  -3.],\n",
              "          [  0.,   1.,   0.],\n",
              "          [  3.,  10.,   3.]]],\n",
              "\n",
              "\n",
              "        [[[ -3.,   0.,   3.],\n",
              "          [-10.,   0.,  10.],\n",
              "          [ -3.,   0.,   3.]]],\n",
              "\n",
              "\n",
              "        [[[  3.,   0.,  -3.],\n",
              "          [ 10.,   0., -10.],\n",
              "          [  3.,   0.,  -3.]]],\n",
              "\n",
              "\n",
              "        [[[ -2.,  -1.,   0.],\n",
              "          [ -1.,   1.,   1.],\n",
              "          [  0.,   1.,   2.]]]])"
            ]
          },
          "metadata": {
            "tags": []
          },
          "execution_count": 21
        }
      ]
    },
    {
      "cell_type": "code",
      "metadata": {
        "id": "wTo3Uaid9UzI",
        "colab_type": "code",
        "colab": {}
      },
      "source": [
        "\n",
        "class ImageFilterCNN(nn.Module):\n",
        "  def __init__(self):\n",
        "    super(ImageFilterCNN, self).__init__()\n",
        "    self.name = \"FilterNet\"\n",
        "    self.conv1 = nn.Conv2d(5, 8, 5) #in_channels, out_channels, kernel_size\n",
        "    self.conv2 = nn.Conv2d(8, 10, 5) #in_channels, out_channels, kernel_size\n",
        "    self.conv3 = nn.Conv2d(10, 16, 3, 2) #in_channels, out_channels, kernel_size, stride\n",
        "    self.pool = nn.MaxPool2d(2, 2) #kernel_size, stride \n",
        "\n",
        "    self.fc1 = nn.Linear(2304, 120)\n",
        "    self.fc2 = nn.Linear(120, 50)\n",
        "  \n",
        "  def forward(self, x):\n",
        "    x = self.pool(F.relu(self.conv1(x)))\n",
        "    x = self.pool(F.relu(self.conv2(x)))\n",
        "    x = self.pool(F.relu(self.conv3(x)))\n",
        "    x = x.view(-1, 2304)\n",
        "    x = F.relu(self.fc1(x))\n",
        "    x = self.fc2(x)\n",
        "    return x\n",
        "\n",
        "tNet = ImageFilterCNN()\n",
        "# summary(tNet, (1,224,224), device='cpu')"
      ],
      "execution_count": 40,
      "outputs": []
    },
    {
      "cell_type": "code",
      "metadata": {
        "id": "R_izJ4ik_9Cx",
        "colab_type": "code",
        "colab": {}
      },
      "source": [
        "# Transform Settings - resize all images to 224 x 224\n",
        "data_transform = transforms.Compose([transforms.Grayscale(num_output_channels=1),\n",
        "                                     transforms.Resize((224,224)), \n",
        "                                      transforms.ToTensor()])\n",
        "\n",
        "# define dataloader parameters\n",
        "num_workers = 4\n",
        "batch_size = 32\n",
        "\n",
        "# get dataset\n",
        "image_set = datasets.ImageFolder(os.path.expanduser('~/data/separate_dataset'), transform=data_transform)\n"
      ],
      "execution_count": 6,
      "outputs": []
    },
    {
      "cell_type": "code",
      "metadata": {
        "id": "sRQmTOSyB6rs",
        "colab_type": "code",
        "colab": {}
      },
      "source": [
        "# function to load features\n",
        "def image_loader(dataset, train_p, val_p, batch_size = 32):\n",
        "  split = [int(train_p * len(dataset)), int(val_p * len(dataset))]\n",
        "  split.append(len(dataset) - split[1] - split[0])\n",
        "\n",
        "  train_set, val_set, test_set = torch.utils.data.random_split(dataset, split)\n",
        "  num_workers = 4\n",
        "\n",
        "  train_loader = torch.utils.data.DataLoader(train_set, batch_size=batch_size,\n",
        "                                             num_workers = num_workers, shuffle = True)\n",
        "  val_loader = torch.utils.data.DataLoader(val_set, batch_size=batch_size,\n",
        "                                             num_workers = num_workers, shuffle = True)\n",
        "  test_loader = torch.utils.data.DataLoader(test_set, batch_size=batch_size,\n",
        "                                             num_workers = num_workers, shuffle = True)\n",
        "  return train_loader, val_loader, test_loader"
      ],
      "execution_count": 7,
      "outputs": []
    },
    {
      "cell_type": "code",
      "metadata": {
        "id": "5A_1AC6U9IPH",
        "colab_type": "code",
        "colab": {
          "base_uri": "https://localhost:8080/",
          "height": 72
        },
        "outputId": "e95ec5ef-048e-49fe-98bf-fe11ad1e6528"
      },
      "source": [
        "print(image_set.class_to_idx)\n",
        "classes = os.listdir(os.path.expanduser('~/data/separate_dataset'))\n",
        "classes.sort()\n",
        "classes = classes[1:]\n",
        "print(classes)"
      ],
      "execution_count": 8,
      "outputs": [
        {
          "output_type": "stream",
          "text": [
            "{'14719': 0, '15672': 1, '18654': 2, '2357': 3, '2420': 4, '2780': 5, '27925': 6, '3001': 7, '3002': 8, '3003': 9, '3004': 10, '3005': 11, '3010': 12, '3020': 13, '3021': 14, '3022': 15, '3023': 16, '3024': 17, '3037': 18, '3038': 19, '3039': 20, '3040': 21, '3045': 22, '3046': 23, '3062': 24, '3063': 25, '3068': 26, '3069': 27, '3070': 28, '3298': 29, '33909': 30, '3622': 31, '3623': 32, '3659': 33, '3675': 34, '3700': 35, '3794': 36, '4150': 37, '41677': 38, '41678': 39, '4274': 40, '4286': 41, '43093': 42, '43857': 43, '4490': 44, '54200': 45, '6143': 46, '6632': 47, '85984': 48, '99301': 49}\n",
            "['14719', '15672', '18654', '2357', '2420', '2780', '27925', '3001', '3002', '3003', '3004', '3005', '3010', '3020', '3021', '3022', '3023', '3024', '3037', '3038', '3039', '3040', '3045', '3046', '3062', '3063', '3068', '3069', '3070', '3298', '33909', '3622', '3623', '3659', '3675', '3700', '3794', '4150', '41677', '41678', '4274', '4286', '43093', '43857', '4490', '54200', '6143', '6632', '85984', '99301']\n"
          ],
          "name": "stdout"
        }
      ]
    },
    {
      "cell_type": "code",
      "metadata": {
        "id": "UuErf7hTOdrX",
        "colab_type": "code",
        "colab": {}
      },
      "source": [
        "def get_model_name(name, batch_size, learning_rate, epoch):\n",
        "    path = \"model_{0}_bs{1}_lr{2}_epoch{3}\".format(name,\n",
        "                                                   batch_size,\n",
        "                                                   learning_rate,\n",
        "                                                   epoch)\n",
        "    return path\n",
        "\n",
        "def evaluate(model, loader, criterion):\n",
        "  total_loss = 0.0\n",
        "  correct = 0\n",
        "  total = 0\n",
        "  with torch.no_grad():\n",
        "    for i, data in enumerate(loader, 0):\n",
        "      imgs, labels = data\n",
        "      if use_cuda and torch.cuda.is_available():\n",
        "        imgs = imgs.cuda()\n",
        "        labels = labels.cuda()\n",
        "      weight = weights.view(5,1,3,3).repeat(batch_size, 1, 1, 1)\n",
        "      imgs = F.conv2d(imgs, weights) \n",
        "      output = model(imgs)\n",
        "\n",
        "      # select index with maximum prediction score\n",
        "      pred = output.max(1, keepdim = True)[1]\n",
        "      correct += pred.eq(labels.view_as(pred)).sum().item()\n",
        "      total += imgs.shape[0]\n",
        "      total_loss += criterion(output, labels).item()\n",
        "  return 1 - correct/total, total_loss\n",
        "\n",
        "def plot_training_curve(path):\n",
        "  \"\"\" Plots the training curve for a model run, given the csv files\n",
        "  containing the train/validation error/loss.\n",
        "\n",
        "  Args:\n",
        "      path: The base path of the csv files produced during training\n",
        "  \"\"\"\n",
        "  import matplotlib.pyplot as plt\n",
        "  train_err = np.loadtxt(\"{}_train_err.csv\".format(path))\n",
        "  val_err = np.loadtxt(\"{}_val_err.csv\".format(path))\n",
        "  train_loss = np.loadtxt(\"{}_train_loss.csv\".format(path))\n",
        "  val_loss = np.loadtxt(\"{}_val_loss.csv\".format(path))\n",
        "  plt.title(\"Train vs Validation Error\")\n",
        "  n = len(train_err) # number of epochs\n",
        "  plt.plot(range(1,n+1), train_err, label=\"Train\")\n",
        "  plt.plot(range(1,n+1), val_err, label=\"Validation\")\n",
        "  plt.xlabel(\"Epoch\")\n",
        "  plt.ylabel(\"Error\")\n",
        "  plt.legend(loc='best')\n",
        "  plt.show()\n",
        "  plt.title(\"Train vs Validation Loss\")\n",
        "  plt.plot(range(1,n+1), train_loss, label=\"Train\")\n",
        "  plt.plot(range(1,n+1), val_loss, label=\"Validation\")\n",
        "  plt.xlabel(\"Epoch\")\n",
        "  plt.ylabel(\"Loss\")\n",
        "  plt.legend(loc='best')\n",
        "  plt.show()"
      ],
      "execution_count": 52,
      "outputs": []
    },
    {
      "cell_type": "code",
      "metadata": {
        "id": "7VfoLYu_A-d9",
        "colab_type": "code",
        "colab": {}
      },
      "source": [
        "def filter_train(model, batch_size = 32, num_epochs = 10, lr = 0.003):\n",
        "  torch.manual_seed(360)\n",
        "  train_loader, val_loader, test_loader = image_loader(image_set, 0.6, 0.2, batch_size)\n",
        "\n",
        "  # Initialize containers for error and loss\n",
        "  train_err, train_loss, val_err, val_loss = [], [], [], []\n",
        "\n",
        "  # set up optimizer\n",
        "  criterion = nn.CrossEntropyLoss()\n",
        "  optimizer = optim.Adam(model.parameters(), lr = lr)\n",
        "\n",
        "  start_time = time.time()\n",
        "\n",
        "  for epoch in range(num_epochs):\n",
        "    epoch_total = 0\n",
        "    epoch_correct = 0\n",
        "    epoch_loss = 0\n",
        "\n",
        "    for data, labels in iter(train_loader):\n",
        "\n",
        "      # Enable GPU\n",
        "      if use_cuda and torch.cuda.is_available():\n",
        "        data = data.cuda()\n",
        "        labels = labels.cuda()\n",
        "      \n",
        "      # zero parameter gradients\n",
        "      optimizer.zero_grad()\n",
        "\n",
        "      # forward pass, backward pass, and optimize\n",
        "      weight = weights.view(1,5,3,3).repeat(batch_size, 1, 1, 1)\n",
        "      data = F.conv2d(data, weights)\n",
        "      out = model(data)\n",
        "      loss = criterion(out, labels)\n",
        "      loss.backward()\n",
        "      optimizer.step()\n",
        "      \n",
        "      # mini batch statistics\n",
        "      pred = out.max(1, keepdim = True)[1]\n",
        "      epoch_correct += pred.eq(labels.view_as(pred)).sum().item()\n",
        "      epoch_total += data.shape[0]\n",
        "      epoch_loss += loss.item()\n",
        "    train_err.append(1 - (epoch_correct / epoch_total))\n",
        "    train_loss.append(epoch_loss)\n",
        "    a, b = evaluate(model, val_loader, criterion)\n",
        "    val_err.append(a)\n",
        "    val_loss.append(b)\n",
        "    \n",
        "    print (\"Epoch %d Finished. \" % epoch ,\"Time per Epoch: % 6.2f s \"% ((time.time()-start_time) / (epoch +1)))\n",
        "    print (\"train err: {:.4f}, train loss: {:.4f}\".format(train_err[epoch], train_loss[epoch]))\n",
        "    print (\"validation err: {:.4f}, validation loss: {:.4f}\".format(a, b))\n",
        "\n",
        "    # save the current model state\n",
        "    model_path = get_model_name(model.name, batch_size, lr, epoch)\n",
        "    torch.save(model.state_dict(), model_path)\n",
        "  \n",
        "  print('Finished training in %6.2f s' % (time.time()-start_time))\n",
        "  np.savetxt(\"{}_train_err.csv\".format(model_path), train_err)\n",
        "  np.savetxt(\"{}_train_loss.csv\".format(model_path), train_loss)\n",
        "  np.savetxt(\"{}_val_err.csv\".format(model_path), val_err)\n",
        "  np.savetxt(\"{}_val_loss.csv\".format(model_path), val_loss)\n"
      ],
      "execution_count": 48,
      "outputs": []
    },
    {
      "cell_type": "code",
      "metadata": {
        "id": "odwDus8BA2Ni",
        "colab_type": "code",
        "colab": {
          "base_uri": "https://localhost:8080/",
          "height": 1000
        },
        "outputId": "5184ecb8-1757-4a63-f189-f3bc0ec07b1b"
      },
      "source": [
        "# training with the initial set up\n",
        "use_cuda = False\n",
        "fNet1 = ImageFilterCNN()\n",
        "filter_train(fNet1, batch_size=32, num_epochs=30, lr=0.0005)"
      ],
      "execution_count": 53,
      "outputs": [
        {
          "output_type": "stream",
          "text": [
            "Epoch 0 Finished.  Time per Epoch:  594.95 s \n",
            "train err: 0.7152, train loss: 1755.1611\n",
            "validation err: 0.6139, validation loss: 483.3541\n",
            "Epoch 1 Finished.  Time per Epoch:  593.91 s \n",
            "train err: 0.5256, train loss: 1229.7636\n",
            "validation err: 0.5232, validation loss: 403.3026\n",
            "Epoch 2 Finished.  Time per Epoch:  593.75 s \n",
            "train err: 0.4197, train loss: 961.4780\n",
            "validation err: 0.4553, validation loss: 349.9777\n",
            "Epoch 3 Finished.  Time per Epoch:  594.01 s \n",
            "train err: 0.3409, train loss: 773.2966\n",
            "validation err: 0.4340, validation loss: 339.0386\n",
            "Epoch 4 Finished.  Time per Epoch:  593.77 s \n",
            "train err: 0.2841, train loss: 635.7643\n",
            "validation err: 0.4224, validation loss: 337.6139\n",
            "Epoch 5 Finished.  Time per Epoch:  593.86 s \n",
            "train err: 0.2361, train loss: 526.4711\n",
            "validation err: 0.4010, validation loss: 321.6245\n",
            "Epoch 6 Finished.  Time per Epoch:  593.89 s \n",
            "train err: 0.2003, train loss: 439.6393\n",
            "validation err: 0.3872, validation loss: 336.0486\n",
            "Epoch 7 Finished.  Time per Epoch:  594.21 s \n",
            "train err: 0.1677, train loss: 365.1031\n",
            "validation err: 0.3918, validation loss: 362.8126\n",
            "Epoch 8 Finished.  Time per Epoch:  594.00 s \n",
            "train err: 0.1451, train loss: 314.6007\n",
            "validation err: 0.3862, validation loss: 375.1005\n",
            "Epoch 9 Finished.  Time per Epoch:  593.66 s \n",
            "train err: 0.1212, train loss: 265.8772\n",
            "validation err: 0.3821, validation loss: 380.5033\n",
            "Epoch 10 Finished.  Time per Epoch:  593.49 s \n",
            "train err: 0.1076, train loss: 231.1888\n",
            "validation err: 0.3806, validation loss: 434.2937\n",
            "Epoch 11 Finished.  Time per Epoch:  593.35 s \n",
            "train err: 0.0927, train loss: 195.7352\n",
            "validation err: 0.3934, validation loss: 468.4490\n",
            "Epoch 12 Finished.  Time per Epoch:  593.33 s \n",
            "train err: 0.0843, train loss: 177.4734\n",
            "validation err: 0.3881, validation loss: 496.8358\n",
            "Epoch 13 Finished.  Time per Epoch:  593.17 s \n",
            "train err: 0.0716, train loss: 154.3308\n",
            "validation err: 0.3912, validation loss: 529.6240\n",
            "Epoch 14 Finished.  Time per Epoch:  593.06 s \n",
            "train err: 0.0689, train loss: 147.4463\n",
            "validation err: 0.3754, validation loss: 527.4317\n",
            "Epoch 15 Finished.  Time per Epoch:  593.23 s \n",
            "train err: 0.0571, train loss: 123.6816\n",
            "validation err: 0.3820, validation loss: 583.2417\n",
            "Epoch 16 Finished.  Time per Epoch:  593.40 s \n",
            "train err: 0.0563, train loss: 117.3240\n",
            "validation err: 0.3908, validation loss: 615.7620\n",
            "Epoch 17 Finished.  Time per Epoch:  593.44 s \n",
            "train err: 0.0523, train loss: 112.9577\n",
            "validation err: 0.3864, validation loss: 601.9944\n",
            "Epoch 18 Finished.  Time per Epoch:  593.90 s \n",
            "train err: 0.0547, train loss: 114.6517\n",
            "validation err: 0.3846, validation loss: 632.9423\n",
            "Epoch 19 Finished.  Time per Epoch:  594.18 s \n",
            "train err: 0.0417, train loss: 89.1023\n",
            "validation err: 0.3751, validation loss: 630.0662\n",
            "Epoch 20 Finished.  Time per Epoch:  594.20 s \n",
            "train err: 0.0423, train loss: 91.7319\n",
            "validation err: 0.3834, validation loss: 632.1263\n",
            "Epoch 21 Finished.  Time per Epoch:  594.27 s \n",
            "train err: 0.0370, train loss: 81.2476\n",
            "validation err: 0.3790, validation loss: 698.4832\n",
            "Epoch 22 Finished.  Time per Epoch:  594.40 s \n",
            "train err: 0.0420, train loss: 90.5244\n",
            "validation err: 0.3995, validation loss: 738.5607\n",
            "Epoch 23 Finished.  Time per Epoch:  594.60 s \n",
            "train err: 0.0357, train loss: 78.4453\n",
            "validation err: 0.3801, validation loss: 697.4721\n",
            "Epoch 24 Finished.  Time per Epoch:  594.74 s \n",
            "train err: 0.0359, train loss: 79.3490\n",
            "validation err: 0.3995, validation loss: 771.9437\n",
            "Epoch 25 Finished.  Time per Epoch:  594.82 s \n",
            "train err: 0.0337, train loss: 72.9971\n",
            "validation err: 0.3860, validation loss: 735.3374\n",
            "Epoch 26 Finished.  Time per Epoch:  594.91 s \n",
            "train err: 0.0334, train loss: 74.5546\n",
            "validation err: 0.3934, validation loss: 767.5933\n",
            "Epoch 27 Finished.  Time per Epoch:  594.99 s \n",
            "train err: 0.0308, train loss: 67.9103\n",
            "validation err: 0.3891, validation loss: 785.9844\n",
            "Epoch 28 Finished.  Time per Epoch:  595.02 s \n",
            "train err: 0.0295, train loss: 64.7477\n",
            "validation err: 0.3894, validation loss: 767.1603\n",
            "Epoch 29 Finished.  Time per Epoch:  595.09 s \n",
            "train err: 0.0304, train loss: 67.1160\n",
            "validation err: 0.3926, validation loss: 785.1682\n",
            "Finished training in 17852.66 s\n"
          ],
          "name": "stdout"
        }
      ]
    }
  ]
}