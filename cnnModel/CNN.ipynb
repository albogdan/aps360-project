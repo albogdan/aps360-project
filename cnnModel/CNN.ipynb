{
  "nbformat": 4,
  "nbformat_minor": 0,
  "metadata": {
    "colab": {
      "name": "CNN.ipynb",
      "provenance": [],
      "collapsed_sections": [],
      "authorship_tag": "ABX9TyOj8HlQXZOb3aw468rVNWE4",
      "include_colab_link": true
    },
    "kernelspec": {
      "name": "python3",
      "display_name": "Python 3"
    },
    "accelerator": "GPU"
  },
  "cells": [
    {
      "cell_type": "markdown",
      "metadata": {
        "id": "view-in-github",
        "colab_type": "text"
      },
      "source": [
        "<a href=\"https://colab.research.google.com/github/albogdan/aps360-project/blob/cnn/CNN.ipynb\" target=\"_parent\"><img src=\"https://colab.research.google.com/assets/colab-badge.svg\" alt=\"Open In Colab\"/></a>"
      ]
    },
    {
      "cell_type": "code",
      "metadata": {
        "id": "dciYq7sx-Krg",
        "colab_type": "code",
        "colab": {
          "base_uri": "https://localhost:8080/",
          "height": 35
        },
        "outputId": "11ea9158-e72a-40d9-bd18-79c10ae09fb1"
      },
      "source": [
        "import numpy as np\n",
        "import time\n",
        "import torch\n",
        "import torch.nn as nn\n",
        "import torch.nn.functional as F\n",
        "from torchsummary import summary\n",
        "import torch.optim as optim\n",
        "import torchvision\n",
        "from torch.utils.data.sampler import SubsetRandomSampler\n",
        "import torchvision.transforms as transforms\n",
        "import matplotlib.pyplot as plt\n",
        "import os\n",
        "import shutil\n",
        "torch.manual_seed(42069)"
      ],
      "execution_count": null,
      "outputs": [
        {
          "output_type": "execute_result",
          "data": {
            "text/plain": [
              "<torch._C.Generator at 0x7f851a1ba250>"
            ]
          },
          "metadata": {
            "tags": []
          },
          "execution_count": 1
        }
      ]
    },
    {
      "cell_type": "code",
      "metadata": {
        "id": "gjBgZtNqdU0t",
        "colab_type": "code",
        "colab": {
          "base_uri": "https://localhost:8080/",
          "height": 127
        },
        "outputId": "5de34946-c300-44a8-fd42-d804f94e3d50"
      },
      "source": [
        "#mount googledrive\n",
        "from google.colab import drive\n",
        "drive.mount('/content/gdrive')"
      ],
      "execution_count": null,
      "outputs": [
        {
          "output_type": "stream",
          "text": [
            "Go to this URL in a browser: https://accounts.google.com/o/oauth2/auth?client_id=947318989803-6bn6qk8qdgf4n4g3pfee6491hc0brc4i.apps.googleusercontent.com&redirect_uri=urn%3aietf%3awg%3aoauth%3a2.0%3aoob&response_type=code&scope=email%20https%3a%2f%2fwww.googleapis.com%2fauth%2fdocs.test%20https%3a%2f%2fwww.googleapis.com%2fauth%2fdrive%20https%3a%2f%2fwww.googleapis.com%2fauth%2fdrive.photos.readonly%20https%3a%2f%2fwww.googleapis.com%2fauth%2fpeopleapi.readonly\n",
            "\n",
            "Enter your authorization code:\n",
            "··········\n",
            "Mounted at /content/gdrive\n"
          ],
          "name": "stdout"
        }
      ]
    },
    {
      "cell_type": "code",
      "metadata": {
        "id": "NAZT5rD3ddiG",
        "colab_type": "code",
        "colab": {}
      },
      "source": [
        "if os.path.exists(os.path.expanduser('~/data')):\n",
        "    !rm -rf {os.path.expanduser('~/data')}\n",
        "  \n",
        "!unzip '/content/gdrive/My Drive/Skule/!Year 3/S20 - APS360 (Intro to AI)/APS360 Project/kaggle_dataset/separate_dataset.zip' -d {os.path.expanduser('~/data')}"
      ],
      "execution_count": null,
      "outputs": []
    },
    {
      "cell_type": "code",
      "metadata": {
        "id": "qsf7h8azdX6Z",
        "colab_type": "code",
        "colab": {}
      },
      "source": [
        "# location on Google Drive\n",
        "raw_path = '/root/data/separate_dataset'\n",
        "master_path = '/root/data'\n",
        "# Transform Settings - Do not use RandomResizedCrop\n",
        "transform = transforms.Compose([transforms.Resize((224,224)), \n",
        "                                transforms.Grayscale(num_output_channels=1),\n",
        "                                transforms.ToTensor()])\n"
      ],
      "execution_count": null,
      "outputs": []
    },
    {
      "cell_type": "code",
      "metadata": {
        "id": "4uq9cc_Oe86r",
        "colab_type": "code",
        "colab": {}
      },
      "source": [
        "def get_data_loaders(batch_size=32):\n",
        "    dataset = torchvision.datasets.ImageFolder(raw_path, transform=transform)\n",
        "\n",
        "    DATASET_SIZE = len(dataset)\n",
        "\n",
        "    trainset, validset, testset = torch.utils.data.random_split(dataset, [int(0.6*DATASET_SIZE), int(0.2*DATASET_SIZE), int(0.2*DATASET_SIZE)])\n",
        "\n",
        "    num_workers = 4\n",
        "\n",
        "    train_loader = torch.utils.data.DataLoader(trainset, batch_size=batch_size, \n",
        "                                          num_workers=num_workers, shuffle=True)\n",
        "    valid_loader = torch.utils.data.DataLoader(validset, batch_size=batch_size, \n",
        "                                          num_workers=num_workers, shuffle=True)\n",
        "    test_loader = torch.utils.data.DataLoader(testset, batch_size=batch_size, \n",
        "                                          num_workers=num_workers, shuffle=True)\n",
        "    \n",
        "    return train_loader, valid_loader, test_loader\n",
        "    \n",
        "train_loader, valid_loader, test_loader = get_data_loaders(batch_size=32)"
      ],
      "execution_count": null,
      "outputs": []
    },
    {
      "cell_type": "code",
      "metadata": {
        "id": "kP6YCbhyfurP",
        "colab_type": "code",
        "colab": {
          "base_uri": "https://localhost:8080/",
          "height": 242
        },
        "outputId": "415be9d0-3e14-401c-a64b-4318836c7ffc"
      },
      "source": [
        "# Visualization\n",
        "import matplotlib.pyplot as plt\n",
        "\n",
        "k = 0\n",
        "for images, labels in train_loader:\n",
        "    # since batch_size = 1, there is only 1 image in `images`\n",
        "    image = images[0].squeeze(0)\n",
        "    # place the colour channel at the end, instead of at the beginning\n",
        "    #img = np.transpose(image, [1,2,0])\n",
        "    # normalize pixel intensity values to [0, 1]\n",
        "    img = image / 2 + 0.5\n",
        "    plt.subplot(3, 5, k+1)\n",
        "    plt.axis('off')\n",
        "    plt.imshow(img)\n",
        "\n",
        "    k += 1\n",
        "    if k > 14:\n",
        "        break"
      ],
      "execution_count": null,
      "outputs": [
        {
          "output_type": "display_data",
          "data": {
            "image/png": "[encoded data removed]",
            "text/plain": [
              "<Figure size 432x288 with 15 Axes>"
            ]
          },
          "metadata": {
            "tags": [],
            "needs_background": "light"
          }
        }
      ]
    },
    {
      "cell_type": "code",
      "metadata": {
        "id": "2G-v3i_Ofv2C",
        "colab_type": "code",
        "colab": {
          "base_uri": "https://localhost:8080/",
          "height": 755
        },
        "outputId": "5cad2a04-5479-4f28-e99f-a046949e935f"
      },
      "source": [
        "# Model\n",
        "# Try transfer learning with inceptionnet or resnet\n",
        "# Validation acc: 0.6401\n",
        "# class Net(nn.Module):\n",
        "#     def __init__(self):\n",
        "#         super(Net, self).__init__()\n",
        "#         self.name = \"initial\"\n",
        "#         self.conv1 = nn.Conv2d(1, 5, 5, padding=3)\n",
        "#         self.pool = nn.MaxPool2d(2, 2)\n",
        "#         self.conv2 = nn.Conv2d(5, 10, 5, padding=1)\n",
        "#         self.fc1 = nn.Linear(10*55*55,200)\n",
        "#         self.fc2 = nn.Linear(200, 100)\n",
        "#         self.fc3 = nn.Linear(100, 50)\n",
        "\n",
        "#     def forward(self, x):\n",
        "#         x = self.pool(F.leaky_relu(self.conv1(x)))\n",
        "#         x = self.pool(F.leaky_relu(self.conv2(x)))\n",
        "#         x = x.view((-1,10*55*55))\n",
        "#         x = F.leaky_relu(self.fc1(x))\n",
        "#         x = F.leaky_relu(self.fc2(x))\n",
        "#         x = F.leaky_relu(self.fc3(x))\n",
        "#         return x\n",
        "\n",
        "# Validation acc: 0.6670\n",
        "class Net(nn.Module):\n",
        "    def __init__(self):\n",
        "        super(Net, self).__init__()\n",
        "        self.name = \"initial\"\n",
        "        self.conv1 = nn.Conv2d(1, 5, 5, padding=3)\n",
        "        self.pool = nn.MaxPool2d(2, 2)\n",
        "        self.conv2 = nn.Conv2d(5, 10, 5, padding=1)\n",
        "        self.fc1 = nn.Linear(10*55*55,400)\n",
        "        self.fc2 = nn.Linear(400, 200)\n",
        "        self.fc3 = nn.Linear(200, 100)\n",
        "        self.fc4 = nn.Linear(100, 50)\n",
        "\n",
        "    def forward(self, x):\n",
        "        x = self.pool(F.leaky_relu(self.conv1(x)))\n",
        "        x = self.pool(F.leaky_relu(self.conv2(x)))\n",
        "        x = x.view((-1,10*55*55))\n",
        "        x = F.leaky_relu(self.fc1(x))\n",
        "        x = F.leaky_relu(self.fc2(x))\n",
        "        x = F.leaky_relu(self.fc3(x))\n",
        "        x = F.leaky_relu(self.fc4(x))\n",
        "        return x\n",
        "\n",
        "net = Net()\n",
        "summary(net, (1,224,224),device=\"cpu\")\n",
        "\n",
        "!nvidia-smi\n"
      ],
      "execution_count": null,
      "outputs": [
        {
          "output_type": "stream",
          "text": [
            "----------------------------------------------------------------\n",
            "        Layer (type)               Output Shape         Param #\n",
            "================================================================\n",
            "            Conv2d-1          [-1, 5, 226, 226]             130\n",
            "         MaxPool2d-2          [-1, 5, 113, 113]               0\n",
            "            Conv2d-3         [-1, 10, 111, 111]           1,260\n",
            "         MaxPool2d-4           [-1, 10, 55, 55]               0\n",
            "            Linear-5                  [-1, 400]      12,100,400\n",
            "            Linear-6                  [-1, 200]          80,200\n",
            "            Linear-7                  [-1, 100]          20,100\n",
            "            Linear-8                   [-1, 50]           5,050\n",
            "================================================================\n",
            "Total params: 12,207,140\n",
            "Trainable params: 12,207,140\n",
            "Non-trainable params: 0\n",
            "----------------------------------------------------------------\n",
            "Input size (MB): 0.19\n",
            "Forward/backward pass size (MB): 3.61\n",
            "Params size (MB): 46.57\n",
            "Estimated Total Size (MB): 50.37\n",
            "----------------------------------------------------------------\n",
            "Thu Jul  9 02:34:44 2020       \n",
            "+-----------------------------------------------------------------------------+\n",
            "| NVIDIA-SMI 450.36.06    Driver Version: 418.67       CUDA Version: 10.1     |\n",
            "|-------------------------------+----------------------+----------------------+\n",
            "| GPU  Name        Persistence-M| Bus-Id        Disp.A | Volatile Uncorr. ECC |\n",
            "| Fan  Temp  Perf  Pwr:Usage/Cap|         Memory-Usage | GPU-Util  Compute M. |\n",
            "|                               |                      |               MIG M. |\n",
            "|===============================+======================+======================|\n",
            "|   0  Tesla T4            Off  | 00000000:00:04.0 Off |                    0 |\n",
            "| N/A   63C    P0    31W /  70W |   7611MiB / 15079MiB |      0%      Default |\n",
            "|                               |                      |                 ERR! |\n",
            "+-------------------------------+----------------------+----------------------+\n",
            "                                                                               \n",
            "+-----------------------------------------------------------------------------+\n",
            "| Processes:                                                                  |\n",
            "|  GPU   GI   CI        PID   Type   Process name                  GPU Memory |\n",
            "|        ID   ID                                                   Usage      |\n",
            "|=============================================================================|\n",
            "|  No running processes found                                                 |\n",
            "+-----------------------------------------------------------------------------+\n"
          ],
          "name": "stdout"
        }
      ]
    },
    {
      "cell_type": "code",
      "metadata": {
        "id": "T3-OW0n3kSyy",
        "colab_type": "code",
        "colab": {}
      },
      "source": [
        "# Training functions\n",
        "\n",
        "def get_model_name(name, batch_size, learning_rate, epoch):\n",
        "    path = \"model_{}_bs{}_lr{}_epoch{}\".format(name, \n",
        "                                                batch_size,\n",
        "                                                learning_rate,\n",
        "                                                epoch)\n",
        "    return path\n",
        "\n",
        "def evaluate(model, dataloader, criterion):\n",
        "    eval_mod = model.eval()\n",
        "    total_loss = 0\n",
        "    correct = 0\n",
        "    total = 0\n",
        "    with torch.no_grad():\n",
        "        for i, data in enumerate(dataloader,0):\n",
        "            imgs, labels = data\n",
        "            imgs = imgs.cuda()\n",
        "            labels = labels.cuda()\n",
        "            output = eval_mod(imgs)\n",
        "\n",
        "            #select index with maximum prediction score\n",
        "            pred = output.max(1, keepdim=True)[1]\n",
        "            correct += pred.eq(labels.view_as(pred)).sum().item()\n",
        "            total += imgs.shape[0]\n",
        "            total_loss += criterion(output, labels).item()\n",
        "            \n",
        "    total_acc = correct / total\n",
        "    return total_acc, total_loss\n",
        "\n",
        "def train(net, learning_rate, batch_size, epochs):\n",
        "    torch.manual_seed(1000)\n",
        "    \n",
        "    # Get data loaders\n",
        "    train_loader, val_loader, test_loader = get_data_loaders(batch_size)\n",
        "\n",
        "    # Optimizer setup\n",
        "    criterion = nn.CrossEntropyLoss()\n",
        "    optimizer = optim.Adam(net.parameters(), lr = learning_rate)\n",
        "\n",
        "    # Initialize error and loss tracking arrays\n",
        "    train_acc = np.zeros(epochs)\n",
        "    train_loss = np.zeros(epochs)\n",
        "    val_acc = np.zeros(epochs)\n",
        "    val_loss = np.zeros(epochs)\n",
        "\n",
        "\n",
        "    start_time = time.time()\n",
        "    # Train\n",
        "    for epoch in range(epochs):\n",
        "        epoch_total_preds = 0\n",
        "        epoch_correct_preds = 0\n",
        "        epoch_loss = 0\n",
        "        for i, data in enumerate(train_loader, 0):\n",
        "            # Get the inputs\n",
        "            inputs, labels = data\n",
        "            inputs = inputs.cuda()\n",
        "            labels = labels.cuda()\n",
        "            # Zero the parameter gradients\n",
        "            optimizer.zero_grad()\n",
        "            # Forward pass, backward pass, and optimize\n",
        "            outputs = net(inputs)\n",
        "            loss = criterion(outputs, labels)\n",
        "            epoch_loss += loss.item()\n",
        "            loss.backward()\n",
        "            optimizer.step()\n",
        "            pred = outputs.max(1, keepdim=True)[1]\n",
        "            epoch_correct_preds += pred.eq(labels.view_as(pred)).sum().item()\n",
        "            epoch_total_preds += inputs.shape[0]\n",
        "            \n",
        "        train_acc[epoch] = epoch_correct_preds / epoch_total_preds\n",
        "        train_loss[epoch] = epoch_loss\n",
        "        val_acc[epoch], val_loss[epoch] = evaluate(net, val_loader, criterion)\n",
        "\n",
        "        print((\"Epoch {}: Train acc: {:.4f}, Train loss: {:.4f} |\"+\n",
        "              \"Validation acc: {:.4f}, Validation loss: {:.4f} | Time: {}\").format(\n",
        "                  epoch + 1,\n",
        "                  train_acc[epoch],\n",
        "                  train_loss[epoch],\n",
        "                  val_acc[epoch],\n",
        "                  val_loss[epoch],\n",
        "                  time.time()-start_time))\n",
        "        \n",
        "        # Save the current model to a file\n",
        "        model_path = get_model_name(net.name, batch_size, learning_rate, epoch)\n",
        "        torch.save(net.state_dict(), model_path)\n",
        "\n",
        "    print('Finished Training in {:.2f} seconds'.format(time.time()-start_time))\n",
        "    np.savetxt(\"{}_train_acc.csv\".format(model_path), train_acc)\n",
        "    np.savetxt(\"{}_train_loss.csv\".format(model_path), train_loss)\n",
        "    np.savetxt(\"{}_val_acc.csv\".format(model_path), val_acc)\n",
        "    np.savetxt(\"{}_val_loss.csv\".format(model_path), val_loss)\n",
        "\n",
        "\n",
        "def plot_training_curve(path):\n",
        "    import matplotlib.pyplot as plt\n",
        "    train_acc = np.loadtxt(\"{}train_acc.csv\".format(path))\n",
        "    val_acc = np.loadtxt(\"{}_val_acc.csv\".format(path))\n",
        "    train_loss = np.loadtxt(\"{}_train_loss.csv\".format(path))\n",
        "    val_loss = np.loadtxt(\"{}_val_loss.csv\".format(path))\n",
        "    plt.title(\"Train vs Validation Accuracy\")\n",
        "    n = len(train_acc) # number of epochs\n",
        "    plt.plot(range(1,n+1), train_acc, label=\"Train\")\n",
        "    plt.plot(range(1,n+1), val_acc, label=\"Validation\")\n",
        "    plt.xlabel(\"Epoch\")\n",
        "    plt.ylabel(\"Accuracy\")\n",
        "    plt.legend(loc='best')\n",
        "    plt.show()\n",
        "    plt.title(\"Train vs Validation Loss\")\n",
        "    plt.plot(range(1,n+1), train_loss, label=\"Train\")\n",
        "    plt.plot(range(1,n+1), val_loss, label=\"Validation\")\n",
        "    plt.xlabel(\"Epoch\")\n",
        "    plt.ylabel(\"Loss\")\n",
        "    plt.legend(loc='best')\n",
        "    plt.show()"
      ],
      "execution_count": null,
      "outputs": []
    },
    {
      "cell_type": "code",
      "metadata": {
        "id": "ZHGindNDpzKB",
        "colab_type": "code",
        "colab": {
          "base_uri": "https://localhost:8080/",
          "height": 533
        },
        "outputId": "9df84009-2cc6-40b9-e5ab-eb581999c41d"
      },
      "source": [
        "net = Net().cuda()\n",
        "train(net, 0.0005, 32, 30)"
      ],
      "execution_count": null,
      "outputs": [
        {
          "output_type": "stream",
          "text": [
            "Epoch 1: Train acc: 0.2230, Train loss: 1985.6095 |Validation acc: 0.3415, Validation loss: 503.2950 | Time: 110.87399172782898\n",
            "Epoch 2: Train acc: 0.4072, Train loss: 1332.7978 |Validation acc: 0.4681, Validation loss: 399.1801 | Time: 221.78500080108643\n",
            "Epoch 3: Train acc: 0.5058, Train loss: 1079.3140 |Validation acc: 0.5321, Validation loss: 348.8335 | Time: 332.5328440666199\n",
            "Epoch 4: Train acc: 0.5823, Train loss: 909.0245 |Validation acc: 0.5753, Validation loss: 308.4140 | Time: 443.6103575229645\n",
            "Epoch 5: Train acc: 0.6372, Train loss: 773.5446 |Validation acc: 0.5843, Validation loss: 311.2967 | Time: 554.7113163471222\n",
            "Epoch 6: Train acc: 0.6864, Train loss: 663.9037 |Validation acc: 0.6079, Validation loss: 287.5717 | Time: 665.5757732391357\n",
            "Epoch 7: Train acc: 0.7392, Train loss: 554.8612 |Validation acc: 0.6362, Validation loss: 285.2199 | Time: 777.7026505470276\n",
            "Epoch 8: Train acc: 0.7795, Train loss: 474.4566 |Validation acc: 0.6391, Validation loss: 297.5202 | Time: 889.2761845588684\n",
            "Epoch 9: Train acc: 0.8109, Train loss: 394.7508 |Validation acc: 0.6308, Validation loss: 334.8529 | Time: 998.9960660934448\n",
            "Epoch 10: Train acc: 0.8402, Train loss: 335.3629 |Validation acc: 0.6470, Validation loss: 329.1940 | Time: 1105.0731887817383\n",
            "Epoch 11: Train acc: 0.8653, Train loss: 281.2579 |Validation acc: 0.6448, Validation loss: 351.1219 | Time: 1208.2463648319244\n",
            "Epoch 12: Train acc: 0.8890, Train loss: 233.8078 |Validation acc: 0.6385, Validation loss: 379.7419 | Time: 1309.2677955627441\n",
            "Epoch 13: Train acc: 0.9027, Train loss: 204.3296 |Validation acc: 0.6446, Validation loss: 401.4311 | Time: 1409.9428038597107\n",
            "Epoch 14: Train acc: 0.9185, Train loss: 171.0676 |Validation acc: 0.6499, Validation loss: 422.9932 | Time: 1511.4803459644318\n",
            "Epoch 15: Train acc: 0.9275, Train loss: 155.5279 |Validation acc: 0.6521, Validation loss: 435.6368 | Time: 1613.1407103538513\n",
            "Epoch 16: Train acc: 0.9383, Train loss: 132.2035 |Validation acc: 0.6555, Validation loss: 444.6730 | Time: 1715.1660063266754\n",
            "Epoch 17: Train acc: 0.9493, Train loss: 113.5463 |Validation acc: 0.6502, Validation loss: 485.4614 | Time: 1817.7932403087616\n",
            "Epoch 18: Train acc: 0.9508, Train loss: 108.8995 |Validation acc: 0.6531, Validation loss: 479.5367 | Time: 1919.0792424678802\n",
            "Epoch 19: Train acc: 0.9601, Train loss: 86.9622 |Validation acc: 0.6583, Validation loss: 493.0342 | Time: 2019.1844017505646\n",
            "Epoch 20: Train acc: 0.9572, Train loss: 95.8865 |Validation acc: 0.6480, Validation loss: 498.1441 | Time: 2119.1396341323853\n",
            "Epoch 21: Train acc: 0.9642, Train loss: 79.5474 |Validation acc: 0.6494, Validation loss: 473.4745 | Time: 2218.256361722946\n",
            "Epoch 22: Train acc: 0.9714, Train loss: 64.4700 |Validation acc: 0.6670, Validation loss: 538.6411 | Time: 2317.036933898926\n",
            "Epoch 23: Train acc: 0.9686, Train loss: 74.7790 |Validation acc: 0.6504, Validation loss: 557.5927 | Time: 2415.6161262989044\n",
            "Epoch 24: Train acc: 0.9713, Train loss: 65.5617 |Validation acc: 0.6488, Validation loss: 542.2426 | Time: 2514.287552833557\n",
            "Epoch 25: Train acc: 0.9767, Train loss: 55.7045 |Validation acc: 0.6455, Validation loss: 563.2334 | Time: 2612.5630037784576\n",
            "Epoch 26: Train acc: 0.9742, Train loss: 58.2904 |Validation acc: 0.6496, Validation loss: 543.9955 | Time: 2711.0927782058716\n",
            "Epoch 27: Train acc: 0.9741, Train loss: 58.4827 |Validation acc: 0.6499, Validation loss: 562.1977 | Time: 2809.6370861530304\n",
            "Epoch 28: Train acc: 0.9778, Train loss: 50.9705 |Validation acc: 0.6496, Validation loss: 575.2380 | Time: 2907.9825823307037\n",
            "Epoch 29: Train acc: 0.9803, Train loss: 47.3574 |Validation acc: 0.6449, Validation loss: 581.7867 | Time: 3006.689965724945\n",
            "Epoch 30: Train acc: 0.9826, Train loss: 41.9498 |Validation acc: 0.6436, Validation loss: 599.5978 | Time: 3107.9287872314453\n",
            "Finished Training in 3107.99 seconds\n"
          ],
          "name": "stdout"
        }
      ]
    },
    {
      "cell_type": "code",
      "metadata": {
        "id": "gtIJxqG5naNf",
        "colab_type": "code",
        "colab": {
          "base_uri": "https://localhost:8080/",
          "height": 573
        },
        "outputId": "92054d88-5848-49bf-aaf6-d8c0597fa2b7"
      },
      "source": [
        "plot_training_curve(get_model_name(\"initial\", batch_size=32, learning_rate=0.0005, epoch=29))"
      ],
      "execution_count": null,
      "outputs": [
        {
          "output_type": "display_data",
          "data": {
            "image/png": "[encoded data removed]",
            "text/plain": [
              "<Figure size 432x288 with 1 Axes>"
            ]
          },
          "metadata": {
            "tags": [],
            "needs_background": "light"
          }
        },
        {
          "output_type": "display_data",
          "data": {
            "image/png": "[encoded data removed]",
            "text/plain": [
              "<Figure size 432x288 with 1 Axes>"
            ]
          },
          "metadata": {
            "tags": [],
            "needs_background": "light"
          }
        }
      ]
    },
    {
      "cell_type": "code",
      "metadata": {
        "id": "tdEN7kyMkdDu",
        "colab_type": "code",
        "colab": {
          "base_uri": "https://localhost:8080/",
          "height": 392
        },
        "outputId": "ec62999e-381b-44ba-db92-3d64bfbb03ce"
      },
      "source": [
        "# Small dataset to see if can overfit\n",
        "\n",
        "def get_small_loader(batch_size):\n",
        "  \n",
        "    dataset = torchvision.datasets.ImageFolder(raw_path,\n",
        "                                              transform=transform)\n",
        "    \n",
        "    num_workers = 4\n",
        "    picks = np.random.permutation(1000)\n",
        "    subset = torch.utils.data.Subset(dataset, picks)\n",
        "\n",
        "    small_loader = torch.utils.data.DataLoader(subset, batch_size=batch_size, \n",
        "                            shuffle=True, num_workers=num_workers)\n",
        "    return small_loader\n",
        "\n",
        "\n",
        "def small_train(net, learning_rate, batch_size, epochs):\n",
        "    torch.manual_seed(1000)\n",
        "    torch.cuda.manual_seed(1000)\n",
        "    np.random.seed(1000)\n",
        "\n",
        "    train_loader = get_small_loader(batch_size)\n",
        "\n",
        "    # Optimizer setup\n",
        "    criterion = nn.CrossEntropyLoss()\n",
        "    optimizer = optim.Adam(net.parameters(), lr = learning_rate)\n",
        "\n",
        "    # Initialize error and loss tracking arrays\n",
        "    train_acc = np.zeros(epochs)\n",
        "    train_loss = np.zeros(epochs)\n",
        "\n",
        "    start_time = time.time()\n",
        "    # Train\n",
        "    for epoch in range(epochs):\n",
        "        epoch_total_preds = 0\n",
        "        epoch_correct_preds = 0\n",
        "        epoch_loss = 0\n",
        "        for inputs,labels in iter(train_loader):\n",
        "            print(labels)\n",
        "            inputs = inputs.cuda()\n",
        "            labels = labels.cuda()\n",
        "\n",
        "            outputs = net(inputs)\n",
        "            loss = criterion(outputs, labels)\n",
        "            loss.backward()\n",
        "            optimizer.step()\n",
        "            optimizer.zero_grad()\n",
        "\n",
        "            epoch_loss += loss.item()\n",
        "            pred = outputs.max(1, keepdim=True)[1]\n",
        "            epoch_correct_preds += pred.eq(labels.view_as(pred)).sum().item()\n",
        "            epoch_total_preds += inputs.shape[0]\n",
        "            \n",
        "        train_acc[epoch] = epoch_correct_preds / epoch_total_preds\n",
        "        train_loss[epoch] = epoch_loss\n",
        "        if epoch % 1 == 0:\n",
        "            print((\"Epoch {}: Train acc: {:.4f}, Train loss: {:.4f}\").format(\n",
        "                  epoch + 1,\n",
        "                  train_acc[epoch],\n",
        "                  train_loss[epoch]))\n",
        "        \n",
        "    print((\"Epoch {}: Train acc: {:.4f}, Train loss: {:.4f}\").format(\n",
        "            epoch + 1,\n",
        "            train_acc[epoch],\n",
        "            train_loss[epoch]))\n",
        "    for i in range(len(labels)):\n",
        "        if pred[i] != labels[i]:\n",
        "            print(outputs[i])\n",
        "            print(net(inputs[i].view((1,3,224,224))))\n",
        "            print(labels[i])\n",
        "    print('Finished Training in {:.2f} seconds'.format(time.time()-start_time))\n",
        "\n",
        "net = Net().cuda()\n",
        "small_train(net, 0.005, 32,300)\n",
        "\n",
        "smallset_loader = get_small_loader(batch_size=32)"
      ],
      "execution_count": null,
      "outputs": [
        {
          "output_type": "error",
          "ename": "RuntimeError",
          "evalue": "ignored",
          "traceback": [
            "\u001b[0;31m---------------------------------------------------------------------------\u001b[0m",
            "\u001b[0;31mRuntimeError\u001b[0m                              Traceback (most recent call last)",
            "\u001b[0;32m<ipython-input-14-556989829bb5>\u001b[0m in \u001b[0;36m<module>\u001b[0;34m()\u001b[0m\n\u001b[1;32m     71\u001b[0m     \u001b[0mprint\u001b[0m\u001b[0;34m(\u001b[0m\u001b[0;34m'Finished Training in {:.2f} seconds'\u001b[0m\u001b[0;34m.\u001b[0m\u001b[0mformat\u001b[0m\u001b[0;34m(\u001b[0m\u001b[0mtime\u001b[0m\u001b[0;34m.\u001b[0m\u001b[0mtime\u001b[0m\u001b[0;34m(\u001b[0m\u001b[0;34m)\u001b[0m\u001b[0;34m-\u001b[0m\u001b[0mstart_time\u001b[0m\u001b[0;34m)\u001b[0m\u001b[0;34m)\u001b[0m\u001b[0;34m\u001b[0m\u001b[0;34m\u001b[0m\u001b[0m\n\u001b[1;32m     72\u001b[0m \u001b[0;34m\u001b[0m\u001b[0m\n\u001b[0;32m---> 73\u001b[0;31m \u001b[0mnet\u001b[0m \u001b[0;34m=\u001b[0m \u001b[0mNet\u001b[0m\u001b[0;34m(\u001b[0m\u001b[0;34m)\u001b[0m\u001b[0;34m.\u001b[0m\u001b[0mcuda\u001b[0m\u001b[0;34m(\u001b[0m\u001b[0;34m)\u001b[0m\u001b[0;34m\u001b[0m\u001b[0;34m\u001b[0m\u001b[0m\n\u001b[0m\u001b[1;32m     74\u001b[0m \u001b[0msmall_train\u001b[0m\u001b[0;34m(\u001b[0m\u001b[0mnet\u001b[0m\u001b[0;34m,\u001b[0m \u001b[0;36m0.005\u001b[0m\u001b[0;34m,\u001b[0m \u001b[0;36m32\u001b[0m\u001b[0;34m,\u001b[0m\u001b[0;36m300\u001b[0m\u001b[0;34m)\u001b[0m\u001b[0;34m\u001b[0m\u001b[0;34m\u001b[0m\u001b[0m\n\u001b[1;32m     75\u001b[0m \u001b[0;34m\u001b[0m\u001b[0m\n",
            "\u001b[0;32m/usr/local/lib/python3.6/dist-packages/torch/nn/modules/module.py\u001b[0m in \u001b[0;36mcuda\u001b[0;34m(self, device)\u001b[0m\n\u001b[1;32m    305\u001b[0m             \u001b[0mModule\u001b[0m\u001b[0;34m:\u001b[0m \u001b[0mself\u001b[0m\u001b[0;34m\u001b[0m\u001b[0;34m\u001b[0m\u001b[0m\n\u001b[1;32m    306\u001b[0m         \"\"\"\n\u001b[0;32m--> 307\u001b[0;31m         \u001b[0;32mreturn\u001b[0m \u001b[0mself\u001b[0m\u001b[0;34m.\u001b[0m\u001b[0m_apply\u001b[0m\u001b[0;34m(\u001b[0m\u001b[0;32mlambda\u001b[0m \u001b[0mt\u001b[0m\u001b[0;34m:\u001b[0m \u001b[0mt\u001b[0m\u001b[0;34m.\u001b[0m\u001b[0mcuda\u001b[0m\u001b[0;34m(\u001b[0m\u001b[0mdevice\u001b[0m\u001b[0;34m)\u001b[0m\u001b[0;34m)\u001b[0m\u001b[0;34m\u001b[0m\u001b[0;34m\u001b[0m\u001b[0m\n\u001b[0m\u001b[1;32m    308\u001b[0m \u001b[0;34m\u001b[0m\u001b[0m\n\u001b[1;32m    309\u001b[0m     \u001b[0;32mdef\u001b[0m \u001b[0mcpu\u001b[0m\u001b[0;34m(\u001b[0m\u001b[0mself\u001b[0m\u001b[0;34m)\u001b[0m\u001b[0;34m:\u001b[0m\u001b[0;34m\u001b[0m\u001b[0;34m\u001b[0m\u001b[0m\n",
            "\u001b[0;32m/usr/local/lib/python3.6/dist-packages/torch/nn/modules/module.py\u001b[0m in \u001b[0;36m_apply\u001b[0;34m(self, fn)\u001b[0m\n\u001b[1;32m    201\u001b[0m     \u001b[0;32mdef\u001b[0m \u001b[0m_apply\u001b[0m\u001b[0;34m(\u001b[0m\u001b[0mself\u001b[0m\u001b[0;34m,\u001b[0m \u001b[0mfn\u001b[0m\u001b[0;34m)\u001b[0m\u001b[0;34m:\u001b[0m\u001b[0;34m\u001b[0m\u001b[0;34m\u001b[0m\u001b[0m\n\u001b[1;32m    202\u001b[0m         \u001b[0;32mfor\u001b[0m \u001b[0mmodule\u001b[0m \u001b[0;32min\u001b[0m \u001b[0mself\u001b[0m\u001b[0;34m.\u001b[0m\u001b[0mchildren\u001b[0m\u001b[0;34m(\u001b[0m\u001b[0;34m)\u001b[0m\u001b[0;34m:\u001b[0m\u001b[0;34m\u001b[0m\u001b[0;34m\u001b[0m\u001b[0m\n\u001b[0;32m--> 203\u001b[0;31m             \u001b[0mmodule\u001b[0m\u001b[0;34m.\u001b[0m\u001b[0m_apply\u001b[0m\u001b[0;34m(\u001b[0m\u001b[0mfn\u001b[0m\u001b[0;34m)\u001b[0m\u001b[0;34m\u001b[0m\u001b[0;34m\u001b[0m\u001b[0m\n\u001b[0m\u001b[1;32m    204\u001b[0m \u001b[0;34m\u001b[0m\u001b[0m\n\u001b[1;32m    205\u001b[0m         \u001b[0;32mdef\u001b[0m \u001b[0mcompute_should_use_set_data\u001b[0m\u001b[0;34m(\u001b[0m\u001b[0mtensor\u001b[0m\u001b[0;34m,\u001b[0m \u001b[0mtensor_applied\u001b[0m\u001b[0;34m)\u001b[0m\u001b[0;34m:\u001b[0m\u001b[0;34m\u001b[0m\u001b[0;34m\u001b[0m\u001b[0m\n",
            "\u001b[0;32m/usr/local/lib/python3.6/dist-packages/torch/nn/modules/module.py\u001b[0m in \u001b[0;36m_apply\u001b[0;34m(self, fn)\u001b[0m\n\u001b[1;32m    223\u001b[0m                 \u001b[0;31m# `with torch.no_grad():`\u001b[0m\u001b[0;34m\u001b[0m\u001b[0;34m\u001b[0m\u001b[0;34m\u001b[0m\u001b[0m\n\u001b[1;32m    224\u001b[0m                 \u001b[0;32mwith\u001b[0m \u001b[0mtorch\u001b[0m\u001b[0;34m.\u001b[0m\u001b[0mno_grad\u001b[0m\u001b[0;34m(\u001b[0m\u001b[0;34m)\u001b[0m\u001b[0;34m:\u001b[0m\u001b[0;34m\u001b[0m\u001b[0;34m\u001b[0m\u001b[0m\n\u001b[0;32m--> 225\u001b[0;31m                     \u001b[0mparam_applied\u001b[0m \u001b[0;34m=\u001b[0m \u001b[0mfn\u001b[0m\u001b[0;34m(\u001b[0m\u001b[0mparam\u001b[0m\u001b[0;34m)\u001b[0m\u001b[0;34m\u001b[0m\u001b[0;34m\u001b[0m\u001b[0m\n\u001b[0m\u001b[1;32m    226\u001b[0m                 \u001b[0mshould_use_set_data\u001b[0m \u001b[0;34m=\u001b[0m \u001b[0mcompute_should_use_set_data\u001b[0m\u001b[0;34m(\u001b[0m\u001b[0mparam\u001b[0m\u001b[0;34m,\u001b[0m \u001b[0mparam_applied\u001b[0m\u001b[0;34m)\u001b[0m\u001b[0;34m\u001b[0m\u001b[0;34m\u001b[0m\u001b[0m\n\u001b[1;32m    227\u001b[0m                 \u001b[0;32mif\u001b[0m \u001b[0mshould_use_set_data\u001b[0m\u001b[0;34m:\u001b[0m\u001b[0;34m\u001b[0m\u001b[0;34m\u001b[0m\u001b[0m\n",
            "\u001b[0;32m/usr/local/lib/python3.6/dist-packages/torch/nn/modules/module.py\u001b[0m in \u001b[0;36m<lambda>\u001b[0;34m(t)\u001b[0m\n\u001b[1;32m    305\u001b[0m             \u001b[0mModule\u001b[0m\u001b[0;34m:\u001b[0m \u001b[0mself\u001b[0m\u001b[0;34m\u001b[0m\u001b[0;34m\u001b[0m\u001b[0m\n\u001b[1;32m    306\u001b[0m         \"\"\"\n\u001b[0;32m--> 307\u001b[0;31m         \u001b[0;32mreturn\u001b[0m \u001b[0mself\u001b[0m\u001b[0;34m.\u001b[0m\u001b[0m_apply\u001b[0m\u001b[0;34m(\u001b[0m\u001b[0;32mlambda\u001b[0m \u001b[0mt\u001b[0m\u001b[0;34m:\u001b[0m \u001b[0mt\u001b[0m\u001b[0;34m.\u001b[0m\u001b[0mcuda\u001b[0m\u001b[0;34m(\u001b[0m\u001b[0mdevice\u001b[0m\u001b[0;34m)\u001b[0m\u001b[0;34m)\u001b[0m\u001b[0;34m\u001b[0m\u001b[0;34m\u001b[0m\u001b[0m\n\u001b[0m\u001b[1;32m    308\u001b[0m \u001b[0;34m\u001b[0m\u001b[0m\n\u001b[1;32m    309\u001b[0m     \u001b[0;32mdef\u001b[0m \u001b[0mcpu\u001b[0m\u001b[0;34m(\u001b[0m\u001b[0mself\u001b[0m\u001b[0;34m)\u001b[0m\u001b[0;34m:\u001b[0m\u001b[0;34m\u001b[0m\u001b[0;34m\u001b[0m\u001b[0m\n",
            "\u001b[0;31mRuntimeError\u001b[0m: CUDA error: device-side assert triggered"
          ]
        }
      ]
    }
  ]
}