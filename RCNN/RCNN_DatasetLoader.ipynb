{
  "nbformat": 4,
  "nbformat_minor": 0,
  "metadata": {
    "colab": {
      "name": "RCNN_DatasetLoader.ipynb",
      "provenance": [],
      "collapsed_sections": []
    },
    "kernelspec": {
      "name": "python3",
      "display_name": "Python 3"
    },
    "accelerator": "GPU"
  },
  "cells": [
    {
      "cell_type": "code",
      "metadata": {
        "id": "ZmZwLwbnxIKo",
        "colab_type": "code",
        "colab": {
          "base_uri": "https://localhost:8080/",
          "height": 68
        },
        "outputId": "f17213ee-663d-4877-e728-517e656be3c5"
      },
      "source": [
        "!pip install numpy_indexed"
      ],
      "execution_count": null,
      "outputs": [
        {
          "output_type": "stream",
          "text": [
            "Requirement already satisfied: numpy_indexed in /usr/local/lib/python3.6/dist-packages (0.3.5)\n",
            "Requirement already satisfied: numpy in /usr/local/lib/python3.6/dist-packages (from numpy_indexed) (1.18.5)\n",
            "Requirement already satisfied: future in /usr/local/lib/python3.6/dist-packages (from numpy_indexed) (0.16.0)\n"
          ],
          "name": "stdout"
        }
      ]
    },
    {
      "cell_type": "code",
      "metadata": {
        "id": "iYIlk4IpyTR6",
        "colab_type": "code",
        "colab": {}
      },
      "source": [
        "import torch\n",
        "import torch.nn as nn\n",
        "import torch.nn.functional as F\n",
        "import torch.optim as optim\n",
        "from torch.utils.data import Dataset, DataLoader\n",
        "from torchvision import transforms, utils\n",
        "import numpy as np\n",
        "import random\n",
        "import matplotlib.pyplot as plt\n",
        "import pandas\n",
        "import ast\n",
        "import os\n",
        "from PIL import Image\n",
        "import time\n",
        "import copy\n",
        "import numpy_indexed as npi"
      ],
      "execution_count": null,
      "outputs": []
    },
    {
      "cell_type": "code",
      "metadata": {
        "id": "kXrr2WwaxPDm",
        "colab_type": "code",
        "colab": {
          "base_uri": "https://localhost:8080/",
          "height": 34
        },
        "outputId": "81e72b21-890c-47a0-9879-296e0469edd7"
      },
      "source": [
        "a = np.asarray([[4, 6, 6],[4, 4, 4]])\n",
        "b = np.asarray([[6, 6, 6,4],[4, 3, 2, 4]])\n",
        "count = 0\n",
        "for i in range(a.shape[0]):\n",
        "  count += min(npi.in_(a[i, :], b[i, :]).sum(), npi.in_(b[i, :], a[i, :]).sum())\n",
        "print(count)"
      ],
      "execution_count": null,
      "outputs": [
        {
          "output_type": "stream",
          "text": [
            "5\n"
          ],
          "name": "stdout"
        }
      ]
    },
    {
      "cell_type": "code",
      "metadata": {
        "id": "vAAVmJmrzHHp",
        "colab_type": "code",
        "colab": {
          "base_uri": "https://localhost:8080/",
          "height": 34
        },
        "outputId": "a18c022b-6ef3-40a1-9819-bd99d4a46733"
      },
      "source": [
        "from google.colab import drive\n",
        "drive.mount('/content/drive')"
      ],
      "execution_count": null,
      "outputs": [
        {
          "output_type": "stream",
          "text": [
            "Drive already mounted at /content/drive; to attempt to forcibly remount, call drive.mount(\"/content/drive\", force_remount=True).\n"
          ],
          "name": "stdout"
        }
      ]
    },
    {
      "cell_type": "code",
      "metadata": {
        "id": "VNd1XdOwxC70",
        "colab_type": "code",
        "colab": {
          "base_uri": "https://localhost:8080/",
          "height": 54
        },
        "outputId": "bcc2301f-7ce8-4c14-ebfb-369c0c06721b"
      },
      "source": [
        "# Get parts list - use indices of each part as \"label\", for one-hot encoding\n",
        "parts_list = []\n",
        "with open('/content/drive/My Drive/APS360 Project/share/Data/Input/Datasets/BerendPartsList') as f:\n",
        "  for line in f:\n",
        "    word = line[:len(line) - 1] # get rid of '\\n\n",
        "    parts_list.append(int(word))\n",
        "\n",
        "print(parts_list)"
      ],
      "execution_count": null,
      "outputs": [
        {
          "output_type": "stream",
          "text": [
            "[4153825, 6104154, 6249125, 4210718, 4181135, 623224, 4621545, 4211166, 4121739, 6062574, 4567338, 4153827, 4539099, 306223, 6229071, 654126, 4550325, 4114319, 4165967, 4527943, 300424, 4181144, 6138173, 6177697, 6022023, 6028324, 6151663, 4121967, 4109995, 4211437, 4647553, 6035291, 306201, 4212454, 6073026, 4211201, 300401, 300421, 300821, 4529247, 4118793, 4504369, 6238674, 6069259, 6223631, 6022064, 300121, 300321, 300124, 4211614, 6225539, 300123, 4649749, 4651236, 4639693, 4157124, 4550348, 6244886, 6075079, 6025026, 4529240, 4558957, 4517992, 4548180, 614321, 6003007, 4211511, 4504381, 6252809, 4181134, 4211412, 300423, 4211149, 4650630, 6074890, 4160403, 4655172, 4211221, 4143562, 6075075, 6004938, 365901, 4211054, 4520632, 300323]\n"
          ],
          "name": "stdout"
        }
      ]
    },
    {
      "cell_type": "code",
      "metadata": {
        "id": "7FlDvML_CAwA",
        "colab_type": "code",
        "colab": {
          "base_uri": "https://localhost:8080/",
          "height": 34
        },
        "outputId": "3eee09d7-b1d0-444c-e329-e92d0857e081"
      },
      "source": [
        "csv_path = '/content/drive/My Drive/APS360 Project/share/Data/Input/Datasets/Berend/CSV/labels.csv'\n",
        "image_path = '/content/drive/My Drive/APS360 Project/share/Data/Input/Datasets/Berend/Images'\n",
        "bbox_label_root = '/content/drive/My Drive/APS360 Project/finalOutput'\n",
        "data = pandas.read_csv(csv_path)\n",
        "# Convert label col to list of ints of part numbers:\n",
        "for i in range(len(data[\"Labels\"])):\n",
        "  label = data[\"Labels\"][i]\n",
        "  list_row = ast.literal_eval(label)\n",
        "  data[\"Labels\"][i] = list(map(int, list_row))\n",
        "# Do same for Color column:\n",
        "for i in range(len(data[\"Color\"])):\n",
        "  label = data[\"Color\"][i]\n",
        "  list_row = ast.literal_eval(label)\n",
        "  data[\"Color\"][i] = list(map(int, list_row))\n",
        "print(data[\"Name\"][707])"
      ],
      "execution_count": null,
      "outputs": [
        {
          "output_type": "stream",
          "text": [
            "B_710\n"
          ],
          "name": "stdout"
        }
      ]
    },
    {
      "cell_type": "code",
      "metadata": {
        "id": "asJnUHRKFI2j",
        "colab_type": "code",
        "colab": {
          "base_uri": "https://localhost:8080/",
          "height": 238
        },
        "outputId": "7b27e27a-6019-4f51-9ec0-ecde189da710"
      },
      "source": [
        "# Let us only deal with the first 10 data points:\n",
        "data_subset = data[:10]\n",
        "print(data_subset)"
      ],
      "execution_count": null,
      "outputs": [
        {
          "output_type": "stream",
          "text": [
            "  Name     Light  ...            Color                                Labels\n",
            "0  B_0  daylight  ...  [130, 130, 130]                             [4650630]\n",
            "1  B_1  daylight  ...  [130, 130, 130]                             [4650630]\n",
            "2  B_2  daylight  ...  [130, 130, 130]                             [4650630]\n",
            "3  B_3  daylight  ...  [130, 130, 130]                    [4650630, 6252809]\n",
            "4  B_4  daylight  ...  [130, 130, 130]                    [4650630, 6252809]\n",
            "5  B_5  daylight  ...  [130, 130, 130]                    [4650630, 6252809]\n",
            "6  B_6  daylight  ...  [130, 130, 130]           [4650630, 6252809, 4211054]\n",
            "7  B_7  daylight  ...  [130, 130, 130]           [4650630, 6252809, 4211054]\n",
            "8  B_8  daylight  ...  [130, 130, 130]           [4650630, 6252809, 4211054]\n",
            "9  B_9  daylight  ...  [130, 130, 130]  [4650630, 6252809, 4211054, 4548180]\n",
            "\n",
            "[10 rows x 5 columns]\n"
          ],
          "name": "stdout"
        }
      ]
    },
    {
      "cell_type": "code",
      "metadata": {
        "id": "VLc9r0er4RyJ",
        "colab_type": "code",
        "colab": {
          "base_uri": "https://localhost:8080/",
          "height": 119
        },
        "outputId": "53a2e8c3-158e-4902-daaa-3ada89774caa"
      },
      "source": [
        "label = data_subset[\"Name\"][9]\n",
        "print(label)\n",
        "columns = [\"Labels\", \"x_min\", \"y_min\", \"x_max\", \"y_max\"]\n",
        "bboxes = pandas.read_csv(os.path.join(bbox_label_root, label + '.csv'), skiprows=2, header=None, names=columns)\n",
        "bboxes_np = bboxes.to_numpy()\n",
        "print(bboxes_np)\n",
        "print(type(bboxes_np[0, 0]))"
      ],
      "execution_count": null,
      "outputs": [
        {
          "output_type": "stream",
          "text": [
            "B_9\n",
            "[[6252809    1393    1643    2467    2598]\n",
            " [4548180    2619    1789    2910    2023]\n",
            " [4211054    2897    2497    3295    2769]\n",
            " [4650630    1551     209    1797     392]]\n",
            "<class 'numpy.int64'>\n"
          ],
          "name": "stdout"
        }
      ]
    },
    {
      "cell_type": "code",
      "metadata": {
        "id": "5mb0ymDcI8I1",
        "colab_type": "code",
        "colab": {}
      },
      "source": [
        "class BerendDataset(Dataset):\n",
        "  # For our dataset, let us accept a CSV file as input\n",
        "  # + a list of parts, for a one-hot encoding.\n",
        "  # We will also accept a root directory for images. \n",
        "  # We also accept transformations to the image\n",
        "  def __init__(self, csv_path, parts_list, image_root, transforms, bbox_root):\n",
        "    self.csv_path = csv_path\n",
        "    self.parts_list = parts_list\n",
        "    self.image_root = image_root\n",
        "    data = pandas.read_csv(csv_path)\n",
        "    # Convert label col to list of ints of part numbers:\n",
        "    for i in range(len(data[\"Labels\"])):\n",
        "      label = data[\"Labels\"][i]\n",
        "      list_row = ast.literal_eval(label)\n",
        "      int_list = list(map(int, list_row))\n",
        "      data[\"Labels\"][i] = list(map(lambda x: parts_list.index(x), int_list))\n",
        "\n",
        "    # Do same for Color column:\n",
        "    for i in range(len(data[\"Color\"])):\n",
        "      label = data[\"Color\"][i]\n",
        "      list_row = ast.literal_eval(label)\n",
        "      data[\"Color\"][i] = torch.LongTensor(list(map(int, list_row)))\n",
        "    \n",
        "    self.data = data\n",
        "    self.transforms = transforms\n",
        "    self.bbox_root = bbox_root\n",
        "    self.bbox_tracked = {}\n",
        "    self._BBOX_COL_NAMES = [\"Labels\", \"x_min\", \"y_min\", \"x_max\", \"y_max\"]\n",
        "\n",
        "  def __getitem__(self, idx):\n",
        "    target = {}\n",
        "    labels = self.data[\"Labels\"][idx]\n",
        "\n",
        "    filename = self.data[\"Name\"][idx]\n",
        "    #print(filename)\n",
        "    img_path = os.path.join(self.image_root, filename + '.jpg')\n",
        "    bbox_path = os.path.join(self.bbox_root, filename + '.csv')\n",
        "\n",
        "    img = Image.open(img_path).convert(\"RGB\")\n",
        "    if self.transforms is not None:\n",
        "      img = self.transforms(img)\n",
        "\n",
        "    target[\"labels\"] = torch.LongTensor(labels)\n",
        "\n",
        "    if filename in self.bbox_tracked:\n",
        "      bboxes = self.bbox_tracked[filename]\n",
        "    else:\n",
        "      bbox_data = pandas.read_csv(os.path.join(self.bbox_root, filename + '.csv'),\n",
        "                                  skiprows=2,\n",
        "                                  header=None,\n",
        "                                  names=self._BBOX_COL_NAMES)\n",
        "      bbox_data_np = bbox_data.to_numpy(dtype=np.int_)\n",
        "      bbox_labels = bbox_data_np[:, 0]\n",
        "      bbox_targets = bbox_data_np[:, 1:]\n",
        "      bboxes = torch.zeros([len(labels), 4], dtype=torch.long)\n",
        "      for i in range(len(bbox_labels)):\n",
        "        bboxes[i, :] = torch.LongTensor(bbox_targets[i])\n",
        "      self.bbox_tracked[filename] = bboxes\n",
        "\n",
        "    target[\"boxes\"] = bboxes\n",
        "    \n",
        "    return img, target\n",
        "  def __len__(self):\n",
        "        return len(self.data)"
      ],
      "execution_count": null,
      "outputs": []
    },
    {
      "cell_type": "code",
      "metadata": {
        "id": "BnhO_e3ZLhRP",
        "colab_type": "code",
        "colab": {}
      },
      "source": [
        "data_transform = transforms.Compose([transforms.Resize((375, 500)), transforms.ToTensor()])\n",
        "dataset = BerendDataset(csv_path=csv_path, parts_list=parts_list, image_root=image_path, transforms=data_transform, bbox_root=bbox_label_root)"
      ],
      "execution_count": null,
      "outputs": []
    },
    {
      "cell_type": "code",
      "metadata": {
        "id": "i-DdwtbXLrs5",
        "colab_type": "code",
        "colab": {}
      },
      "source": [
        "item = dataset[9]"
      ],
      "execution_count": null,
      "outputs": []
    },
    {
      "cell_type": "code",
      "metadata": {
        "id": "McWpFedeMjtS",
        "colab_type": "code",
        "colab": {
          "base_uri": "https://localhost:8080/",
          "height": 796
        },
        "outputId": "eadd5764-f68e-4985-a10a-2724e57d9f07"
      },
      "source": [
        "print(item)\n",
        "image, target = item\n",
        "img = np.transpose(image, [1,2,0])\n",
        "print(img.shape)\n",
        "plt.imshow(img)\n",
        "print(target[\"boxes\"])"
      ],
      "execution_count": null,
      "outputs": [
        {
          "output_type": "stream",
          "text": [
            "(tensor([[[0.3020, 0.3059, 0.3020,  ..., 0.3529, 0.3647, 0.3922],\n",
            "         [0.3490, 0.3647, 0.3412,  ..., 0.3529, 0.3843, 0.4157],\n",
            "         [0.3490, 0.3686, 0.3765,  ..., 0.3882, 0.3961, 0.3843],\n",
            "         ...,\n",
            "         [0.4706, 0.4980, 0.5098,  ..., 0.4510, 0.4510, 0.4627],\n",
            "         [0.4667, 0.4784, 0.4941,  ..., 0.4510, 0.4510, 0.4667],\n",
            "         [0.4471, 0.4667, 0.4588,  ..., 0.4549, 0.4549, 0.4667]],\n",
            "\n",
            "        [[0.2706, 0.2627, 0.2588,  ..., 0.3176, 0.3255, 0.3451],\n",
            "         [0.3137, 0.3176, 0.3098,  ..., 0.3059, 0.3294, 0.3686],\n",
            "         [0.3098, 0.3216, 0.3451,  ..., 0.3412, 0.3569, 0.3608],\n",
            "         ...,\n",
            "         [0.5412, 0.5765, 0.5725,  ..., 0.4549, 0.4549, 0.4549],\n",
            "         [0.5294, 0.5647, 0.5490,  ..., 0.4471, 0.4471, 0.4667],\n",
            "         [0.4824, 0.5176, 0.5137,  ..., 0.4471, 0.4392, 0.4588]],\n",
            "\n",
            "        [[0.1608, 0.1647, 0.1529,  ..., 0.2706, 0.2667, 0.3020],\n",
            "         [0.1922, 0.2118, 0.1843,  ..., 0.2549, 0.2902, 0.3294],\n",
            "         [0.1961, 0.2039, 0.2000,  ..., 0.2667, 0.3020, 0.3059],\n",
            "         ...,\n",
            "         [0.6275, 0.6706, 0.6510,  ..., 0.4431, 0.4627, 0.4510],\n",
            "         [0.6157, 0.6510, 0.6314,  ..., 0.4314, 0.4549, 0.4510],\n",
            "         [0.5647, 0.6039, 0.6000,  ..., 0.4353, 0.4314, 0.4431]]]), {'labels': tensor([73, 68, 82, 63]), 'boxes': tensor([[1393, 1643, 2467, 2598],\n",
            "        [2619, 1789, 2910, 2023],\n",
            "        [2897, 2497, 3295, 2769],\n",
            "        [1551,  209, 1797,  392]])})\n",
            "torch.Size([375, 500, 3])\n",
            "tensor([[1393, 1643, 2467, 2598],\n",
            "        [2619, 1789, 2910, 2023],\n",
            "        [2897, 2497, 3295, 2769],\n",
            "        [1551,  209, 1797,  392]])\n"
          ],
          "name": "stdout"
        },
        {
          "output_type": "display_data",
          "data": {
            "image/png": "[encoded data removed]",
            "text/plain": [
              "<Figure size 432x288 with 1 Axes>"
            ]
          },
          "metadata": {
            "tags": [],
            "needs_background": "light"
          }
        }
      ]
    },
    {
      "cell_type": "code",
      "metadata": {
        "id": "FhLbtCoJOQ1v",
        "colab_type": "code",
        "colab": {
          "base_uri": "https://localhost:8080/",
          "height": 34
        },
        "outputId": "fb0da74d-127f-442a-8fc2-b5534d4e397e"
      },
      "source": [
        "print(len(dataset))"
      ],
      "execution_count": null,
      "outputs": [
        {
          "output_type": "stream",
          "text": [
            "816\n"
          ],
          "name": "stdout"
        }
      ]
    },
    {
      "cell_type": "code",
      "metadata": {
        "id": "4keoHcCJn2LS",
        "colab_type": "code",
        "colab": {
          "base_uri": "https://localhost:8080/",
          "height": 1000
        },
        "outputId": "22176ee7-daf9-41b0-d623-544acbcb52b6"
      },
      "source": [
        "import torchvision\n",
        "\n",
        "model = torchvision.models.detection.fasterrcnn_resnet50_fpn(pretrained=True)\n",
        "model.num_classes = len(parts_list)\n",
        "print(model)\n",
        "image = image.unsqueeze(0)"
      ],
      "execution_count": null,
      "outputs": [
        {
          "output_type": "stream",
          "text": [
            "FasterRCNN(\n",
            "  (transform): GeneralizedRCNNTransform(\n",
            "      Normalize(mean=[0.485, 0.456, 0.406], std=[0.229, 0.224, 0.225])\n",
            "      Resize(min_size=(800,), max_size=1333, mode='bilinear')\n",
            "  )\n",
            "  (backbone): BackboneWithFPN(\n",
            "    (body): IntermediateLayerGetter(\n",
            "      (conv1): Conv2d(3, 64, kernel_size=(7, 7), stride=(2, 2), padding=(3, 3), bias=False)\n",
            "      (bn1): FrozenBatchNorm2d()\n",
            "      (relu): ReLU(inplace=True)\n",
            "      (maxpool): MaxPool2d(kernel_size=3, stride=2, padding=1, dilation=1, ceil_mode=False)\n",
            "      (layer1): Sequential(\n",
            "        (0): Bottleneck(\n",
            "          (conv1): Conv2d(64, 64, kernel_size=(1, 1), stride=(1, 1), bias=False)\n",
            "          (bn1): FrozenBatchNorm2d()\n",
            "          (conv2): Conv2d(64, 64, kernel_size=(3, 3), stride=(1, 1), padding=(1, 1), bias=False)\n",
            "          (bn2): FrozenBatchNorm2d()\n",
            "          (conv3): Conv2d(64, 256, kernel_size=(1, 1), stride=(1, 1), bias=False)\n",
            "          (bn3): FrozenBatchNorm2d()\n",
            "          (relu): ReLU(inplace=True)\n",
            "          (downsample): Sequential(\n",
            "            (0): Conv2d(64, 256, kernel_size=(1, 1), stride=(1, 1), bias=False)\n",
            "            (1): FrozenBatchNorm2d()\n",
            "          )\n",
            "        )\n",
            "        (1): Bottleneck(\n",
            "          (conv1): Conv2d(256, 64, kernel_size=(1, 1), stride=(1, 1), bias=False)\n",
            "          (bn1): FrozenBatchNorm2d()\n",
            "          (conv2): Conv2d(64, 64, kernel_size=(3, 3), stride=(1, 1), padding=(1, 1), bias=False)\n",
            "          (bn2): FrozenBatchNorm2d()\n",
            "          (conv3): Conv2d(64, 256, kernel_size=(1, 1), stride=(1, 1), bias=False)\n",
            "          (bn3): FrozenBatchNorm2d()\n",
            "          (relu): ReLU(inplace=True)\n",
            "        )\n",
            "        (2): Bottleneck(\n",
            "          (conv1): Conv2d(256, 64, kernel_size=(1, 1), stride=(1, 1), bias=False)\n",
            "          (bn1): FrozenBatchNorm2d()\n",
            "          (conv2): Conv2d(64, 64, kernel_size=(3, 3), stride=(1, 1), padding=(1, 1), bias=False)\n",
            "          (bn2): FrozenBatchNorm2d()\n",
            "          (conv3): Conv2d(64, 256, kernel_size=(1, 1), stride=(1, 1), bias=False)\n",
            "          (bn3): FrozenBatchNorm2d()\n",
            "          (relu): ReLU(inplace=True)\n",
            "        )\n",
            "      )\n",
            "      (layer2): Sequential(\n",
            "        (0): Bottleneck(\n",
            "          (conv1): Conv2d(256, 128, kernel_size=(1, 1), stride=(1, 1), bias=False)\n",
            "          (bn1): FrozenBatchNorm2d()\n",
            "          (conv2): Conv2d(128, 128, kernel_size=(3, 3), stride=(2, 2), padding=(1, 1), bias=False)\n",
            "          (bn2): FrozenBatchNorm2d()\n",
            "          (conv3): Conv2d(128, 512, kernel_size=(1, 1), stride=(1, 1), bias=False)\n",
            "          (bn3): FrozenBatchNorm2d()\n",
            "          (relu): ReLU(inplace=True)\n",
            "          (downsample): Sequential(\n",
            "            (0): Conv2d(256, 512, kernel_size=(1, 1), stride=(2, 2), bias=False)\n",
            "            (1): FrozenBatchNorm2d()\n",
            "          )\n",
            "        )\n",
            "        (1): Bottleneck(\n",
            "          (conv1): Conv2d(512, 128, kernel_size=(1, 1), stride=(1, 1), bias=False)\n",
            "          (bn1): FrozenBatchNorm2d()\n",
            "          (conv2): Conv2d(128, 128, kernel_size=(3, 3), stride=(1, 1), padding=(1, 1), bias=False)\n",
            "          (bn2): FrozenBatchNorm2d()\n",
            "          (conv3): Conv2d(128, 512, kernel_size=(1, 1), stride=(1, 1), bias=False)\n",
            "          (bn3): FrozenBatchNorm2d()\n",
            "          (relu): ReLU(inplace=True)\n",
            "        )\n",
            "        (2): Bottleneck(\n",
            "          (conv1): Conv2d(512, 128, kernel_size=(1, 1), stride=(1, 1), bias=False)\n",
            "          (bn1): FrozenBatchNorm2d()\n",
            "          (conv2): Conv2d(128, 128, kernel_size=(3, 3), stride=(1, 1), padding=(1, 1), bias=False)\n",
            "          (bn2): FrozenBatchNorm2d()\n",
            "          (conv3): Conv2d(128, 512, kernel_size=(1, 1), stride=(1, 1), bias=False)\n",
            "          (bn3): FrozenBatchNorm2d()\n",
            "          (relu): ReLU(inplace=True)\n",
            "        )\n",
            "        (3): Bottleneck(\n",
            "          (conv1): Conv2d(512, 128, kernel_size=(1, 1), stride=(1, 1), bias=False)\n",
            "          (bn1): FrozenBatchNorm2d()\n",
            "          (conv2): Conv2d(128, 128, kernel_size=(3, 3), stride=(1, 1), padding=(1, 1), bias=False)\n",
            "          (bn2): FrozenBatchNorm2d()\n",
            "          (conv3): Conv2d(128, 512, kernel_size=(1, 1), stride=(1, 1), bias=False)\n",
            "          (bn3): FrozenBatchNorm2d()\n",
            "          (relu): ReLU(inplace=True)\n",
            "        )\n",
            "      )\n",
            "      (layer3): Sequential(\n",
            "        (0): Bottleneck(\n",
            "          (conv1): Conv2d(512, 256, kernel_size=(1, 1), stride=(1, 1), bias=False)\n",
            "          (bn1): FrozenBatchNorm2d()\n",
            "          (conv2): Conv2d(256, 256, kernel_size=(3, 3), stride=(2, 2), padding=(1, 1), bias=False)\n",
            "          (bn2): FrozenBatchNorm2d()\n",
            "          (conv3): Conv2d(256, 1024, kernel_size=(1, 1), stride=(1, 1), bias=False)\n",
            "          (bn3): FrozenBatchNorm2d()\n",
            "          (relu): ReLU(inplace=True)\n",
            "          (downsample): Sequential(\n",
            "            (0): Conv2d(512, 1024, kernel_size=(1, 1), stride=(2, 2), bias=False)\n",
            "            (1): FrozenBatchNorm2d()\n",
            "          )\n",
            "        )\n",
            "        (1): Bottleneck(\n",
            "          (conv1): Conv2d(1024, 256, kernel_size=(1, 1), stride=(1, 1), bias=False)\n",
            "          (bn1): FrozenBatchNorm2d()\n",
            "          (conv2): Conv2d(256, 256, kernel_size=(3, 3), stride=(1, 1), padding=(1, 1), bias=False)\n",
            "          (bn2): FrozenBatchNorm2d()\n",
            "          (conv3): Conv2d(256, 1024, kernel_size=(1, 1), stride=(1, 1), bias=False)\n",
            "          (bn3): FrozenBatchNorm2d()\n",
            "          (relu): ReLU(inplace=True)\n",
            "        )\n",
            "        (2): Bottleneck(\n",
            "          (conv1): Conv2d(1024, 256, kernel_size=(1, 1), stride=(1, 1), bias=False)\n",
            "          (bn1): FrozenBatchNorm2d()\n",
            "          (conv2): Conv2d(256, 256, kernel_size=(3, 3), stride=(1, 1), padding=(1, 1), bias=False)\n",
            "          (bn2): FrozenBatchNorm2d()\n",
            "          (conv3): Conv2d(256, 1024, kernel_size=(1, 1), stride=(1, 1), bias=False)\n",
            "          (bn3): FrozenBatchNorm2d()\n",
            "          (relu): ReLU(inplace=True)\n",
            "        )\n",
            "        (3): Bottleneck(\n",
            "          (conv1): Conv2d(1024, 256, kernel_size=(1, 1), stride=(1, 1), bias=False)\n",
            "          (bn1): FrozenBatchNorm2d()\n",
            "          (conv2): Conv2d(256, 256, kernel_size=(3, 3), stride=(1, 1), padding=(1, 1), bias=False)\n",
            "          (bn2): FrozenBatchNorm2d()\n",
            "          (conv3): Conv2d(256, 1024, kernel_size=(1, 1), stride=(1, 1), bias=False)\n",
            "          (bn3): FrozenBatchNorm2d()\n",
            "          (relu): ReLU(inplace=True)\n",
            "        )\n",
            "        (4): Bottleneck(\n",
            "          (conv1): Conv2d(1024, 256, kernel_size=(1, 1), stride=(1, 1), bias=False)\n",
            "          (bn1): FrozenBatchNorm2d()\n",
            "          (conv2): Conv2d(256, 256, kernel_size=(3, 3), stride=(1, 1), padding=(1, 1), bias=False)\n",
            "          (bn2): FrozenBatchNorm2d()\n",
            "          (conv3): Conv2d(256, 1024, kernel_size=(1, 1), stride=(1, 1), bias=False)\n",
            "          (bn3): FrozenBatchNorm2d()\n",
            "          (relu): ReLU(inplace=True)\n",
            "        )\n",
            "        (5): Bottleneck(\n",
            "          (conv1): Conv2d(1024, 256, kernel_size=(1, 1), stride=(1, 1), bias=False)\n",
            "          (bn1): FrozenBatchNorm2d()\n",
            "          (conv2): Conv2d(256, 256, kernel_size=(3, 3), stride=(1, 1), padding=(1, 1), bias=False)\n",
            "          (bn2): FrozenBatchNorm2d()\n",
            "          (conv3): Conv2d(256, 1024, kernel_size=(1, 1), stride=(1, 1), bias=False)\n",
            "          (bn3): FrozenBatchNorm2d()\n",
            "          (relu): ReLU(inplace=True)\n",
            "        )\n",
            "      )\n",
            "      (layer4): Sequential(\n",
            "        (0): Bottleneck(\n",
            "          (conv1): Conv2d(1024, 512, kernel_size=(1, 1), stride=(1, 1), bias=False)\n",
            "          (bn1): FrozenBatchNorm2d()\n",
            "          (conv2): Conv2d(512, 512, kernel_size=(3, 3), stride=(2, 2), padding=(1, 1), bias=False)\n",
            "          (bn2): FrozenBatchNorm2d()\n",
            "          (conv3): Conv2d(512, 2048, kernel_size=(1, 1), stride=(1, 1), bias=False)\n",
            "          (bn3): FrozenBatchNorm2d()\n",
            "          (relu): ReLU(inplace=True)\n",
            "          (downsample): Sequential(\n",
            "            (0): Conv2d(1024, 2048, kernel_size=(1, 1), stride=(2, 2), bias=False)\n",
            "            (1): FrozenBatchNorm2d()\n",
            "          )\n",
            "        )\n",
            "        (1): Bottleneck(\n",
            "          (conv1): Conv2d(2048, 512, kernel_size=(1, 1), stride=(1, 1), bias=False)\n",
            "          (bn1): FrozenBatchNorm2d()\n",
            "          (conv2): Conv2d(512, 512, kernel_size=(3, 3), stride=(1, 1), padding=(1, 1), bias=False)\n",
            "          (bn2): FrozenBatchNorm2d()\n",
            "          (conv3): Conv2d(512, 2048, kernel_size=(1, 1), stride=(1, 1), bias=False)\n",
            "          (bn3): FrozenBatchNorm2d()\n",
            "          (relu): ReLU(inplace=True)\n",
            "        )\n",
            "        (2): Bottleneck(\n",
            "          (conv1): Conv2d(2048, 512, kernel_size=(1, 1), stride=(1, 1), bias=False)\n",
            "          (bn1): FrozenBatchNorm2d()\n",
            "          (conv2): Conv2d(512, 512, kernel_size=(3, 3), stride=(1, 1), padding=(1, 1), bias=False)\n",
            "          (bn2): FrozenBatchNorm2d()\n",
            "          (conv3): Conv2d(512, 2048, kernel_size=(1, 1), stride=(1, 1), bias=False)\n",
            "          (bn3): FrozenBatchNorm2d()\n",
            "          (relu): ReLU(inplace=True)\n",
            "        )\n",
            "      )\n",
            "    )\n",
            "    (fpn): FeaturePyramidNetwork(\n",
            "      (inner_blocks): ModuleList(\n",
            "        (0): Conv2d(256, 256, kernel_size=(1, 1), stride=(1, 1))\n",
            "        (1): Conv2d(512, 256, kernel_size=(1, 1), stride=(1, 1))\n",
            "        (2): Conv2d(1024, 256, kernel_size=(1, 1), stride=(1, 1))\n",
            "        (3): Conv2d(2048, 256, kernel_size=(1, 1), stride=(1, 1))\n",
            "      )\n",
            "      (layer_blocks): ModuleList(\n",
            "        (0): Conv2d(256, 256, kernel_size=(3, 3), stride=(1, 1), padding=(1, 1))\n",
            "        (1): Conv2d(256, 256, kernel_size=(3, 3), stride=(1, 1), padding=(1, 1))\n",
            "        (2): Conv2d(256, 256, kernel_size=(3, 3), stride=(1, 1), padding=(1, 1))\n",
            "        (3): Conv2d(256, 256, kernel_size=(3, 3), stride=(1, 1), padding=(1, 1))\n",
            "      )\n",
            "      (extra_blocks): LastLevelMaxPool()\n",
            "    )\n",
            "  )\n",
            "  (rpn): RegionProposalNetwork(\n",
            "    (anchor_generator): AnchorGenerator()\n",
            "    (head): RPNHead(\n",
            "      (conv): Conv2d(256, 256, kernel_size=(3, 3), stride=(1, 1), padding=(1, 1))\n",
            "      (cls_logits): Conv2d(256, 3, kernel_size=(1, 1), stride=(1, 1))\n",
            "      (bbox_pred): Conv2d(256, 12, kernel_size=(1, 1), stride=(1, 1))\n",
            "    )\n",
            "  )\n",
            "  (roi_heads): RoIHeads(\n",
            "    (box_roi_pool): MultiScaleRoIAlign()\n",
            "    (box_head): TwoMLPHead(\n",
            "      (fc6): Linear(in_features=12544, out_features=1024, bias=True)\n",
            "      (fc7): Linear(in_features=1024, out_features=1024, bias=True)\n",
            "    )\n",
            "    (box_predictor): FastRCNNPredictor(\n",
            "      (cls_score): Linear(in_features=1024, out_features=91, bias=True)\n",
            "      (bbox_pred): Linear(in_features=1024, out_features=364, bias=True)\n",
            "    )\n",
            "  )\n",
            ")\n"
          ],
          "name": "stdout"
        }
      ]
    },
    {
      "cell_type": "code",
      "metadata": {
        "id": "AxIe2VOtErHD",
        "colab_type": "code",
        "colab": {}
      },
      "source": [
        "model.roi_heads.box_predictor.cls_score = nn.Linear(in_features=1024, out_features=len(parts_list), bias=True)\n",
        "model.roi_heads.box_predictor.bbox_pred = nn.Linear(in_features=1024, out_features=4*len(parts_list), bias=True)"
      ],
      "execution_count": null,
      "outputs": []
    },
    {
      "cell_type": "code",
      "metadata": {
        "id": "tHsbx4duJ-BD",
        "colab_type": "code",
        "colab": {
          "base_uri": "https://localhost:8080/",
          "height": 139
        },
        "outputId": "5d391328-1b90-451c-fe83-1cdba22fff42"
      },
      "source": [
        "model.eval()\n",
        "out = model(image)"
      ],
      "execution_count": null,
      "outputs": [
        {
          "output_type": "stream",
          "text": [
            "/usr/local/lib/python3.6/dist-packages/torch/nn/functional.py:2854: UserWarning: The default behavior for interpolate/upsample with float scale_factor will change in 1.6.0 to align with other frameworks/libraries, and use scale_factor directly, instead of relying on the computed output size. If you wish to keep the old behavior, please set recompute_scale_factor=True. See the documentation of nn.Upsample for details. \n",
            "  warnings.warn(\"The default behavior for interpolate/upsample with float scale_factor will change \"\n",
            "/pytorch/torch/csrc/utils/python_arg_parser.cpp:756: UserWarning: This overload of nonzero is deprecated:\n",
            "\tnonzero(Tensor input, *, Tensor out)\n",
            "Consider using one of the following signatures instead:\n",
            "\tnonzero(Tensor input, *, bool as_tuple)\n"
          ],
          "name": "stderr"
        }
      ]
    },
    {
      "cell_type": "code",
      "metadata": {
        "id": "W078faBuGJhO",
        "colab_type": "code",
        "colab": {
          "base_uri": "https://localhost:8080/",
          "height": 122
        },
        "outputId": "5b6a2899-2790-4d31-f443-8cb4d9a03623"
      },
      "source": [
        "print(out)"
      ],
      "execution_count": null,
      "outputs": [
        {
          "output_type": "stream",
          "text": [
            "[{'boxes': tensor([[249.0785, 200.0316, 266.1404, 226.0376],\n",
            "        [238.1294, 202.0174, 262.6299, 236.5703],\n",
            "        [198.9855, 190.8295, 251.2606, 250.4472],\n",
            "        [219.1702, 177.9651, 265.1850, 256.7671],\n",
            "        [254.4208, 202.1338, 264.5929, 215.0754]], grad_fn=<StackBackward>), 'labels': tensor([52, 52, 52, 52, 52]), 'scores': tensor([0.0789, 0.0728, 0.0656, 0.0656, 0.0650], grad_fn=<IndexBackward>)}]\n"
          ],
          "name": "stdout"
        }
      ]
    },
    {
      "cell_type": "code",
      "metadata": {
        "id": "RXZjdPSiKxe0",
        "colab_type": "code",
        "colab": {
          "base_uri": "https://localhost:8080/",
          "height": 68
        },
        "outputId": "ac635b34-ea5c-4880-9832-73c0cf3835d1"
      },
      "source": [
        "model.train()\n",
        "img, label = dataset[3]\n",
        "img = img.unsqueeze(0)\n",
        "label = [label]\n",
        "print(img.shape)\n",
        "print(label)\n",
        "\n"
      ],
      "execution_count": null,
      "outputs": [
        {
          "output_type": "stream",
          "text": [
            "torch.Size([1, 3, 375, 500])\n",
            "[{'labels': tensor([73, 68]), 'boxes': tensor([[1990,  795, 2297, 1079],\n",
            "        [1579, 1598, 2992, 2363]])}]\n"
          ],
          "name": "stdout"
        }
      ]
    },
    {
      "cell_type": "code",
      "metadata": {
        "id": "i4CkBE5fK24i",
        "colab_type": "code",
        "colab": {
          "base_uri": "https://localhost:8080/",
          "height": 71
        },
        "outputId": "e21cfe02-33cb-474f-9c6e-af0d5f213a2a"
      },
      "source": [
        "out = model(img, label)"
      ],
      "execution_count": null,
      "outputs": [
        {
          "output_type": "stream",
          "text": [
            "/usr/local/lib/python3.6/dist-packages/torch/nn/functional.py:2854: UserWarning: The default behavior for interpolate/upsample with float scale_factor will change in 1.6.0 to align with other frameworks/libraries, and use scale_factor directly, instead of relying on the computed output size. If you wish to keep the old behavior, please set recompute_scale_factor=True. See the documentation of nn.Upsample for details. \n",
            "  warnings.warn(\"The default behavior for interpolate/upsample with float scale_factor will change \"\n"
          ],
          "name": "stderr"
        }
      ]
    },
    {
      "cell_type": "code",
      "metadata": {
        "id": "V4bzJSQeOKAt",
        "colab_type": "code",
        "colab": {
          "base_uri": "https://localhost:8080/",
          "height": 54
        },
        "outputId": "cc523bfb-9820-49ff-f627-edaac71dd392"
      },
      "source": [
        "print(out)"
      ],
      "execution_count": null,
      "outputs": [
        {
          "output_type": "stream",
          "text": [
            "{'loss_classifier': tensor(4.3160, grad_fn=<NllLossBackward>), 'loss_box_reg': tensor(3.7283e-06, grad_fn=<DivBackward0>), 'loss_objectness': tensor(19.5085, grad_fn=<BinaryCrossEntropyWithLogitsBackward>), 'loss_rpn_box_reg': tensor(236.2709, grad_fn=<DivBackward0>)}\n"
          ],
          "name": "stdout"
        }
      ]
    },
    {
      "cell_type": "code",
      "metadata": {
        "id": "9hl-Ak4FPA9A",
        "colab_type": "code",
        "colab": {}
      },
      "source": [
        "out['loss_classifier'].backward()"
      ],
      "execution_count": null,
      "outputs": []
    },
    {
      "cell_type": "code",
      "metadata": {
        "id": "JRaYZDDhL-xB",
        "colab_type": "code",
        "colab": {}
      },
      "source": [
        "#train_length = int(0.6*len(dataset))\n",
        "#val_length = int(0.2*len(dataset))\n",
        "train_length = 20\n",
        "val_length = 20\n",
        "test_length = len(dataset) - train_length - val_length\n",
        "torch.manual_seed(42)\n",
        "trainset, valset, testst = torch.utils.data.random_split(dataset,\n",
        "                                                         [train_length, val_length, test_length])"
      ],
      "execution_count": null,
      "outputs": []
    },
    {
      "cell_type": "code",
      "metadata": {
        "id": "CuucUVQsMnlb",
        "colab_type": "code",
        "colab": {}
      },
      "source": [
        "#trainloader = torch.utils.data.DataLoader(trainset, batch_size=32)"
      ],
      "execution_count": null,
      "outputs": []
    },
    {
      "cell_type": "code",
      "metadata": {
        "id": "TuUjGKh0UsK9",
        "colab_type": "code",
        "colab": {}
      },
      "source": [
        "def collate_fn(batch):\n",
        "  images = []\n",
        "  targets = []\n",
        "  for lego in batch:\n",
        "    images.append(lego[0])\n",
        "    targets.append(lego[1])\n",
        "  \n",
        "  return images, targets\n",
        "\n"
      ],
      "execution_count": null,
      "outputs": []
    },
    {
      "cell_type": "code",
      "metadata": {
        "id": "bEQyuPrcRkoI",
        "colab_type": "code",
        "colab": {}
      },
      "source": [
        "class Batcher:\n",
        "    def __init__(self, dataset, batch_size=32, drop_last=False):\n",
        "        self.pics_by_length = {}\n",
        "        for image, target in dataset:\n",
        "            # compute the length of the labels:\n",
        "            llen =target[\"labels\"].shape[0]\n",
        "            # put the data in the correct key inside self.tweet_by_length\n",
        "            if llen not in self.pics_by_length:\n",
        "                self.pics_by_length[llen] = []\n",
        "            self.pics_by_length[llen].append((image, target),)\n",
        "         \n",
        "        #  create a DataLoader for each set of tweets of the same length\n",
        "        self.loaders = {llen : torch.utils.data.DataLoader(\n",
        "                                    legos,\n",
        "                                    batch_size=batch_size,\n",
        "                                    shuffle=True,\n",
        "                                    drop_last=drop_last,   # omit last batch if smaller than batch_size\n",
        "                                    collate_fn=collate_fn)\n",
        "            for llen, legos in self.pics_by_length.items()}\n",
        "        \n",
        "    def __iter__(self): # called by Python to create an iterator\n",
        "        # make an iterator for every tweet length\n",
        "        iters = [iter(loader) for loader in self.loaders.values()]\n",
        "        while iters:\n",
        "            # pick an iterator (a length)\n",
        "            im = random.choice(iters)\n",
        "            try:\n",
        "                yield next(im)\n",
        "            except StopIteration:\n",
        "                # no more elements in the iterator, remove it\n",
        "                iters.remove(im)"
      ],
      "execution_count": null,
      "outputs": []
    },
    {
      "cell_type": "code",
      "metadata": {
        "id": "qf2HRMaEUq-T",
        "colab_type": "code",
        "colab": {}
      },
      "source": [
        ""
      ],
      "execution_count": null,
      "outputs": []
    },
    {
      "cell_type": "code",
      "metadata": {
        "id": "qN0gaYHjS_7d",
        "colab_type": "code",
        "colab": {
          "base_uri": "https://localhost:8080/",
          "height": 35
        },
        "outputId": "1599ed45-5796-4837-9c2c-c3c8230ecdb4"
      },
      "source": [
        "trainloader = Batcher(trainset, batch_size=2, drop_last=True)\n",
        "'''\n",
        "for i, (image, target) in enumerate(Batcher(trainset,zy drop_last=True)):\n",
        "    if i >= 0:\n",
        "      print(image.shape, target) \n",
        "      break\n",
        "'''"
      ],
      "execution_count": null,
      "outputs": [
        {
          "output_type": "execute_result",
          "data": {
            "application/vnd.google.colaboratory.intrinsic": {
              "type": "string"
            },
            "text/plain": [
              "'\\nfor i, (image, target) in enumerate(Batcher(trainset,zy drop_last=True)):\\n    if i >= 0:\\n      print(image.shape, target) \\n      break\\n'"
            ]
          },
          "metadata": {
            "tags": []
          },
          "execution_count": 26
        }
      ]
    },
    {
      "cell_type": "code",
      "metadata": {
        "id": "E4IYCHenJBtc",
        "colab_type": "code",
        "colab": {}
      },
      "source": [
        "val_loader = Batcher(valset, batch_size=2, drop_last=True)"
      ],
      "execution_count": null,
      "outputs": []
    },
    {
      "cell_type": "code",
      "metadata": {
        "id": "CzVNMyNeNFYP",
        "colab_type": "code",
        "colab": {
          "base_uri": "https://localhost:8080/",
          "height": 52
        },
        "outputId": "5ca2e899-1ebb-4999-f35a-22ea89d4509e"
      },
      "source": [
        "'''for images, target in val_loader.loaders[1]:\n",
        "  model = model.cuda()\n",
        "  for i in range(len(images)):\n",
        "    inputs[i] = inputs[i].cuda()\n",
        "    target[i][\"labels\"] = target[i][\"labels\"].cuda()\n",
        "    target[i][\"boxes\"] = target[i][\"boxes\"].cuda()\n",
        "  out = model(images, target)\n",
        "  break'''"
      ],
      "execution_count": null,
      "outputs": [
        {
          "output_type": "execute_result",
          "data": {
            "application/vnd.google.colaboratory.intrinsic": {
              "type": "string"
            },
            "text/plain": [
              "'for images, target in val_loader.loaders[1]:\\n  model = model.cuda()\\n  for i in range(len(images)):\\n    inputs[i] = inputs[i].cuda()\\n    target[i][\"labels\"] = target[i][\"labels\"].cuda()\\n    target[i][\"boxes\"] = target[i][\"boxes\"].cuda()\\n  out = model(images, target)\\n  break'"
            ]
          },
          "metadata": {
            "tags": []
          },
          "execution_count": 28
        }
      ]
    },
    {
      "cell_type": "code",
      "metadata": {
        "id": "mLyDbVSBd6E4",
        "colab_type": "code",
        "colab": {}
      },
      "source": [
        "#print(out)"
      ],
      "execution_count": null,
      "outputs": []
    },
    {
      "cell_type": "code",
      "metadata": {
        "id": "VQpJ-AlQYWkC",
        "colab_type": "code",
        "colab": {}
      },
      "source": [
        "def get_metrics(model, dataloader):\n",
        "  model.eval()\n",
        "  count = 0\n",
        "  total_predictions = 0\n",
        "  total_labels = 0\n",
        "  for inputs, target in dataloader:\n",
        "    for i in range(len(inputs)):\n",
        "      inputs[i] = inputs[i].cuda()\n",
        "      target[i][\"labels\"] = target[i][\"labels\"].cuda()\n",
        "      target[i][\"boxes\"] = target[i][\"boxes\"].cuda()\n",
        "  \n",
        "    outputs = model(inputs)\n",
        "    for i in range(len(outputs)):\n",
        "      label = (target[i][\"labels\"]).cpu().numpy()\n",
        "      pred = outputs[i]['labels'].cpu().numpy()\n",
        "      # Get number of true positives:\n",
        "      count += min(npi.in_(pred, label).sum(), npi.in_(pred, label).sum())\n",
        "      # Get total number of predictions:\n",
        "      total_predictions += len(pred)\n",
        "      total_labels += len(label)\n",
        "      # print(label, pred)\n",
        "  # Precisions = TP/(TP + FP)\n",
        "  print(count, total_predictions, total_labels)\n",
        "  if (total_predictions == 0):\n",
        "    precision = 0\n",
        "  else:\n",
        "    precision = count/total_predictions\n",
        "\n",
        "  if (total_labels == 0):\n",
        "    recall = 0\n",
        "  else:\n",
        "    recall = count/total_labels\n",
        "  return (precision, recall)"
      ],
      "execution_count": null,
      "outputs": []
    },
    {
      "cell_type": "code",
      "metadata": {
        "id": "15rSZ1EEAQi8",
        "colab_type": "code",
        "colab": {}
      },
      "source": [
        "def train_model(model, optimizer, trainloader, val_loader, num_epochs=25):\n",
        "    torch.manual_seed(42)\n",
        "    since = time.time()\n",
        "\n",
        "    for epoch in range(num_epochs):\n",
        "        print('Epoch {}/{}'.format(epoch, num_epochs - 1))\n",
        "        print('-' * 10)\n",
        "\n",
        "        # Each epoch has a training and validation phase\n",
        "        model.train()  # Set model to training mode\n",
        "\n",
        "        running_loss = 0.0\n",
        "        running_corrects = 0\n",
        "\n",
        "        # Iterate over data.\n",
        "        n = 0\n",
        "        for inputs, target in trainloader:\n",
        "            for i in range(len(inputs)):\n",
        "              inputs[i] = inputs[i].cuda()\n",
        "              target[i][\"labels\"] = target[i][\"labels\"].cuda()\n",
        "              target[i][\"boxes\"] = target[i][\"boxes\"].cuda()\n",
        "\n",
        "            # zero the parameter gradients\n",
        "            optimizer.zero_grad()\n",
        "\n",
        "            # forward\n",
        "            # track history if only in train\n",
        "            with torch.set_grad_enabled(True):\n",
        "                outputs = model(inputs, target)\n",
        "                #preds = torch.max(outputs, 1)\n",
        "                class_loss = outputs['loss_classifier']\n",
        "\n",
        "                class_loss.backward()\n",
        "                optimizer.step()\n",
        "                # statistics\n",
        "                running_loss += class_loss.item()\n",
        "                #running_corrects += torch.sum(preds == target)\n",
        "                n+=1\n",
        "            #print(\"Epoch {}, iteration {}\".format(epoch, n))\n",
        "                  \n",
        "\n",
        "        epoch_loss = running_loss / n\n",
        "        #epoch_acc = running_corrects.double() / n\n",
        "\n",
        "        print('Training Loss: {:.4f}'.format(epoch_loss))\n",
        "        #print('Training Acc: {:.4f}'.format(epoch_acc))\n",
        "        print()\n",
        "\n",
        "    time_elapsed = time.time() - since\n",
        "    print('Training complete in {:.0f}m {:.0f}s'.format(\n",
        "        time_elapsed // 60, time_elapsed % 60))\n",
        "    \"\"\"\n",
        "    print('Best val Acc: {:4f}'.format(best_acc))\n",
        "\n",
        "    # load best model weights\n",
        "    model.load_state_dict(best_model_wts)\n",
        "    \"\"\"\n",
        "    return model"
      ],
      "execution_count": null,
      "outputs": []
    },
    {
      "cell_type": "code",
      "metadata": {
        "id": "xo6uGjC6QwZM",
        "colab_type": "code",
        "colab": {}
      },
      "source": [
        "criterion = nn.CrossEntropyLoss()\n",
        "optimizer_ft = optim.Adam(model.parameters(), lr=1e-5)\n",
        "model = model.cuda()"
      ],
      "execution_count": null,
      "outputs": []
    },
    {
      "cell_type": "code",
      "metadata": {
        "id": "_zHFLgaFNW0C",
        "colab_type": "code",
        "colab": {
          "base_uri": "https://localhost:8080/",
          "height": 768
        },
        "outputId": "ace329cc-b139-4727-cd51-6166f27e33d9"
      },
      "source": [
        "model_ft = train_model(model, optimizer_ft, trainloader, val_loader,\n",
        "                       num_epochs=10)"
      ],
      "execution_count": null,
      "outputs": [
        {
          "output_type": "stream",
          "text": [
            "Epoch 0/9\n",
            "----------\n"
          ],
          "name": "stdout"
        },
        {
          "output_type": "stream",
          "text": [
            "/usr/local/lib/python3.6/dist-packages/torch/nn/functional.py:2854: UserWarning: The default behavior for interpolate/upsample with float scale_factor will change in 1.6.0 to align with other frameworks/libraries, and use scale_factor directly, instead of relying on the computed output size. If you wish to keep the old behavior, please set recompute_scale_factor=True. See the documentation of nn.Upsample for details. \n",
            "  warnings.warn(\"The default behavior for interpolate/upsample with float scale_factor will change \"\n"
          ],
          "name": "stderr"
        },
        {
          "output_type": "stream",
          "text": [
            "Training Loss: 0.1776\n",
            "\n",
            "Epoch 1/9\n",
            "----------\n",
            "Training Loss: 0.0363\n",
            "\n",
            "Epoch 2/9\n",
            "----------\n",
            "Training Loss: 0.0359\n",
            "\n",
            "Epoch 3/9\n",
            "----------\n",
            "Training Loss: 0.0359\n",
            "\n",
            "Epoch 4/9\n",
            "----------\n",
            "Training Loss: 0.0357\n",
            "\n",
            "Epoch 5/9\n",
            "----------\n",
            "Training Loss: 0.0357\n",
            "\n",
            "Epoch 6/9\n",
            "----------\n",
            "Training Loss: 0.0355\n",
            "\n",
            "Epoch 7/9\n",
            "----------\n",
            "Training Loss: 0.0357\n",
            "\n",
            "Epoch 8/9\n",
            "----------\n",
            "Training Loss: 0.0357\n",
            "\n",
            "Epoch 9/9\n",
            "----------\n",
            "Training Loss: 0.0358\n",
            "\n",
            "Training complete in 47m 21s\n"
          ],
          "name": "stdout"
        }
      ]
    },
    {
      "cell_type": "code",
      "metadata": {
        "id": "yS9hndTWyvXs",
        "colab_type": "code",
        "colab": {}
      },
      "source": [
        "class FastRCNN(nn.Module):\n",
        "    def __init__(self, input_size, hidden_size, num_classes):\n",
        "        super(FastRCNN, self).__init__()\n",
        "        self.fc1 = nn.Linear(4096, num_classes*4)\n",
        "        self.fc2 = nn.Linear(4096, num_classes)\n",
        "\n",
        "    def forward(self, x):\n",
        "        x = self.pool(F.relu(self.conv1(x)))\n",
        "        x = self.pool(F.relu(self.conv2(x)))\n"
      ],
      "execution_count": null,
      "outputs": []
    },
    {
      "cell_type": "code",
      "metadata": {
        "id": "KHD6h9VD0QIR",
        "colab_type": "code",
        "colab": {}
      },
      "source": [
        "# for each pixel on the feature map, need to generate 9 anchor boxes\n",
        "# feed in the center point of the feature\n",
        "# output the x1, y1, x2, y2 coordinates for each box\n",
        "\n",
        "class RPN(nn.Module):\n",
        "    def __init__(self, ratio=[0.5, 1, 2], anchor_size=[8, 16, 32]):\n",
        "        Super(RPN, self).__init__()\n",
        "        self.ratio = ratio\n",
        "        self.anchor_size = anchor_size\n",
        "        self.num_anchors = len(ratio)*len(anchor_size)\n"
      ],
      "execution_count": null,
      "outputs": []
    }
  ]
}